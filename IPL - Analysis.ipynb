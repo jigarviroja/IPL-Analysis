{
 "cells": [
  {
   "cell_type": "markdown",
   "metadata": {},
   "source": [
    "<img src=\"images/IPL.jpg\" width=\"750\" height=\"300\">"
   ]
  },
  {
   "cell_type": "code",
   "execution_count": 1,
   "metadata": {},
   "outputs": [
    {
     "data": {
      "text/html": [
       "        <script type=\"text/javascript\">\n",
       "        window.PlotlyConfig = {MathJaxConfig: 'local'};\n",
       "        if (window.MathJax) {MathJax.Hub.Config({SVG: {font: \"STIX-Web\"}});}\n",
       "        if (typeof require !== 'undefined') {\n",
       "        require.undef(\"plotly\");\n",
       "        requirejs.config({\n",
       "            paths: {\n",
       "                'plotly': ['https://cdn.plot.ly/plotly-latest.min']\n",
       "            }\n",
       "        });\n",
       "        require(['plotly'], function(Plotly) {\n",
       "            window._Plotly = Plotly;\n",
       "        });\n",
       "        }\n",
       "        </script>\n",
       "        "
      ]
     },
     "metadata": {},
     "output_type": "display_data"
    },
    {
     "data": {
      "text/html": [
       "        <script type=\"text/javascript\">\n",
       "        window.PlotlyConfig = {MathJaxConfig: 'local'};\n",
       "        if (window.MathJax) {MathJax.Hub.Config({SVG: {font: \"STIX-Web\"}});}\n",
       "        if (typeof require !== 'undefined') {\n",
       "        require.undef(\"plotly\");\n",
       "        requirejs.config({\n",
       "            paths: {\n",
       "                'plotly': ['https://cdn.plot.ly/plotly-latest.min']\n",
       "            }\n",
       "        });\n",
       "        require(['plotly'], function(Plotly) {\n",
       "            window._Plotly = Plotly;\n",
       "        });\n",
       "        }\n",
       "        </script>\n",
       "        "
      ]
     },
     "metadata": {},
     "output_type": "display_data"
    }
   ],
   "source": [
    "import pandas as pd\n",
    "import numpy as np\n",
    "import matplotlib.pyplot as plt\n",
    "from matplotlib import style\n",
    "import plotly.express as px\n",
    "import plotly.graph_objects as go\n",
    "style.use('ggplot')\n",
    "%matplotlib inline\n",
    "\n",
    "import seaborn as sns\n",
    "from plotly.offline import download_plotlyjs,init_notebook_mode,plot,iplot\n",
    "\n",
    "import cufflinks as cf\n",
    "\n",
    "init_notebook_mode(connected=True)\n",
    "\n",
    "cf.go_offline()"
   ]
  },
  {
   "cell_type": "code",
   "execution_count": null,
   "metadata": {},
   "outputs": [],
   "source": []
  },
  {
   "cell_type": "markdown",
   "metadata": {},
   "source": [
    "## Match Anaysis "
   ]
  },
  {
   "cell_type": "code",
   "execution_count": 2,
   "metadata": {},
   "outputs": [],
   "source": [
    "matches = pd.read_csv(r'I:\\Python\\Projects\\IPL\\dataset\\2008_2018\\matches.csv')"
   ]
  },
  {
   "cell_type": "code",
   "execution_count": 3,
   "metadata": {},
   "outputs": [
    {
     "data": {
      "text/html": [
       "<div>\n",
       "<style scoped>\n",
       "    .dataframe tbody tr th:only-of-type {\n",
       "        vertical-align: middle;\n",
       "    }\n",
       "\n",
       "    .dataframe tbody tr th {\n",
       "        vertical-align: top;\n",
       "    }\n",
       "\n",
       "    .dataframe thead th {\n",
       "        text-align: right;\n",
       "    }\n",
       "</style>\n",
       "<table border=\"1\" class=\"dataframe\">\n",
       "  <thead>\n",
       "    <tr style=\"text-align: right;\">\n",
       "      <th></th>\n",
       "      <th>id</th>\n",
       "      <th>season</th>\n",
       "      <th>city</th>\n",
       "      <th>date</th>\n",
       "      <th>team1</th>\n",
       "      <th>team2</th>\n",
       "      <th>toss_winner</th>\n",
       "      <th>toss_decision</th>\n",
       "      <th>result</th>\n",
       "      <th>dl_applied</th>\n",
       "      <th>winner</th>\n",
       "      <th>win_by_runs</th>\n",
       "      <th>win_by_wickets</th>\n",
       "      <th>player_of_match</th>\n",
       "      <th>venue</th>\n",
       "      <th>umpire1</th>\n",
       "      <th>umpire2</th>\n",
       "      <th>umpire3</th>\n",
       "    </tr>\n",
       "  </thead>\n",
       "  <tbody>\n",
       "    <tr>\n",
       "      <th>0</th>\n",
       "      <td>1</td>\n",
       "      <td>2017</td>\n",
       "      <td>Hyderabad</td>\n",
       "      <td>05-04-2017</td>\n",
       "      <td>Sunrisers Hyderabad</td>\n",
       "      <td>Royal Challengers Bangalore</td>\n",
       "      <td>Royal Challengers Bangalore</td>\n",
       "      <td>field</td>\n",
       "      <td>normal</td>\n",
       "      <td>0</td>\n",
       "      <td>Sunrisers Hyderabad</td>\n",
       "      <td>35</td>\n",
       "      <td>0</td>\n",
       "      <td>Yuvraj Singh</td>\n",
       "      <td>Rajiv Gandhi International Stadium, Uppal</td>\n",
       "      <td>AY Dandekar</td>\n",
       "      <td>NJ Llong</td>\n",
       "      <td>NaN</td>\n",
       "    </tr>\n",
       "    <tr>\n",
       "      <th>1</th>\n",
       "      <td>2</td>\n",
       "      <td>2017</td>\n",
       "      <td>Pune</td>\n",
       "      <td>06-04-2017</td>\n",
       "      <td>Mumbai Indians</td>\n",
       "      <td>Rising Pune Supergiant</td>\n",
       "      <td>Rising Pune Supergiant</td>\n",
       "      <td>field</td>\n",
       "      <td>normal</td>\n",
       "      <td>0</td>\n",
       "      <td>Rising Pune Supergiant</td>\n",
       "      <td>0</td>\n",
       "      <td>7</td>\n",
       "      <td>SPD Smith</td>\n",
       "      <td>Maharashtra Cricket Association Stadium</td>\n",
       "      <td>A Nand Kishore</td>\n",
       "      <td>S Ravi</td>\n",
       "      <td>NaN</td>\n",
       "    </tr>\n",
       "    <tr>\n",
       "      <th>2</th>\n",
       "      <td>3</td>\n",
       "      <td>2017</td>\n",
       "      <td>Rajkot</td>\n",
       "      <td>07-04-2017</td>\n",
       "      <td>Gujarat Lions</td>\n",
       "      <td>Kolkata Knight Riders</td>\n",
       "      <td>Kolkata Knight Riders</td>\n",
       "      <td>field</td>\n",
       "      <td>normal</td>\n",
       "      <td>0</td>\n",
       "      <td>Kolkata Knight Riders</td>\n",
       "      <td>0</td>\n",
       "      <td>10</td>\n",
       "      <td>CA Lynn</td>\n",
       "      <td>Saurashtra Cricket Association Stadium</td>\n",
       "      <td>Nitin Menon</td>\n",
       "      <td>CK Nandan</td>\n",
       "      <td>NaN</td>\n",
       "    </tr>\n",
       "    <tr>\n",
       "      <th>3</th>\n",
       "      <td>4</td>\n",
       "      <td>2017</td>\n",
       "      <td>Indore</td>\n",
       "      <td>08-04-2017</td>\n",
       "      <td>Rising Pune Supergiant</td>\n",
       "      <td>Kings XI Punjab</td>\n",
       "      <td>Kings XI Punjab</td>\n",
       "      <td>field</td>\n",
       "      <td>normal</td>\n",
       "      <td>0</td>\n",
       "      <td>Kings XI Punjab</td>\n",
       "      <td>0</td>\n",
       "      <td>6</td>\n",
       "      <td>GJ Maxwell</td>\n",
       "      <td>Holkar Cricket Stadium</td>\n",
       "      <td>AK Chaudhary</td>\n",
       "      <td>C Shamshuddin</td>\n",
       "      <td>NaN</td>\n",
       "    </tr>\n",
       "    <tr>\n",
       "      <th>4</th>\n",
       "      <td>5</td>\n",
       "      <td>2017</td>\n",
       "      <td>Bangalore</td>\n",
       "      <td>08-04-2017</td>\n",
       "      <td>Royal Challengers Bangalore</td>\n",
       "      <td>Delhi Daredevils</td>\n",
       "      <td>Royal Challengers Bangalore</td>\n",
       "      <td>bat</td>\n",
       "      <td>normal</td>\n",
       "      <td>0</td>\n",
       "      <td>Royal Challengers Bangalore</td>\n",
       "      <td>15</td>\n",
       "      <td>0</td>\n",
       "      <td>KM Jadhav</td>\n",
       "      <td>M Chinnaswamy Stadium</td>\n",
       "      <td>NaN</td>\n",
       "      <td>NaN</td>\n",
       "      <td>NaN</td>\n",
       "    </tr>\n",
       "  </tbody>\n",
       "</table>\n",
       "</div>"
      ],
      "text/plain": [
       "   id  season       city        date                        team1  \\\n",
       "0   1    2017  Hyderabad  05-04-2017          Sunrisers Hyderabad   \n",
       "1   2    2017       Pune  06-04-2017               Mumbai Indians   \n",
       "2   3    2017     Rajkot  07-04-2017                Gujarat Lions   \n",
       "3   4    2017     Indore  08-04-2017       Rising Pune Supergiant   \n",
       "4   5    2017  Bangalore  08-04-2017  Royal Challengers Bangalore   \n",
       "\n",
       "                         team2                  toss_winner toss_decision  \\\n",
       "0  Royal Challengers Bangalore  Royal Challengers Bangalore         field   \n",
       "1       Rising Pune Supergiant       Rising Pune Supergiant         field   \n",
       "2        Kolkata Knight Riders        Kolkata Knight Riders         field   \n",
       "3              Kings XI Punjab              Kings XI Punjab         field   \n",
       "4             Delhi Daredevils  Royal Challengers Bangalore           bat   \n",
       "\n",
       "   result  dl_applied                       winner  win_by_runs  \\\n",
       "0  normal           0          Sunrisers Hyderabad           35   \n",
       "1  normal           0       Rising Pune Supergiant            0   \n",
       "2  normal           0        Kolkata Knight Riders            0   \n",
       "3  normal           0              Kings XI Punjab            0   \n",
       "4  normal           0  Royal Challengers Bangalore           15   \n",
       "\n",
       "   win_by_wickets player_of_match                                      venue  \\\n",
       "0               0    Yuvraj Singh  Rajiv Gandhi International Stadium, Uppal   \n",
       "1               7       SPD Smith    Maharashtra Cricket Association Stadium   \n",
       "2              10         CA Lynn     Saurashtra Cricket Association Stadium   \n",
       "3               6      GJ Maxwell                     Holkar Cricket Stadium   \n",
       "4               0       KM Jadhav                      M Chinnaswamy Stadium   \n",
       "\n",
       "          umpire1        umpire2 umpire3  \n",
       "0     AY Dandekar       NJ Llong     NaN  \n",
       "1  A Nand Kishore         S Ravi     NaN  \n",
       "2     Nitin Menon      CK Nandan     NaN  \n",
       "3    AK Chaudhary  C Shamshuddin     NaN  \n",
       "4             NaN            NaN     NaN  "
      ]
     },
     "execution_count": 3,
     "metadata": {},
     "output_type": "execute_result"
    }
   ],
   "source": [
    "matches.head()"
   ]
  },
  {
   "cell_type": "code",
   "execution_count": 4,
   "metadata": {},
   "outputs": [
    {
     "name": "stdout",
     "output_type": "stream",
     "text": [
      "<class 'pandas.core.frame.DataFrame'>\n",
      "RangeIndex: 696 entries, 0 to 695\n",
      "Data columns (total 18 columns):\n",
      " #   Column           Non-Null Count  Dtype \n",
      "---  ------           --------------  ----- \n",
      " 0   id               696 non-null    int64 \n",
      " 1   season           696 non-null    int64 \n",
      " 2   city             689 non-null    object\n",
      " 3   date             696 non-null    object\n",
      " 4   team1            696 non-null    object\n",
      " 5   team2            696 non-null    object\n",
      " 6   toss_winner      696 non-null    object\n",
      " 7   toss_decision    696 non-null    object\n",
      " 8   result           696 non-null    object\n",
      " 9   dl_applied       696 non-null    int64 \n",
      " 10  winner           693 non-null    object\n",
      " 11  win_by_runs      696 non-null    int64 \n",
      " 12  win_by_wickets   696 non-null    int64 \n",
      " 13  player_of_match  693 non-null    object\n",
      " 14  venue            696 non-null    object\n",
      " 15  umpire1          695 non-null    object\n",
      " 16  umpire2          695 non-null    object\n",
      " 17  umpire3          60 non-null     object\n",
      "dtypes: int64(5), object(13)\n",
      "memory usage: 98.0+ KB\n"
     ]
    }
   ],
   "source": [
    "matches.info()"
   ]
  },
  {
   "cell_type": "code",
   "execution_count": 5,
   "metadata": {},
   "outputs": [
    {
     "data": {
      "text/html": [
       "<div>\n",
       "<style scoped>\n",
       "    .dataframe tbody tr th:only-of-type {\n",
       "        vertical-align: middle;\n",
       "    }\n",
       "\n",
       "    .dataframe tbody tr th {\n",
       "        vertical-align: top;\n",
       "    }\n",
       "\n",
       "    .dataframe thead th {\n",
       "        text-align: right;\n",
       "    }\n",
       "</style>\n",
       "<table border=\"1\" class=\"dataframe\">\n",
       "  <thead>\n",
       "    <tr style=\"text-align: right;\">\n",
       "      <th></th>\n",
       "      <th>id</th>\n",
       "      <th>season</th>\n",
       "      <th>dl_applied</th>\n",
       "      <th>win_by_runs</th>\n",
       "      <th>win_by_wickets</th>\n",
       "    </tr>\n",
       "  </thead>\n",
       "  <tbody>\n",
       "    <tr>\n",
       "      <th>count</th>\n",
       "      <td>696.000000</td>\n",
       "      <td>696.000000</td>\n",
       "      <td>696.000000</td>\n",
       "      <td>696.000000</td>\n",
       "      <td>696.000000</td>\n",
       "    </tr>\n",
       "    <tr>\n",
       "      <th>mean</th>\n",
       "      <td>974.103448</td>\n",
       "      <td>2012.965517</td>\n",
       "      <td>0.027299</td>\n",
       "      <td>13.472701</td>\n",
       "      <td>3.349138</td>\n",
       "    </tr>\n",
       "    <tr>\n",
       "      <th>std</th>\n",
       "      <td>2143.239623</td>\n",
       "      <td>3.069266</td>\n",
       "      <td>0.163070</td>\n",
       "      <td>23.607994</td>\n",
       "      <td>3.411398</td>\n",
       "    </tr>\n",
       "    <tr>\n",
       "      <th>min</th>\n",
       "      <td>1.000000</td>\n",
       "      <td>2008.000000</td>\n",
       "      <td>0.000000</td>\n",
       "      <td>0.000000</td>\n",
       "      <td>0.000000</td>\n",
       "    </tr>\n",
       "    <tr>\n",
       "      <th>25%</th>\n",
       "      <td>174.750000</td>\n",
       "      <td>2010.000000</td>\n",
       "      <td>0.000000</td>\n",
       "      <td>0.000000</td>\n",
       "      <td>0.000000</td>\n",
       "    </tr>\n",
       "    <tr>\n",
       "      <th>50%</th>\n",
       "      <td>348.500000</td>\n",
       "      <td>2013.000000</td>\n",
       "      <td>0.000000</td>\n",
       "      <td>0.000000</td>\n",
       "      <td>3.000000</td>\n",
       "    </tr>\n",
       "    <tr>\n",
       "      <th>75%</th>\n",
       "      <td>522.250000</td>\n",
       "      <td>2016.000000</td>\n",
       "      <td>0.000000</td>\n",
       "      <td>19.000000</td>\n",
       "      <td>6.000000</td>\n",
       "    </tr>\n",
       "    <tr>\n",
       "      <th>max</th>\n",
       "      <td>7953.000000</td>\n",
       "      <td>2018.000000</td>\n",
       "      <td>1.000000</td>\n",
       "      <td>146.000000</td>\n",
       "      <td>10.000000</td>\n",
       "    </tr>\n",
       "  </tbody>\n",
       "</table>\n",
       "</div>"
      ],
      "text/plain": [
       "                id       season  dl_applied  win_by_runs  win_by_wickets\n",
       "count   696.000000   696.000000  696.000000   696.000000      696.000000\n",
       "mean    974.103448  2012.965517    0.027299    13.472701        3.349138\n",
       "std    2143.239623     3.069266    0.163070    23.607994        3.411398\n",
       "min       1.000000  2008.000000    0.000000     0.000000        0.000000\n",
       "25%     174.750000  2010.000000    0.000000     0.000000        0.000000\n",
       "50%     348.500000  2013.000000    0.000000     0.000000        3.000000\n",
       "75%     522.250000  2016.000000    0.000000    19.000000        6.000000\n",
       "max    7953.000000  2018.000000    1.000000   146.000000       10.000000"
      ]
     },
     "execution_count": 5,
     "metadata": {},
     "output_type": "execute_result"
    }
   ],
   "source": [
    "matches.describe()"
   ]
  },
  {
   "cell_type": "code",
   "execution_count": 6,
   "metadata": {},
   "outputs": [
    {
     "name": "stdout",
     "output_type": "stream",
     "text": [
      "Total Season of IPL : 11\n",
      "Total Matches from 2008 to 2019 : 696\n"
     ]
    }
   ],
   "source": [
    "seasons = matches['season'].nunique()\n",
    "print(f'Total Season of IPL : {seasons}')\n",
    "\n",
    "total_matches = matches['id'].count()\n",
    "print(f'Total Matches from 2008 to 2019 : {total_matches}')"
   ]
  },
  {
   "cell_type": "code",
   "execution_count": null,
   "metadata": {},
   "outputs": [],
   "source": []
  },
  {
   "cell_type": "code",
   "execution_count": 7,
   "metadata": {},
   "outputs": [
    {
     "data": {
      "text/html": [
       "<div>\n",
       "<style scoped>\n",
       "    .dataframe tbody tr th:only-of-type {\n",
       "        vertical-align: middle;\n",
       "    }\n",
       "\n",
       "    .dataframe tbody tr th {\n",
       "        vertical-align: top;\n",
       "    }\n",
       "\n",
       "    .dataframe thead th {\n",
       "        text-align: right;\n",
       "    }\n",
       "</style>\n",
       "<table border=\"1\" class=\"dataframe\">\n",
       "  <thead>\n",
       "    <tr style=\"text-align: right;\">\n",
       "      <th></th>\n",
       "      <th>id</th>\n",
       "      <th>season</th>\n",
       "      <th>city</th>\n",
       "      <th>date</th>\n",
       "      <th>team1</th>\n",
       "      <th>team2</th>\n",
       "      <th>toss_winner</th>\n",
       "      <th>toss_decision</th>\n",
       "      <th>result</th>\n",
       "      <th>dl_applied</th>\n",
       "      <th>winner</th>\n",
       "      <th>win_by_runs</th>\n",
       "      <th>win_by_wickets</th>\n",
       "      <th>player_of_match</th>\n",
       "      <th>venue</th>\n",
       "      <th>umpire1</th>\n",
       "      <th>umpire2</th>\n",
       "      <th>umpire3</th>\n",
       "    </tr>\n",
       "  </thead>\n",
       "  <tbody>\n",
       "    <tr>\n",
       "      <th>0</th>\n",
       "      <td>1</td>\n",
       "      <td>2017</td>\n",
       "      <td>Hyderabad</td>\n",
       "      <td>05-04-2017</td>\n",
       "      <td>Sunrisers Hyderabad</td>\n",
       "      <td>Royal Challengers Bangalore</td>\n",
       "      <td>Royal Challengers Bangalore</td>\n",
       "      <td>field</td>\n",
       "      <td>normal</td>\n",
       "      <td>0</td>\n",
       "      <td>Sunrisers Hyderabad</td>\n",
       "      <td>35</td>\n",
       "      <td>0</td>\n",
       "      <td>Yuvraj Singh</td>\n",
       "      <td>Rajiv Gandhi International Stadium, Uppal</td>\n",
       "      <td>AY Dandekar</td>\n",
       "      <td>NJ Llong</td>\n",
       "      <td>NaN</td>\n",
       "    </tr>\n",
       "    <tr>\n",
       "      <th>1</th>\n",
       "      <td>2</td>\n",
       "      <td>2017</td>\n",
       "      <td>Pune</td>\n",
       "      <td>06-04-2017</td>\n",
       "      <td>Mumbai Indians</td>\n",
       "      <td>Rising Pune Supergiant</td>\n",
       "      <td>Rising Pune Supergiant</td>\n",
       "      <td>field</td>\n",
       "      <td>normal</td>\n",
       "      <td>0</td>\n",
       "      <td>Rising Pune Supergiant</td>\n",
       "      <td>0</td>\n",
       "      <td>7</td>\n",
       "      <td>SPD Smith</td>\n",
       "      <td>Maharashtra Cricket Association Stadium</td>\n",
       "      <td>A Nand Kishore</td>\n",
       "      <td>S Ravi</td>\n",
       "      <td>NaN</td>\n",
       "    </tr>\n",
       "  </tbody>\n",
       "</table>\n",
       "</div>"
      ],
      "text/plain": [
       "   id  season       city        date                team1  \\\n",
       "0   1    2017  Hyderabad  05-04-2017  Sunrisers Hyderabad   \n",
       "1   2    2017       Pune  06-04-2017       Mumbai Indians   \n",
       "\n",
       "                         team2                  toss_winner toss_decision  \\\n",
       "0  Royal Challengers Bangalore  Royal Challengers Bangalore         field   \n",
       "1       Rising Pune Supergiant       Rising Pune Supergiant         field   \n",
       "\n",
       "   result  dl_applied                  winner  win_by_runs  win_by_wickets  \\\n",
       "0  normal           0     Sunrisers Hyderabad           35               0   \n",
       "1  normal           0  Rising Pune Supergiant            0               7   \n",
       "\n",
       "  player_of_match                                      venue         umpire1  \\\n",
       "0    Yuvraj Singh  Rajiv Gandhi International Stadium, Uppal     AY Dandekar   \n",
       "1       SPD Smith    Maharashtra Cricket Association Stadium  A Nand Kishore   \n",
       "\n",
       "    umpire2 umpire3  \n",
       "0  NJ Llong     NaN  \n",
       "1    S Ravi     NaN  "
      ]
     },
     "execution_count": 7,
     "metadata": {},
     "output_type": "execute_result"
    }
   ],
   "source": [
    "matches.head(2)"
   ]
  },
  {
   "cell_type": "code",
   "execution_count": 8,
   "metadata": {},
   "outputs": [
    {
     "name": "stdout",
     "output_type": "stream",
     "text": [
      "Total Teams in IPL history : 14\n"
     ]
    }
   ],
   "source": [
    "teams = matches['team1'].nunique()\n",
    "print(f'Total Teams in IPL history : {teams}')"
   ]
  },
  {
   "cell_type": "markdown",
   "metadata": {},
   "source": [
    "## Teams in IPL history"
   ]
  },
  {
   "cell_type": "code",
   "execution_count": 9,
   "metadata": {
    "scrolled": false
   },
   "outputs": [
    {
     "data": {
      "text/html": [
       "<div>\n",
       "<style scoped>\n",
       "    .dataframe tbody tr th:only-of-type {\n",
       "        vertical-align: middle;\n",
       "    }\n",
       "\n",
       "    .dataframe tbody tr th {\n",
       "        vertical-align: top;\n",
       "    }\n",
       "\n",
       "    .dataframe thead th {\n",
       "        text-align: right;\n",
       "    }\n",
       "</style>\n",
       "<table border=\"1\" class=\"dataframe\">\n",
       "  <thead>\n",
       "    <tr style=\"text-align: right;\">\n",
       "      <th></th>\n",
       "      <th>Teams</th>\n",
       "    </tr>\n",
       "  </thead>\n",
       "  <tbody>\n",
       "    <tr>\n",
       "      <th>0</th>\n",
       "      <td>Sunrisers Hyderabad</td>\n",
       "    </tr>\n",
       "    <tr>\n",
       "      <th>1</th>\n",
       "      <td>Mumbai Indians</td>\n",
       "    </tr>\n",
       "    <tr>\n",
       "      <th>2</th>\n",
       "      <td>Gujarat Lions</td>\n",
       "    </tr>\n",
       "    <tr>\n",
       "      <th>3</th>\n",
       "      <td>Rising Pune Supergiant</td>\n",
       "    </tr>\n",
       "    <tr>\n",
       "      <th>4</th>\n",
       "      <td>Royal Challengers Bangalore</td>\n",
       "    </tr>\n",
       "    <tr>\n",
       "      <th>5</th>\n",
       "      <td>Kolkata Knight Riders</td>\n",
       "    </tr>\n",
       "    <tr>\n",
       "      <th>6</th>\n",
       "      <td>Delhi Daredevils</td>\n",
       "    </tr>\n",
       "    <tr>\n",
       "      <th>7</th>\n",
       "      <td>Kings XI Punjab</td>\n",
       "    </tr>\n",
       "    <tr>\n",
       "      <th>8</th>\n",
       "      <td>Chennai Super Kings</td>\n",
       "    </tr>\n",
       "    <tr>\n",
       "      <th>9</th>\n",
       "      <td>Rajasthan Royals</td>\n",
       "    </tr>\n",
       "    <tr>\n",
       "      <th>10</th>\n",
       "      <td>Deccan Chargers</td>\n",
       "    </tr>\n",
       "    <tr>\n",
       "      <th>11</th>\n",
       "      <td>Kochi Tuskers Kerala</td>\n",
       "    </tr>\n",
       "    <tr>\n",
       "      <th>12</th>\n",
       "      <td>Pune Warriors</td>\n",
       "    </tr>\n",
       "    <tr>\n",
       "      <th>13</th>\n",
       "      <td>Rising Pune Supergiants</td>\n",
       "    </tr>\n",
       "  </tbody>\n",
       "</table>\n",
       "</div>"
      ],
      "text/plain": [
       "                          Teams\n",
       "0           Sunrisers Hyderabad\n",
       "1                Mumbai Indians\n",
       "2                 Gujarat Lions\n",
       "3        Rising Pune Supergiant\n",
       "4   Royal Challengers Bangalore\n",
       "5         Kolkata Knight Riders\n",
       "6              Delhi Daredevils\n",
       "7               Kings XI Punjab\n",
       "8           Chennai Super Kings\n",
       "9              Rajasthan Royals\n",
       "10              Deccan Chargers\n",
       "11         Kochi Tuskers Kerala\n",
       "12                Pune Warriors\n",
       "13      Rising Pune Supergiants"
      ]
     },
     "execution_count": 9,
     "metadata": {},
     "output_type": "execute_result"
    }
   ],
   "source": [
    "teams = pd.DataFrame(matches['team1'].unique(),columns=['Teams'])\n",
    "teams"
   ]
  },
  {
   "cell_type": "code",
   "execution_count": null,
   "metadata": {},
   "outputs": [],
   "source": []
  },
  {
   "cell_type": "markdown",
   "metadata": {},
   "source": [
    "## venue"
   ]
  },
  {
   "cell_type": "code",
   "execution_count": 10,
   "metadata": {},
   "outputs": [
    {
     "name": "stdout",
     "output_type": "stream",
     "text": [
      "Total Venues : 35\n"
     ]
    }
   ],
   "source": [
    "venue = matches['venue'].nunique()\n",
    "print(f'Total Venues : {venue}')"
   ]
  },
  {
   "cell_type": "code",
   "execution_count": 11,
   "metadata": {},
   "outputs": [
    {
     "data": {
      "text/html": [
       "<div>\n",
       "<style scoped>\n",
       "    .dataframe tbody tr th:only-of-type {\n",
       "        vertical-align: middle;\n",
       "    }\n",
       "\n",
       "    .dataframe tbody tr th {\n",
       "        vertical-align: top;\n",
       "    }\n",
       "\n",
       "    .dataframe thead th {\n",
       "        text-align: right;\n",
       "    }\n",
       "</style>\n",
       "<table border=\"1\" class=\"dataframe\">\n",
       "  <thead>\n",
       "    <tr style=\"text-align: right;\">\n",
       "      <th></th>\n",
       "      <th>Venue</th>\n",
       "    </tr>\n",
       "  </thead>\n",
       "  <tbody>\n",
       "    <tr>\n",
       "      <th>0</th>\n",
       "      <td>Rajiv Gandhi International Stadium, Uppal</td>\n",
       "    </tr>\n",
       "    <tr>\n",
       "      <th>1</th>\n",
       "      <td>Maharashtra Cricket Association Stadium</td>\n",
       "    </tr>\n",
       "    <tr>\n",
       "      <th>2</th>\n",
       "      <td>Saurashtra Cricket Association Stadium</td>\n",
       "    </tr>\n",
       "    <tr>\n",
       "      <th>3</th>\n",
       "      <td>Holkar Cricket Stadium</td>\n",
       "    </tr>\n",
       "    <tr>\n",
       "      <th>4</th>\n",
       "      <td>M Chinnaswamy Stadium</td>\n",
       "    </tr>\n",
       "    <tr>\n",
       "      <th>5</th>\n",
       "      <td>Wankhede Stadium</td>\n",
       "    </tr>\n",
       "    <tr>\n",
       "      <th>6</th>\n",
       "      <td>Eden Gardens</td>\n",
       "    </tr>\n",
       "    <tr>\n",
       "      <th>7</th>\n",
       "      <td>Feroz Shah Kotla</td>\n",
       "    </tr>\n",
       "    <tr>\n",
       "      <th>8</th>\n",
       "      <td>Punjab Cricket Association IS Bindra Stadium, ...</td>\n",
       "    </tr>\n",
       "    <tr>\n",
       "      <th>9</th>\n",
       "      <td>Green Park</td>\n",
       "    </tr>\n",
       "    <tr>\n",
       "      <th>10</th>\n",
       "      <td>Punjab Cricket Association Stadium, Mohali</td>\n",
       "    </tr>\n",
       "    <tr>\n",
       "      <th>11</th>\n",
       "      <td>Sawai Mansingh Stadium</td>\n",
       "    </tr>\n",
       "    <tr>\n",
       "      <th>12</th>\n",
       "      <td>MA Chidambaram Stadium, Chepauk</td>\n",
       "    </tr>\n",
       "    <tr>\n",
       "      <th>13</th>\n",
       "      <td>Dr DY Patil Sports Academy</td>\n",
       "    </tr>\n",
       "    <tr>\n",
       "      <th>14</th>\n",
       "      <td>Newlands</td>\n",
       "    </tr>\n",
       "    <tr>\n",
       "      <th>15</th>\n",
       "      <td>St George's Park</td>\n",
       "    </tr>\n",
       "    <tr>\n",
       "      <th>16</th>\n",
       "      <td>Kingsmead</td>\n",
       "    </tr>\n",
       "    <tr>\n",
       "      <th>17</th>\n",
       "      <td>SuperSport Park</td>\n",
       "    </tr>\n",
       "    <tr>\n",
       "      <th>18</th>\n",
       "      <td>Buffalo Park</td>\n",
       "    </tr>\n",
       "    <tr>\n",
       "      <th>19</th>\n",
       "      <td>New Wanderers Stadium</td>\n",
       "    </tr>\n",
       "    <tr>\n",
       "      <th>20</th>\n",
       "      <td>De Beers Diamond Oval</td>\n",
       "    </tr>\n",
       "    <tr>\n",
       "      <th>21</th>\n",
       "      <td>OUTsurance Oval</td>\n",
       "    </tr>\n",
       "    <tr>\n",
       "      <th>22</th>\n",
       "      <td>Brabourne Stadium</td>\n",
       "    </tr>\n",
       "    <tr>\n",
       "      <th>23</th>\n",
       "      <td>Sardar Patel Stadium, Motera</td>\n",
       "    </tr>\n",
       "    <tr>\n",
       "      <th>24</th>\n",
       "      <td>Barabati Stadium</td>\n",
       "    </tr>\n",
       "    <tr>\n",
       "      <th>25</th>\n",
       "      <td>Vidarbha Cricket Association Stadium, Jamtha</td>\n",
       "    </tr>\n",
       "    <tr>\n",
       "      <th>26</th>\n",
       "      <td>Himachal Pradesh Cricket Association Stadium</td>\n",
       "    </tr>\n",
       "    <tr>\n",
       "      <th>27</th>\n",
       "      <td>Nehru Stadium</td>\n",
       "    </tr>\n",
       "    <tr>\n",
       "      <th>28</th>\n",
       "      <td>Dr. Y.S. Rajasekhara Reddy ACA-VDCA Cricket St...</td>\n",
       "    </tr>\n",
       "    <tr>\n",
       "      <th>29</th>\n",
       "      <td>Subrata Roy Sahara Stadium</td>\n",
       "    </tr>\n",
       "    <tr>\n",
       "      <th>30</th>\n",
       "      <td>Shaheed Veer Narayan Singh International Stadium</td>\n",
       "    </tr>\n",
       "    <tr>\n",
       "      <th>31</th>\n",
       "      <td>JSCA International Stadium Complex</td>\n",
       "    </tr>\n",
       "    <tr>\n",
       "      <th>32</th>\n",
       "      <td>Sheikh Zayed Stadium</td>\n",
       "    </tr>\n",
       "    <tr>\n",
       "      <th>33</th>\n",
       "      <td>Sharjah Cricket Stadium</td>\n",
       "    </tr>\n",
       "    <tr>\n",
       "      <th>34</th>\n",
       "      <td>Dubai International Cricket Stadium</td>\n",
       "    </tr>\n",
       "  </tbody>\n",
       "</table>\n",
       "</div>"
      ],
      "text/plain": [
       "                                                Venue\n",
       "0           Rajiv Gandhi International Stadium, Uppal\n",
       "1             Maharashtra Cricket Association Stadium\n",
       "2              Saurashtra Cricket Association Stadium\n",
       "3                              Holkar Cricket Stadium\n",
       "4                               M Chinnaswamy Stadium\n",
       "5                                    Wankhede Stadium\n",
       "6                                        Eden Gardens\n",
       "7                                    Feroz Shah Kotla\n",
       "8   Punjab Cricket Association IS Bindra Stadium, ...\n",
       "9                                          Green Park\n",
       "10         Punjab Cricket Association Stadium, Mohali\n",
       "11                             Sawai Mansingh Stadium\n",
       "12                    MA Chidambaram Stadium, Chepauk\n",
       "13                         Dr DY Patil Sports Academy\n",
       "14                                           Newlands\n",
       "15                                   St George's Park\n",
       "16                                          Kingsmead\n",
       "17                                    SuperSport Park\n",
       "18                                       Buffalo Park\n",
       "19                              New Wanderers Stadium\n",
       "20                              De Beers Diamond Oval\n",
       "21                                    OUTsurance Oval\n",
       "22                                  Brabourne Stadium\n",
       "23                       Sardar Patel Stadium, Motera\n",
       "24                                   Barabati Stadium\n",
       "25       Vidarbha Cricket Association Stadium, Jamtha\n",
       "26       Himachal Pradesh Cricket Association Stadium\n",
       "27                                      Nehru Stadium\n",
       "28  Dr. Y.S. Rajasekhara Reddy ACA-VDCA Cricket St...\n",
       "29                         Subrata Roy Sahara Stadium\n",
       "30   Shaheed Veer Narayan Singh International Stadium\n",
       "31                 JSCA International Stadium Complex\n",
       "32                               Sheikh Zayed Stadium\n",
       "33                            Sharjah Cricket Stadium\n",
       "34                Dubai International Cricket Stadium"
      ]
     },
     "execution_count": 11,
     "metadata": {},
     "output_type": "execute_result"
    }
   ],
   "source": [
    "venue = pd.DataFrame(matches['venue'].unique(),columns=['Venue'])\n",
    "venue"
   ]
  },
  {
   "cell_type": "code",
   "execution_count": null,
   "metadata": {},
   "outputs": [],
   "source": []
  },
  {
   "cell_type": "code",
   "execution_count": null,
   "metadata": {},
   "outputs": [],
   "source": []
  },
  {
   "cell_type": "markdown",
   "metadata": {},
   "source": [
    "## Matches per Season"
   ]
  },
  {
   "cell_type": "code",
   "execution_count": 12,
   "metadata": {},
   "outputs": [
    {
     "name": "stdout",
     "output_type": "stream",
     "text": [
      "Matches per Season : \n",
      "2013    76\n",
      "2012    74\n",
      "2011    73\n",
      "2018    60\n",
      "2016    60\n",
      "2014    60\n",
      "2010    60\n",
      "2017    59\n",
      "2015    59\n",
      "2008    58\n",
      "2009    57\n",
      "Name: season, dtype: int64\n"
     ]
    }
   ],
   "source": [
    "print(f'Matches per Season : \\n{matches[\"season\"].value_counts()}')"
   ]
  },
  {
   "cell_type": "code",
   "execution_count": 13,
   "metadata": {},
   "outputs": [
    {
     "data": {
      "text/plain": [
       "<matplotlib.axes._subplots.AxesSubplot at 0x1c9f05ec860>"
      ]
     },
     "execution_count": 13,
     "metadata": {},
     "output_type": "execute_result"
    },
    {
     "data": {
      "image/png": "[encoded data removed]",
      "text/plain": [
       "<Figure size 864x360 with 1 Axes>"
      ]
     },
     "metadata": {
      "needs_background": "light"
     },
     "output_type": "display_data"
    }
   ],
   "source": [
    "plt.figure(figsize=(12,5))\n",
    "sns.countplot(x='season',data=matches)   #2011,2012,2013 was season in which highest matches were played"
   ]
  },
  {
   "cell_type": "markdown",
   "metadata": {},
   "source": [
    "## Matches played on several venues"
   ]
  },
  {
   "cell_type": "code",
   "execution_count": 14,
   "metadata": {},
   "outputs": [
    {
     "data": {
      "text/html": [
       "<style  type=\"text/css\" >\n",
       "    #T_daeec118_d16e_11ea_935a_507b9dfcf050row0_col0 {\n",
       "            background-color:  #67000d;\n",
       "            color:  #f1f1f1;\n",
       "        }    #T_daeec118_d16e_11ea_935a_507b9dfcf050row1_col0 {\n",
       "            background-color:  #7a0510;\n",
       "            color:  #f1f1f1;\n",
       "        }    #T_daeec118_d16e_11ea_935a_507b9dfcf050row2_col0 {\n",
       "            background-color:  #900a12;\n",
       "            color:  #f1f1f1;\n",
       "        }    #T_daeec118_d16e_11ea_935a_507b9dfcf050row3_col0 {\n",
       "            background-color:  #980c13;\n",
       "            color:  #f1f1f1;\n",
       "        }    #T_daeec118_d16e_11ea_935a_507b9dfcf050row4_col0 {\n",
       "            background-color:  #c8171c;\n",
       "            color:  #f1f1f1;\n",
       "        }    #T_daeec118_d16e_11ea_935a_507b9dfcf050row5_col0 {\n",
       "            background-color:  #e43027;\n",
       "            color:  #f1f1f1;\n",
       "        }    #T_daeec118_d16e_11ea_935a_507b9dfcf050row6_col0 {\n",
       "            background-color:  #f75c41;\n",
       "            color:  #000000;\n",
       "        }    #T_daeec118_d16e_11ea_935a_507b9dfcf050row7_col0 {\n",
       "            background-color:  #fb7656;\n",
       "            color:  #000000;\n",
       "        }    #T_daeec118_d16e_11ea_935a_507b9dfcf050row8_col0 {\n",
       "            background-color:  #fcb69b;\n",
       "            color:  #000000;\n",
       "        }    #T_daeec118_d16e_11ea_935a_507b9dfcf050row9_col0 {\n",
       "            background-color:  #fdc6b0;\n",
       "            color:  #000000;\n",
       "        }    #T_daeec118_d16e_11ea_935a_507b9dfcf050row10_col0 {\n",
       "            background-color:  #fdc6b0;\n",
       "            color:  #000000;\n",
       "        }    #T_daeec118_d16e_11ea_935a_507b9dfcf050row11_col0 {\n",
       "            background-color:  #fdd0bc;\n",
       "            color:  #000000;\n",
       "        }    #T_daeec118_d16e_11ea_935a_507b9dfcf050row12_col0 {\n",
       "            background-color:  #fdd3c1;\n",
       "            color:  #000000;\n",
       "        }    #T_daeec118_d16e_11ea_935a_507b9dfcf050row13_col0 {\n",
       "            background-color:  #fedbcc;\n",
       "            color:  #000000;\n",
       "        }    #T_daeec118_d16e_11ea_935a_507b9dfcf050row14_col0 {\n",
       "            background-color:  #fedbcc;\n",
       "            color:  #000000;\n",
       "        }    #T_daeec118_d16e_11ea_935a_507b9dfcf050row15_col0 {\n",
       "            background-color:  #fee0d2;\n",
       "            color:  #000000;\n",
       "        }    #T_daeec118_d16e_11ea_935a_507b9dfcf050row16_col0 {\n",
       "            background-color:  #fee0d2;\n",
       "            color:  #000000;\n",
       "        }    #T_daeec118_d16e_11ea_935a_507b9dfcf050row17_col0 {\n",
       "            background-color:  #fee3d6;\n",
       "            color:  #000000;\n",
       "        }    #T_daeec118_d16e_11ea_935a_507b9dfcf050row18_col0 {\n",
       "            background-color:  #fee5d8;\n",
       "            color:  #000000;\n",
       "        }    #T_daeec118_d16e_11ea_935a_507b9dfcf050row19_col0 {\n",
       "            background-color:  #fee5d8;\n",
       "            color:  #000000;\n",
       "        }    #T_daeec118_d16e_11ea_935a_507b9dfcf050row20_col0 {\n",
       "            background-color:  #fee7dc;\n",
       "            color:  #000000;\n",
       "        }    #T_daeec118_d16e_11ea_935a_507b9dfcf050row21_col0 {\n",
       "            background-color:  #fee9df;\n",
       "            color:  #000000;\n",
       "        }    #T_daeec118_d16e_11ea_935a_507b9dfcf050row22_col0 {\n",
       "            background-color:  #fee9df;\n",
       "            color:  #000000;\n",
       "        }    #T_daeec118_d16e_11ea_935a_507b9dfcf050row23_col0 {\n",
       "            background-color:  #fee9df;\n",
       "            color:  #000000;\n",
       "        }    #T_daeec118_d16e_11ea_935a_507b9dfcf050row24_col0 {\n",
       "            background-color:  #fee9df;\n",
       "            color:  #000000;\n",
       "        }    #T_daeec118_d16e_11ea_935a_507b9dfcf050row25_col0 {\n",
       "            background-color:  #fee9df;\n",
       "            color:  #000000;\n",
       "        }    #T_daeec118_d16e_11ea_935a_507b9dfcf050row26_col0 {\n",
       "            background-color:  #fee9df;\n",
       "            color:  #000000;\n",
       "        }    #T_daeec118_d16e_11ea_935a_507b9dfcf050row27_col0 {\n",
       "            background-color:  #ffece3;\n",
       "            color:  #000000;\n",
       "        }    #T_daeec118_d16e_11ea_935a_507b9dfcf050row28_col0 {\n",
       "            background-color:  #ffece3;\n",
       "            color:  #000000;\n",
       "        }    #T_daeec118_d16e_11ea_935a_507b9dfcf050row29_col0 {\n",
       "            background-color:  #ffeee7;\n",
       "            color:  #000000;\n",
       "        }    #T_daeec118_d16e_11ea_935a_507b9dfcf050row30_col0 {\n",
       "            background-color:  #fff0e9;\n",
       "            color:  #000000;\n",
       "        }    #T_daeec118_d16e_11ea_935a_507b9dfcf050row31_col0 {\n",
       "            background-color:  #fff3ed;\n",
       "            color:  #000000;\n",
       "        }    #T_daeec118_d16e_11ea_935a_507b9dfcf050row32_col0 {\n",
       "            background-color:  #fff3ed;\n",
       "            color:  #000000;\n",
       "        }    #T_daeec118_d16e_11ea_935a_507b9dfcf050row33_col0 {\n",
       "            background-color:  #fff3ed;\n",
       "            color:  #000000;\n",
       "        }    #T_daeec118_d16e_11ea_935a_507b9dfcf050row34_col0 {\n",
       "            background-color:  #fff5f0;\n",
       "            color:  #000000;\n",
       "        }</style><table id=\"T_daeec118_d16e_11ea_935a_507b9dfcf050\" ><thead>    <tr>        <th class=\"blank level0\" ></th>        <th class=\"col_heading level0 col0\" >venue</th>    </tr></thead><tbody>\n",
       "                <tr>\n",
       "                        <th id=\"T_daeec118_d16e_11ea_935a_507b9dfcf050level0_row0\" class=\"row_heading level0 row0\" >M Chinnaswamy Stadium</th>\n",
       "                        <td id=\"T_daeec118_d16e_11ea_935a_507b9dfcf050row0_col0\" class=\"data row0 col0\" >73</td>\n",
       "            </tr>\n",
       "            <tr>\n",
       "                        <th id=\"T_daeec118_d16e_11ea_935a_507b9dfcf050level0_row1\" class=\"row_heading level0 row1\" >Eden Gardens</th>\n",
       "                        <td id=\"T_daeec118_d16e_11ea_935a_507b9dfcf050row1_col0\" class=\"data row1 col0\" >70</td>\n",
       "            </tr>\n",
       "            <tr>\n",
       "                        <th id=\"T_daeec118_d16e_11ea_935a_507b9dfcf050level0_row2\" class=\"row_heading level0 row2\" >Feroz Shah Kotla</th>\n",
       "                        <td id=\"T_daeec118_d16e_11ea_935a_507b9dfcf050row2_col0\" class=\"data row2 col0\" >67</td>\n",
       "            </tr>\n",
       "            <tr>\n",
       "                        <th id=\"T_daeec118_d16e_11ea_935a_507b9dfcf050level0_row3\" class=\"row_heading level0 row3\" >Wankhede Stadium</th>\n",
       "                        <td id=\"T_daeec118_d16e_11ea_935a_507b9dfcf050row3_col0\" class=\"data row3 col0\" >66</td>\n",
       "            </tr>\n",
       "            <tr>\n",
       "                        <th id=\"T_daeec118_d16e_11ea_935a_507b9dfcf050level0_row4\" class=\"row_heading level0 row4\" >Rajiv Gandhi International Stadium, Uppal</th>\n",
       "                        <td id=\"T_daeec118_d16e_11ea_935a_507b9dfcf050row4_col0\" class=\"data row4 col0\" >56</td>\n",
       "            </tr>\n",
       "            <tr>\n",
       "                        <th id=\"T_daeec118_d16e_11ea_935a_507b9dfcf050level0_row5\" class=\"row_heading level0 row5\" >MA Chidambaram Stadium, Chepauk</th>\n",
       "                        <td id=\"T_daeec118_d16e_11ea_935a_507b9dfcf050row5_col0\" class=\"data row5 col0\" >49</td>\n",
       "            </tr>\n",
       "            <tr>\n",
       "                        <th id=\"T_daeec118_d16e_11ea_935a_507b9dfcf050level0_row6\" class=\"row_heading level0 row6\" >Sawai Mansingh Stadium</th>\n",
       "                        <td id=\"T_daeec118_d16e_11ea_935a_507b9dfcf050row6_col0\" class=\"data row6 col0\" >40</td>\n",
       "            </tr>\n",
       "            <tr>\n",
       "                        <th id=\"T_daeec118_d16e_11ea_935a_507b9dfcf050level0_row7\" class=\"row_heading level0 row7\" >Punjab Cricket Association Stadium, Mohali</th>\n",
       "                        <td id=\"T_daeec118_d16e_11ea_935a_507b9dfcf050row7_col0\" class=\"data row7 col0\" >35</td>\n",
       "            </tr>\n",
       "            <tr>\n",
       "                        <th id=\"T_daeec118_d16e_11ea_935a_507b9dfcf050level0_row8\" class=\"row_heading level0 row8\" >Maharashtra Cricket Association Stadium</th>\n",
       "                        <td id=\"T_daeec118_d16e_11ea_935a_507b9dfcf050row8_col0\" class=\"data row8 col0\" >21</td>\n",
       "            </tr>\n",
       "            <tr>\n",
       "                        <th id=\"T_daeec118_d16e_11ea_935a_507b9dfcf050level0_row9\" class=\"row_heading level0 row9\" >Subrata Roy Sahara Stadium</th>\n",
       "                        <td id=\"T_daeec118_d16e_11ea_935a_507b9dfcf050row9_col0\" class=\"data row9 col0\" >17</td>\n",
       "            </tr>\n",
       "            <tr>\n",
       "                        <th id=\"T_daeec118_d16e_11ea_935a_507b9dfcf050level0_row10\" class=\"row_heading level0 row10\" >Dr DY Patil Sports Academy</th>\n",
       "                        <td id=\"T_daeec118_d16e_11ea_935a_507b9dfcf050row10_col0\" class=\"data row10 col0\" >17</td>\n",
       "            </tr>\n",
       "            <tr>\n",
       "                        <th id=\"T_daeec118_d16e_11ea_935a_507b9dfcf050level0_row11\" class=\"row_heading level0 row11\" >Kingsmead</th>\n",
       "                        <td id=\"T_daeec118_d16e_11ea_935a_507b9dfcf050row11_col0\" class=\"data row11 col0\" >15</td>\n",
       "            </tr>\n",
       "            <tr>\n",
       "                        <th id=\"T_daeec118_d16e_11ea_935a_507b9dfcf050level0_row12\" class=\"row_heading level0 row12\" >Punjab Cricket Association IS Bindra Stadium, Mohali</th>\n",
       "                        <td id=\"T_daeec118_d16e_11ea_935a_507b9dfcf050row12_col0\" class=\"data row12 col0\" >14</td>\n",
       "            </tr>\n",
       "            <tr>\n",
       "                        <th id=\"T_daeec118_d16e_11ea_935a_507b9dfcf050level0_row13\" class=\"row_heading level0 row13\" >Sardar Patel Stadium, Motera</th>\n",
       "                        <td id=\"T_daeec118_d16e_11ea_935a_507b9dfcf050row13_col0\" class=\"data row13 col0\" >12</td>\n",
       "            </tr>\n",
       "            <tr>\n",
       "                        <th id=\"T_daeec118_d16e_11ea_935a_507b9dfcf050level0_row14\" class=\"row_heading level0 row14\" >SuperSport Park</th>\n",
       "                        <td id=\"T_daeec118_d16e_11ea_935a_507b9dfcf050row14_col0\" class=\"data row14 col0\" >12</td>\n",
       "            </tr>\n",
       "            <tr>\n",
       "                        <th id=\"T_daeec118_d16e_11ea_935a_507b9dfcf050level0_row15\" class=\"row_heading level0 row15\" >Brabourne Stadium</th>\n",
       "                        <td id=\"T_daeec118_d16e_11ea_935a_507b9dfcf050row15_col0\" class=\"data row15 col0\" >11</td>\n",
       "            </tr>\n",
       "            <tr>\n",
       "                        <th id=\"T_daeec118_d16e_11ea_935a_507b9dfcf050level0_row16\" class=\"row_heading level0 row16\" >Dr. Y.S. Rajasekhara Reddy ACA-VDCA Cricket Stadium</th>\n",
       "                        <td id=\"T_daeec118_d16e_11ea_935a_507b9dfcf050row16_col0\" class=\"data row16 col0\" >11</td>\n",
       "            </tr>\n",
       "            <tr>\n",
       "                        <th id=\"T_daeec118_d16e_11ea_935a_507b9dfcf050level0_row17\" class=\"row_heading level0 row17\" >Saurashtra Cricket Association Stadium</th>\n",
       "                        <td id=\"T_daeec118_d16e_11ea_935a_507b9dfcf050row17_col0\" class=\"data row17 col0\" >10</td>\n",
       "            </tr>\n",
       "            <tr>\n",
       "                        <th id=\"T_daeec118_d16e_11ea_935a_507b9dfcf050level0_row18\" class=\"row_heading level0 row18\" >Himachal Pradesh Cricket Association Stadium</th>\n",
       "                        <td id=\"T_daeec118_d16e_11ea_935a_507b9dfcf050row18_col0\" class=\"data row18 col0\" >9</td>\n",
       "            </tr>\n",
       "            <tr>\n",
       "                        <th id=\"T_daeec118_d16e_11ea_935a_507b9dfcf050level0_row19\" class=\"row_heading level0 row19\" >Holkar Cricket Stadium</th>\n",
       "                        <td id=\"T_daeec118_d16e_11ea_935a_507b9dfcf050row19_col0\" class=\"data row19 col0\" >9</td>\n",
       "            </tr>\n",
       "            <tr>\n",
       "                        <th id=\"T_daeec118_d16e_11ea_935a_507b9dfcf050level0_row20\" class=\"row_heading level0 row20\" >New Wanderers Stadium</th>\n",
       "                        <td id=\"T_daeec118_d16e_11ea_935a_507b9dfcf050row20_col0\" class=\"data row20 col0\" >8</td>\n",
       "            </tr>\n",
       "            <tr>\n",
       "                        <th id=\"T_daeec118_d16e_11ea_935a_507b9dfcf050level0_row21\" class=\"row_heading level0 row21\" >JSCA International Stadium Complex</th>\n",
       "                        <td id=\"T_daeec118_d16e_11ea_935a_507b9dfcf050row21_col0\" class=\"data row21 col0\" >7</td>\n",
       "            </tr>\n",
       "            <tr>\n",
       "                        <th id=\"T_daeec118_d16e_11ea_935a_507b9dfcf050level0_row22\" class=\"row_heading level0 row22\" >Dubai International Cricket Stadium</th>\n",
       "                        <td id=\"T_daeec118_d16e_11ea_935a_507b9dfcf050row22_col0\" class=\"data row22 col0\" >7</td>\n",
       "            </tr>\n",
       "            <tr>\n",
       "                        <th id=\"T_daeec118_d16e_11ea_935a_507b9dfcf050level0_row23\" class=\"row_heading level0 row23\" >St George's Park</th>\n",
       "                        <td id=\"T_daeec118_d16e_11ea_935a_507b9dfcf050row23_col0\" class=\"data row23 col0\" >7</td>\n",
       "            </tr>\n",
       "            <tr>\n",
       "                        <th id=\"T_daeec118_d16e_11ea_935a_507b9dfcf050level0_row24\" class=\"row_heading level0 row24\" >Sheikh Zayed Stadium</th>\n",
       "                        <td id=\"T_daeec118_d16e_11ea_935a_507b9dfcf050row24_col0\" class=\"data row24 col0\" >7</td>\n",
       "            </tr>\n",
       "            <tr>\n",
       "                        <th id=\"T_daeec118_d16e_11ea_935a_507b9dfcf050level0_row25\" class=\"row_heading level0 row25\" >Newlands</th>\n",
       "                        <td id=\"T_daeec118_d16e_11ea_935a_507b9dfcf050row25_col0\" class=\"data row25 col0\" >7</td>\n",
       "            </tr>\n",
       "            <tr>\n",
       "                        <th id=\"T_daeec118_d16e_11ea_935a_507b9dfcf050level0_row26\" class=\"row_heading level0 row26\" >Barabati Stadium</th>\n",
       "                        <td id=\"T_daeec118_d16e_11ea_935a_507b9dfcf050row26_col0\" class=\"data row26 col0\" >7</td>\n",
       "            </tr>\n",
       "            <tr>\n",
       "                        <th id=\"T_daeec118_d16e_11ea_935a_507b9dfcf050level0_row27\" class=\"row_heading level0 row27\" >Sharjah Cricket Stadium</th>\n",
       "                        <td id=\"T_daeec118_d16e_11ea_935a_507b9dfcf050row27_col0\" class=\"data row27 col0\" >6</td>\n",
       "            </tr>\n",
       "            <tr>\n",
       "                        <th id=\"T_daeec118_d16e_11ea_935a_507b9dfcf050level0_row28\" class=\"row_heading level0 row28\" >Shaheed Veer Narayan Singh International Stadium</th>\n",
       "                        <td id=\"T_daeec118_d16e_11ea_935a_507b9dfcf050row28_col0\" class=\"data row28 col0\" >6</td>\n",
       "            </tr>\n",
       "            <tr>\n",
       "                        <th id=\"T_daeec118_d16e_11ea_935a_507b9dfcf050level0_row29\" class=\"row_heading level0 row29\" >Nehru Stadium</th>\n",
       "                        <td id=\"T_daeec118_d16e_11ea_935a_507b9dfcf050row29_col0\" class=\"data row29 col0\" >5</td>\n",
       "            </tr>\n",
       "            <tr>\n",
       "                        <th id=\"T_daeec118_d16e_11ea_935a_507b9dfcf050level0_row30\" class=\"row_heading level0 row30\" >Green Park</th>\n",
       "                        <td id=\"T_daeec118_d16e_11ea_935a_507b9dfcf050row30_col0\" class=\"data row30 col0\" >4</td>\n",
       "            </tr>\n",
       "            <tr>\n",
       "                        <th id=\"T_daeec118_d16e_11ea_935a_507b9dfcf050level0_row31\" class=\"row_heading level0 row31\" >Buffalo Park</th>\n",
       "                        <td id=\"T_daeec118_d16e_11ea_935a_507b9dfcf050row31_col0\" class=\"data row31 col0\" >3</td>\n",
       "            </tr>\n",
       "            <tr>\n",
       "                        <th id=\"T_daeec118_d16e_11ea_935a_507b9dfcf050level0_row32\" class=\"row_heading level0 row32\" >De Beers Diamond Oval</th>\n",
       "                        <td id=\"T_daeec118_d16e_11ea_935a_507b9dfcf050row32_col0\" class=\"data row32 col0\" >3</td>\n",
       "            </tr>\n",
       "            <tr>\n",
       "                        <th id=\"T_daeec118_d16e_11ea_935a_507b9dfcf050level0_row33\" class=\"row_heading level0 row33\" >Vidarbha Cricket Association Stadium, Jamtha</th>\n",
       "                        <td id=\"T_daeec118_d16e_11ea_935a_507b9dfcf050row33_col0\" class=\"data row33 col0\" >3</td>\n",
       "            </tr>\n",
       "            <tr>\n",
       "                        <th id=\"T_daeec118_d16e_11ea_935a_507b9dfcf050level0_row34\" class=\"row_heading level0 row34\" >OUTsurance Oval</th>\n",
       "                        <td id=\"T_daeec118_d16e_11ea_935a_507b9dfcf050row34_col0\" class=\"data row34 col0\" >2</td>\n",
       "            </tr>\n",
       "    </tbody></table>"
      ],
      "text/plain": [
       "<pandas.io.formats.style.Styler at 0x1c9fdb34978>"
      ]
     },
     "execution_count": 14,
     "metadata": {},
     "output_type": "execute_result"
    }
   ],
   "source": [
    "match_venue = matches['venue'].value_counts().to_frame()\n",
    "match_venue.style.background_gradient(cmap='Reds')\n",
    "# match_venue.columns"
   ]
  },
  {
   "cell_type": "code",
   "execution_count": null,
   "metadata": {},
   "outputs": [],
   "source": []
  },
  {
   "cell_type": "markdown",
   "metadata": {},
   "source": [
    "## Total matches played by each team"
   ]
  },
  {
   "cell_type": "code",
   "execution_count": 15,
   "metadata": {},
   "outputs": [],
   "source": [
    "team1 = matches['team1'].value_counts()"
   ]
  },
  {
   "cell_type": "code",
   "execution_count": 16,
   "metadata": {},
   "outputs": [],
   "source": [
    "team2 = matches['team2'].value_counts()"
   ]
  },
  {
   "cell_type": "code",
   "execution_count": 17,
   "metadata": {},
   "outputs": [
    {
     "data": {
      "text/html": [
       "<style  type=\"text/css\" >\n",
       "    #T_db23ffdc_d16e_11ea_a4c8_507b9dfcf050row0_col0 {\n",
       "            background-color:  #67000d;\n",
       "            color:  #f1f1f1;\n",
       "        }    #T_db23ffdc_d16e_11ea_a4c8_507b9dfcf050row1_col0 {\n",
       "            background-color:  #77040f;\n",
       "            color:  #f1f1f1;\n",
       "        }    #T_db23ffdc_d16e_11ea_a4c8_507b9dfcf050row2_col0 {\n",
       "            background-color:  #7c0510;\n",
       "            color:  #f1f1f1;\n",
       "        }    #T_db23ffdc_d16e_11ea_a4c8_507b9dfcf050row3_col0 {\n",
       "            background-color:  #820711;\n",
       "            color:  #f1f1f1;\n",
       "        }    #T_db23ffdc_d16e_11ea_a4c8_507b9dfcf050row4_col0 {\n",
       "            background-color:  #860811;\n",
       "            color:  #f1f1f1;\n",
       "        }    #T_db23ffdc_d16e_11ea_a4c8_507b9dfcf050row5_col0 {\n",
       "            background-color:  #ad1117;\n",
       "            color:  #f1f1f1;\n",
       "        }    #T_db23ffdc_d16e_11ea_a4c8_507b9dfcf050row6_col0 {\n",
       "            background-color:  #c8171c;\n",
       "            color:  #f1f1f1;\n",
       "        }    #T_db23ffdc_d16e_11ea_a4c8_507b9dfcf050row7_col0 {\n",
       "            background-color:  #fb694a;\n",
       "            color:  #000000;\n",
       "        }    #T_db23ffdc_d16e_11ea_a4c8_507b9dfcf050row8_col0 {\n",
       "            background-color:  #fc8e6e;\n",
       "            color:  #000000;\n",
       "        }    #T_db23ffdc_d16e_11ea_a4c8_507b9dfcf050row9_col0 {\n",
       "            background-color:  #fdc9b3;\n",
       "            color:  #000000;\n",
       "        }    #T_db23ffdc_d16e_11ea_a4c8_507b9dfcf050row10_col0 {\n",
       "            background-color:  #fee4d8;\n",
       "            color:  #000000;\n",
       "        }    #T_db23ffdc_d16e_11ea_a4c8_507b9dfcf050row11_col0 {\n",
       "            background-color:  #fff3ed;\n",
       "            color:  #000000;\n",
       "        }    #T_db23ffdc_d16e_11ea_a4c8_507b9dfcf050row12_col0 {\n",
       "            background-color:  #fff5f0;\n",
       "            color:  #000000;\n",
       "        }    #T_db23ffdc_d16e_11ea_a4c8_507b9dfcf050row13_col0 {\n",
       "            background-color:  #fff5f0;\n",
       "            color:  #000000;\n",
       "        }</style><table id=\"T_db23ffdc_d16e_11ea_a4c8_507b9dfcf050\" ><thead>    <tr>        <th class=\"blank level0\" ></th>        <th class=\"col_heading level0 col0\" >Matches</th>    </tr></thead><tbody>\n",
       "                <tr>\n",
       "                        <th id=\"T_db23ffdc_d16e_11ea_a4c8_507b9dfcf050level0_row0\" class=\"row_heading level0 row0\" >Mumbai Indians</th>\n",
       "                        <td id=\"T_db23ffdc_d16e_11ea_a4c8_507b9dfcf050row0_col0\" class=\"data row0 col0\" >171</td>\n",
       "            </tr>\n",
       "            <tr>\n",
       "                        <th id=\"T_db23ffdc_d16e_11ea_a4c8_507b9dfcf050level0_row1\" class=\"row_heading level0 row1\" >Royal Challengers Bangalore</th>\n",
       "                        <td id=\"T_db23ffdc_d16e_11ea_a4c8_507b9dfcf050row1_col0\" class=\"data row1 col0\" >166</td>\n",
       "            </tr>\n",
       "            <tr>\n",
       "                        <th id=\"T_db23ffdc_d16e_11ea_a4c8_507b9dfcf050level0_row2\" class=\"row_heading level0 row2\" >Kolkata Knight Riders</th>\n",
       "                        <td id=\"T_db23ffdc_d16e_11ea_a4c8_507b9dfcf050row2_col0\" class=\"data row2 col0\" >164</td>\n",
       "            </tr>\n",
       "            <tr>\n",
       "                        <th id=\"T_db23ffdc_d16e_11ea_a4c8_507b9dfcf050level0_row3\" class=\"row_heading level0 row3\" >Kings XI Punjab</th>\n",
       "                        <td id=\"T_db23ffdc_d16e_11ea_a4c8_507b9dfcf050row3_col0\" class=\"data row3 col0\" >162</td>\n",
       "            </tr>\n",
       "            <tr>\n",
       "                        <th id=\"T_db23ffdc_d16e_11ea_a4c8_507b9dfcf050level0_row4\" class=\"row_heading level0 row4\" >Delhi Daredevils</th>\n",
       "                        <td id=\"T_db23ffdc_d16e_11ea_a4c8_507b9dfcf050row4_col0\" class=\"data row4 col0\" >161</td>\n",
       "            </tr>\n",
       "            <tr>\n",
       "                        <th id=\"T_db23ffdc_d16e_11ea_a4c8_507b9dfcf050level0_row5\" class=\"row_heading level0 row5\" >Chennai Super Kings</th>\n",
       "                        <td id=\"T_db23ffdc_d16e_11ea_a4c8_507b9dfcf050row5_col0\" class=\"data row5 col0\" >147</td>\n",
       "            </tr>\n",
       "            <tr>\n",
       "                        <th id=\"T_db23ffdc_d16e_11ea_a4c8_507b9dfcf050level0_row6\" class=\"row_heading level0 row6\" >Rajasthan Royals</th>\n",
       "                        <td id=\"T_db23ffdc_d16e_11ea_a4c8_507b9dfcf050row6_col0\" class=\"data row6 col0\" >133</td>\n",
       "            </tr>\n",
       "            <tr>\n",
       "                        <th id=\"T_db23ffdc_d16e_11ea_a4c8_507b9dfcf050level0_row7\" class=\"row_heading level0 row7\" >Sunrisers Hyderabad</th>\n",
       "                        <td id=\"T_db23ffdc_d16e_11ea_a4c8_507b9dfcf050row7_col0\" class=\"data row7 col0\" >93</td>\n",
       "            </tr>\n",
       "            <tr>\n",
       "                        <th id=\"T_db23ffdc_d16e_11ea_a4c8_507b9dfcf050level0_row8\" class=\"row_heading level0 row8\" >Deccan Chargers</th>\n",
       "                        <td id=\"T_db23ffdc_d16e_11ea_a4c8_507b9dfcf050row8_col0\" class=\"data row8 col0\" >75</td>\n",
       "            </tr>\n",
       "            <tr>\n",
       "                        <th id=\"T_db23ffdc_d16e_11ea_a4c8_507b9dfcf050level0_row9\" class=\"row_heading level0 row9\" >Pune Warriors</th>\n",
       "                        <td id=\"T_db23ffdc_d16e_11ea_a4c8_507b9dfcf050row9_col0\" class=\"data row9 col0\" >46</td>\n",
       "            </tr>\n",
       "            <tr>\n",
       "                        <th id=\"T_db23ffdc_d16e_11ea_a4c8_507b9dfcf050level0_row10\" class=\"row_heading level0 row10\" >Gujarat Lions</th>\n",
       "                        <td id=\"T_db23ffdc_d16e_11ea_a4c8_507b9dfcf050row10_col0\" class=\"data row10 col0\" >30</td>\n",
       "            </tr>\n",
       "            <tr>\n",
       "                        <th id=\"T_db23ffdc_d16e_11ea_a4c8_507b9dfcf050level0_row11\" class=\"row_heading level0 row11\" >Rising Pune Supergiant</th>\n",
       "                        <td id=\"T_db23ffdc_d16e_11ea_a4c8_507b9dfcf050row11_col0\" class=\"data row11 col0\" >16</td>\n",
       "            </tr>\n",
       "            <tr>\n",
       "                        <th id=\"T_db23ffdc_d16e_11ea_a4c8_507b9dfcf050level0_row12\" class=\"row_heading level0 row12\" >Kochi Tuskers Kerala</th>\n",
       "                        <td id=\"T_db23ffdc_d16e_11ea_a4c8_507b9dfcf050row12_col0\" class=\"data row12 col0\" >14</td>\n",
       "            </tr>\n",
       "            <tr>\n",
       "                        <th id=\"T_db23ffdc_d16e_11ea_a4c8_507b9dfcf050level0_row13\" class=\"row_heading level0 row13\" >Rising Pune Supergiants</th>\n",
       "                        <td id=\"T_db23ffdc_d16e_11ea_a4c8_507b9dfcf050row13_col0\" class=\"data row13 col0\" >14</td>\n",
       "            </tr>\n",
       "    </tbody></table>"
      ],
      "text/plain": [
       "<pandas.io.formats.style.Styler at 0x1c9fddde0f0>"
      ]
     },
     "execution_count": 17,
     "metadata": {},
     "output_type": "execute_result"
    }
   ],
   "source": [
    "total_matches = team1 + team2\n",
    "team_match = total_matches.to_frame()\n",
    "len(team_match)\n",
    "team_match = team_match.rename(columns={0:'Matches'})\n",
    "team_match.style.background_gradient(cmap='Reds')\n",
    "team_match.sort_values(by=['Matches'],ascending=False,inplace=True)\n",
    "team_match.style.background_gradient(cmap='Reds')"
   ]
  },
  {
   "cell_type": "markdown",
   "metadata": {},
   "source": [
    "## Win matches per Teams"
   ]
  },
  {
   "cell_type": "code",
   "execution_count": 18,
   "metadata": {},
   "outputs": [
    {
     "data": {
      "text/plain": [
       "(14, 1)"
      ]
     },
     "execution_count": 18,
     "metadata": {},
     "output_type": "execute_result"
    }
   ],
   "source": [
    "wins = pd.DataFrame(matches['winner'].value_counts())\n",
    "wins.shape"
   ]
  },
  {
   "cell_type": "code",
   "execution_count": 19,
   "metadata": {},
   "outputs": [
    {
     "data": {
      "text/plain": [
       "Index(['Mumbai Indians', 'Chennai Super Kings', 'Kolkata Knight Riders',\n",
       "       'Royal Challengers Bangalore', 'Kings XI Punjab', 'Rajasthan Royals',\n",
       "       'Delhi Daredevils', 'Sunrisers Hyderabad', 'Deccan Chargers',\n",
       "       'Gujarat Lions', 'Pune Warriors', 'Rising Pune Supergiant',\n",
       "       'Kochi Tuskers Kerala', 'Rising Pune Supergiants'],\n",
       "      dtype='object')"
      ]
     },
     "execution_count": 19,
     "metadata": {},
     "output_type": "execute_result"
    }
   ],
   "source": [
    "wins.index"
   ]
  },
  {
   "cell_type": "code",
   "execution_count": 20,
   "metadata": {},
   "outputs": [],
   "source": [
    "wins.reset_index(inplace=True)"
   ]
  },
  {
   "cell_type": "code",
   "execution_count": 21,
   "metadata": {},
   "outputs": [],
   "source": [
    "wins.columns = ['Teams','Winning Matches']"
   ]
  },
  {
   "cell_type": "code",
   "execution_count": 22,
   "metadata": {},
   "outputs": [
    {
     "data": {
      "text/html": [
       "<div>\n",
       "<style scoped>\n",
       "    .dataframe tbody tr th:only-of-type {\n",
       "        vertical-align: middle;\n",
       "    }\n",
       "\n",
       "    .dataframe tbody tr th {\n",
       "        vertical-align: top;\n",
       "    }\n",
       "\n",
       "    .dataframe thead th {\n",
       "        text-align: right;\n",
       "    }\n",
       "</style>\n",
       "<table border=\"1\" class=\"dataframe\">\n",
       "  <thead>\n",
       "    <tr style=\"text-align: right;\">\n",
       "      <th></th>\n",
       "      <th>Teams</th>\n",
       "      <th>Winning Matches</th>\n",
       "    </tr>\n",
       "  </thead>\n",
       "  <tbody>\n",
       "    <tr>\n",
       "      <th>0</th>\n",
       "      <td>Mumbai Indians</td>\n",
       "      <td>98</td>\n",
       "    </tr>\n",
       "    <tr>\n",
       "      <th>1</th>\n",
       "      <td>Chennai Super Kings</td>\n",
       "      <td>90</td>\n",
       "    </tr>\n",
       "    <tr>\n",
       "      <th>2</th>\n",
       "      <td>Kolkata Knight Riders</td>\n",
       "      <td>86</td>\n",
       "    </tr>\n",
       "    <tr>\n",
       "      <th>3</th>\n",
       "      <td>Royal Challengers Bangalore</td>\n",
       "      <td>79</td>\n",
       "    </tr>\n",
       "    <tr>\n",
       "      <th>4</th>\n",
       "      <td>Kings XI Punjab</td>\n",
       "      <td>76</td>\n",
       "    </tr>\n",
       "    <tr>\n",
       "      <th>5</th>\n",
       "      <td>Rajasthan Royals</td>\n",
       "      <td>70</td>\n",
       "    </tr>\n",
       "    <tr>\n",
       "      <th>6</th>\n",
       "      <td>Delhi Daredevils</td>\n",
       "      <td>67</td>\n",
       "    </tr>\n",
       "    <tr>\n",
       "      <th>7</th>\n",
       "      <td>Sunrisers Hyderabad</td>\n",
       "      <td>52</td>\n",
       "    </tr>\n",
       "    <tr>\n",
       "      <th>8</th>\n",
       "      <td>Deccan Chargers</td>\n",
       "      <td>29</td>\n",
       "    </tr>\n",
       "    <tr>\n",
       "      <th>9</th>\n",
       "      <td>Gujarat Lions</td>\n",
       "      <td>13</td>\n",
       "    </tr>\n",
       "    <tr>\n",
       "      <th>10</th>\n",
       "      <td>Pune Warriors</td>\n",
       "      <td>12</td>\n",
       "    </tr>\n",
       "    <tr>\n",
       "      <th>11</th>\n",
       "      <td>Rising Pune Supergiant</td>\n",
       "      <td>10</td>\n",
       "    </tr>\n",
       "    <tr>\n",
       "      <th>12</th>\n",
       "      <td>Kochi Tuskers Kerala</td>\n",
       "      <td>6</td>\n",
       "    </tr>\n",
       "    <tr>\n",
       "      <th>13</th>\n",
       "      <td>Rising Pune Supergiants</td>\n",
       "      <td>5</td>\n",
       "    </tr>\n",
       "  </tbody>\n",
       "</table>\n",
       "</div>"
      ],
      "text/plain": [
       "                          Teams  Winning Matches\n",
       "0                Mumbai Indians               98\n",
       "1           Chennai Super Kings               90\n",
       "2         Kolkata Knight Riders               86\n",
       "3   Royal Challengers Bangalore               79\n",
       "4               Kings XI Punjab               76\n",
       "5              Rajasthan Royals               70\n",
       "6              Delhi Daredevils               67\n",
       "7           Sunrisers Hyderabad               52\n",
       "8               Deccan Chargers               29\n",
       "9                 Gujarat Lions               13\n",
       "10                Pune Warriors               12\n",
       "11       Rising Pune Supergiant               10\n",
       "12         Kochi Tuskers Kerala                6\n",
       "13      Rising Pune Supergiants                5"
      ]
     },
     "execution_count": 22,
     "metadata": {},
     "output_type": "execute_result"
    }
   ],
   "source": [
    "wins"
   ]
  },
  {
   "cell_type": "code",
   "execution_count": 23,
   "metadata": {},
   "outputs": [
    {
     "data": {
      "text/plain": [
       "(array([ 0,  1,  2,  3,  4,  5,  6,  7,  8,  9, 10, 11, 12, 13]),\n",
       " <a list of 14 Text major ticklabel objects>)"
      ]
     },
     "execution_count": 23,
     "metadata": {},
     "output_type": "execute_result"
    },
    {
     "data": {
      "image/png": "[encoded data removed]",
      "text/plain": [
       "<Figure size 864x360 with 1 Axes>"
      ]
     },
     "metadata": {
      "needs_background": "light"
     },
     "output_type": "display_data"
    }
   ],
   "source": [
    "plt.figure(figsize=(12,5))\n",
    "sns.barplot(x='Teams',y='Winning Matches',palette='cubehelix',data=wins)\n",
    "plt.xticks(rotation='vertical')\n",
    "# Mumbai Indians wins highest number of matches : 98"
   ]
  },
  {
   "cell_type": "code",
   "execution_count": 24,
   "metadata": {},
   "outputs": [
    {
     "data": {
      "text/html": [
       "<div>\n",
       "<style scoped>\n",
       "    .dataframe tbody tr th:only-of-type {\n",
       "        vertical-align: middle;\n",
       "    }\n",
       "\n",
       "    .dataframe tbody tr th {\n",
       "        vertical-align: top;\n",
       "    }\n",
       "\n",
       "    .dataframe thead th {\n",
       "        text-align: right;\n",
       "    }\n",
       "</style>\n",
       "<table border=\"1\" class=\"dataframe\">\n",
       "  <thead>\n",
       "    <tr style=\"text-align: right;\">\n",
       "      <th></th>\n",
       "      <th>Teams</th>\n",
       "      <th>Total Matches</th>\n",
       "    </tr>\n",
       "  </thead>\n",
       "  <tbody>\n",
       "    <tr>\n",
       "      <th>0</th>\n",
       "      <td>Mumbai Indians</td>\n",
       "      <td>171</td>\n",
       "    </tr>\n",
       "    <tr>\n",
       "      <th>1</th>\n",
       "      <td>Royal Challengers Bangalore</td>\n",
       "      <td>166</td>\n",
       "    </tr>\n",
       "    <tr>\n",
       "      <th>2</th>\n",
       "      <td>Kolkata Knight Riders</td>\n",
       "      <td>164</td>\n",
       "    </tr>\n",
       "    <tr>\n",
       "      <th>3</th>\n",
       "      <td>Kings XI Punjab</td>\n",
       "      <td>162</td>\n",
       "    </tr>\n",
       "    <tr>\n",
       "      <th>4</th>\n",
       "      <td>Delhi Daredevils</td>\n",
       "      <td>161</td>\n",
       "    </tr>\n",
       "    <tr>\n",
       "      <th>5</th>\n",
       "      <td>Chennai Super Kings</td>\n",
       "      <td>147</td>\n",
       "    </tr>\n",
       "    <tr>\n",
       "      <th>6</th>\n",
       "      <td>Rajasthan Royals</td>\n",
       "      <td>133</td>\n",
       "    </tr>\n",
       "    <tr>\n",
       "      <th>7</th>\n",
       "      <td>Sunrisers Hyderabad</td>\n",
       "      <td>93</td>\n",
       "    </tr>\n",
       "    <tr>\n",
       "      <th>8</th>\n",
       "      <td>Deccan Chargers</td>\n",
       "      <td>75</td>\n",
       "    </tr>\n",
       "    <tr>\n",
       "      <th>9</th>\n",
       "      <td>Pune Warriors</td>\n",
       "      <td>46</td>\n",
       "    </tr>\n",
       "    <tr>\n",
       "      <th>10</th>\n",
       "      <td>Gujarat Lions</td>\n",
       "      <td>30</td>\n",
       "    </tr>\n",
       "    <tr>\n",
       "      <th>11</th>\n",
       "      <td>Rising Pune Supergiant</td>\n",
       "      <td>16</td>\n",
       "    </tr>\n",
       "    <tr>\n",
       "      <th>12</th>\n",
       "      <td>Kochi Tuskers Kerala</td>\n",
       "      <td>14</td>\n",
       "    </tr>\n",
       "    <tr>\n",
       "      <th>13</th>\n",
       "      <td>Rising Pune Supergiants</td>\n",
       "      <td>14</td>\n",
       "    </tr>\n",
       "  </tbody>\n",
       "</table>\n",
       "</div>"
      ],
      "text/plain": [
       "                          Teams  Total Matches\n",
       "0                Mumbai Indians            171\n",
       "1   Royal Challengers Bangalore            166\n",
       "2         Kolkata Knight Riders            164\n",
       "3               Kings XI Punjab            162\n",
       "4              Delhi Daredevils            161\n",
       "5           Chennai Super Kings            147\n",
       "6              Rajasthan Royals            133\n",
       "7           Sunrisers Hyderabad             93\n",
       "8               Deccan Chargers             75\n",
       "9                 Pune Warriors             46\n",
       "10                Gujarat Lions             30\n",
       "11       Rising Pune Supergiant             16\n",
       "12         Kochi Tuskers Kerala             14\n",
       "13      Rising Pune Supergiants             14"
      ]
     },
     "execution_count": 24,
     "metadata": {},
     "output_type": "execute_result"
    }
   ],
   "source": [
    "team_match.reset_index(inplace=True)\n",
    "team_match.columns = ['Teams','Total Matches']\n",
    "team_match"
   ]
  },
  {
   "cell_type": "code",
   "execution_count": 25,
   "metadata": {},
   "outputs": [],
   "source": [
    "teams_df = pd.merge(wins,team_match,on='Teams')"
   ]
  },
  {
   "cell_type": "code",
   "execution_count": 26,
   "metadata": {},
   "outputs": [
    {
     "data": {
      "text/html": [
       "<div>\n",
       "<style scoped>\n",
       "    .dataframe tbody tr th:only-of-type {\n",
       "        vertical-align: middle;\n",
       "    }\n",
       "\n",
       "    .dataframe tbody tr th {\n",
       "        vertical-align: top;\n",
       "    }\n",
       "\n",
       "    .dataframe thead th {\n",
       "        text-align: right;\n",
       "    }\n",
       "</style>\n",
       "<table border=\"1\" class=\"dataframe\">\n",
       "  <thead>\n",
       "    <tr style=\"text-align: right;\">\n",
       "      <th></th>\n",
       "      <th>Teams</th>\n",
       "      <th>Winning Matches</th>\n",
       "      <th>Total Matches</th>\n",
       "    </tr>\n",
       "  </thead>\n",
       "  <tbody>\n",
       "    <tr>\n",
       "      <th>0</th>\n",
       "      <td>Mumbai Indians</td>\n",
       "      <td>98</td>\n",
       "      <td>171</td>\n",
       "    </tr>\n",
       "    <tr>\n",
       "      <th>1</th>\n",
       "      <td>Chennai Super Kings</td>\n",
       "      <td>90</td>\n",
       "      <td>147</td>\n",
       "    </tr>\n",
       "    <tr>\n",
       "      <th>2</th>\n",
       "      <td>Kolkata Knight Riders</td>\n",
       "      <td>86</td>\n",
       "      <td>164</td>\n",
       "    </tr>\n",
       "    <tr>\n",
       "      <th>3</th>\n",
       "      <td>Royal Challengers Bangalore</td>\n",
       "      <td>79</td>\n",
       "      <td>166</td>\n",
       "    </tr>\n",
       "    <tr>\n",
       "      <th>4</th>\n",
       "      <td>Kings XI Punjab</td>\n",
       "      <td>76</td>\n",
       "      <td>162</td>\n",
       "    </tr>\n",
       "    <tr>\n",
       "      <th>5</th>\n",
       "      <td>Rajasthan Royals</td>\n",
       "      <td>70</td>\n",
       "      <td>133</td>\n",
       "    </tr>\n",
       "    <tr>\n",
       "      <th>6</th>\n",
       "      <td>Delhi Daredevils</td>\n",
       "      <td>67</td>\n",
       "      <td>161</td>\n",
       "    </tr>\n",
       "    <tr>\n",
       "      <th>7</th>\n",
       "      <td>Sunrisers Hyderabad</td>\n",
       "      <td>52</td>\n",
       "      <td>93</td>\n",
       "    </tr>\n",
       "    <tr>\n",
       "      <th>8</th>\n",
       "      <td>Deccan Chargers</td>\n",
       "      <td>29</td>\n",
       "      <td>75</td>\n",
       "    </tr>\n",
       "    <tr>\n",
       "      <th>9</th>\n",
       "      <td>Gujarat Lions</td>\n",
       "      <td>13</td>\n",
       "      <td>30</td>\n",
       "    </tr>\n",
       "    <tr>\n",
       "      <th>10</th>\n",
       "      <td>Pune Warriors</td>\n",
       "      <td>12</td>\n",
       "      <td>46</td>\n",
       "    </tr>\n",
       "    <tr>\n",
       "      <th>11</th>\n",
       "      <td>Rising Pune Supergiant</td>\n",
       "      <td>10</td>\n",
       "      <td>16</td>\n",
       "    </tr>\n",
       "    <tr>\n",
       "      <th>12</th>\n",
       "      <td>Kochi Tuskers Kerala</td>\n",
       "      <td>6</td>\n",
       "      <td>14</td>\n",
       "    </tr>\n",
       "    <tr>\n",
       "      <th>13</th>\n",
       "      <td>Rising Pune Supergiants</td>\n",
       "      <td>5</td>\n",
       "      <td>14</td>\n",
       "    </tr>\n",
       "  </tbody>\n",
       "</table>\n",
       "</div>"
      ],
      "text/plain": [
       "                          Teams  Winning Matches  Total Matches\n",
       "0                Mumbai Indians               98            171\n",
       "1           Chennai Super Kings               90            147\n",
       "2         Kolkata Knight Riders               86            164\n",
       "3   Royal Challengers Bangalore               79            166\n",
       "4               Kings XI Punjab               76            162\n",
       "5              Rajasthan Royals               70            133\n",
       "6              Delhi Daredevils               67            161\n",
       "7           Sunrisers Hyderabad               52             93\n",
       "8               Deccan Chargers               29             75\n",
       "9                 Gujarat Lions               13             30\n",
       "10                Pune Warriors               12             46\n",
       "11       Rising Pune Supergiant               10             16\n",
       "12         Kochi Tuskers Kerala                6             14\n",
       "13      Rising Pune Supergiants                5             14"
      ]
     },
     "execution_count": 26,
     "metadata": {},
     "output_type": "execute_result"
    }
   ],
   "source": [
    "teams_df.rename(columns={'Total Matches_x':'Winnig Matches','Total Matches_y':'Total Matches'},inplace=True)\n",
    "teams_df"
   ]
  },
  {
   "cell_type": "markdown",
   "metadata": {},
   "source": [
    "## Win Ratio"
   ]
  },
  {
   "cell_type": "code",
   "execution_count": 27,
   "metadata": {},
   "outputs": [],
   "source": [
    "def win_ratio(win,total):\n",
    "    ratio = (win/total) * 100\n",
    "    return ratio\n"
   ]
  },
  {
   "cell_type": "code",
   "execution_count": 28,
   "metadata": {},
   "outputs": [
    {
     "data": {
      "text/html": [
       "<div>\n",
       "<style scoped>\n",
       "    .dataframe tbody tr th:only-of-type {\n",
       "        vertical-align: middle;\n",
       "    }\n",
       "\n",
       "    .dataframe tbody tr th {\n",
       "        vertical-align: top;\n",
       "    }\n",
       "\n",
       "    .dataframe thead th {\n",
       "        text-align: right;\n",
       "    }\n",
       "</style>\n",
       "<table border=\"1\" class=\"dataframe\">\n",
       "  <thead>\n",
       "    <tr style=\"text-align: right;\">\n",
       "      <th></th>\n",
       "      <th>Teams</th>\n",
       "      <th>Winning Matches</th>\n",
       "      <th>Total Matches</th>\n",
       "      <th>Win Ratio of Teams</th>\n",
       "    </tr>\n",
       "  </thead>\n",
       "  <tbody>\n",
       "    <tr>\n",
       "      <th>0</th>\n",
       "      <td>Mumbai Indians</td>\n",
       "      <td>98</td>\n",
       "      <td>171</td>\n",
       "      <td>57.309942</td>\n",
       "    </tr>\n",
       "    <tr>\n",
       "      <th>1</th>\n",
       "      <td>Chennai Super Kings</td>\n",
       "      <td>90</td>\n",
       "      <td>147</td>\n",
       "      <td>61.224490</td>\n",
       "    </tr>\n",
       "    <tr>\n",
       "      <th>2</th>\n",
       "      <td>Kolkata Knight Riders</td>\n",
       "      <td>86</td>\n",
       "      <td>164</td>\n",
       "      <td>52.439024</td>\n",
       "    </tr>\n",
       "    <tr>\n",
       "      <th>3</th>\n",
       "      <td>Royal Challengers Bangalore</td>\n",
       "      <td>79</td>\n",
       "      <td>166</td>\n",
       "      <td>47.590361</td>\n",
       "    </tr>\n",
       "    <tr>\n",
       "      <th>4</th>\n",
       "      <td>Kings XI Punjab</td>\n",
       "      <td>76</td>\n",
       "      <td>162</td>\n",
       "      <td>46.913580</td>\n",
       "    </tr>\n",
       "    <tr>\n",
       "      <th>5</th>\n",
       "      <td>Rajasthan Royals</td>\n",
       "      <td>70</td>\n",
       "      <td>133</td>\n",
       "      <td>52.631579</td>\n",
       "    </tr>\n",
       "    <tr>\n",
       "      <th>6</th>\n",
       "      <td>Delhi Daredevils</td>\n",
       "      <td>67</td>\n",
       "      <td>161</td>\n",
       "      <td>41.614907</td>\n",
       "    </tr>\n",
       "    <tr>\n",
       "      <th>7</th>\n",
       "      <td>Sunrisers Hyderabad</td>\n",
       "      <td>52</td>\n",
       "      <td>93</td>\n",
       "      <td>55.913978</td>\n",
       "    </tr>\n",
       "    <tr>\n",
       "      <th>8</th>\n",
       "      <td>Deccan Chargers</td>\n",
       "      <td>29</td>\n",
       "      <td>75</td>\n",
       "      <td>38.666667</td>\n",
       "    </tr>\n",
       "    <tr>\n",
       "      <th>9</th>\n",
       "      <td>Gujarat Lions</td>\n",
       "      <td>13</td>\n",
       "      <td>30</td>\n",
       "      <td>43.333333</td>\n",
       "    </tr>\n",
       "    <tr>\n",
       "      <th>10</th>\n",
       "      <td>Pune Warriors</td>\n",
       "      <td>12</td>\n",
       "      <td>46</td>\n",
       "      <td>26.086957</td>\n",
       "    </tr>\n",
       "    <tr>\n",
       "      <th>11</th>\n",
       "      <td>Rising Pune Supergiant</td>\n",
       "      <td>10</td>\n",
       "      <td>16</td>\n",
       "      <td>62.500000</td>\n",
       "    </tr>\n",
       "    <tr>\n",
       "      <th>12</th>\n",
       "      <td>Kochi Tuskers Kerala</td>\n",
       "      <td>6</td>\n",
       "      <td>14</td>\n",
       "      <td>42.857143</td>\n",
       "    </tr>\n",
       "    <tr>\n",
       "      <th>13</th>\n",
       "      <td>Rising Pune Supergiants</td>\n",
       "      <td>5</td>\n",
       "      <td>14</td>\n",
       "      <td>35.714286</td>\n",
       "    </tr>\n",
       "  </tbody>\n",
       "</table>\n",
       "</div>"
      ],
      "text/plain": [
       "                          Teams  Winning Matches  Total Matches  \\\n",
       "0                Mumbai Indians               98            171   \n",
       "1           Chennai Super Kings               90            147   \n",
       "2         Kolkata Knight Riders               86            164   \n",
       "3   Royal Challengers Bangalore               79            166   \n",
       "4               Kings XI Punjab               76            162   \n",
       "5              Rajasthan Royals               70            133   \n",
       "6              Delhi Daredevils               67            161   \n",
       "7           Sunrisers Hyderabad               52             93   \n",
       "8               Deccan Chargers               29             75   \n",
       "9                 Gujarat Lions               13             30   \n",
       "10                Pune Warriors               12             46   \n",
       "11       Rising Pune Supergiant               10             16   \n",
       "12         Kochi Tuskers Kerala                6             14   \n",
       "13      Rising Pune Supergiants                5             14   \n",
       "\n",
       "    Win Ratio of Teams  \n",
       "0            57.309942  \n",
       "1            61.224490  \n",
       "2            52.439024  \n",
       "3            47.590361  \n",
       "4            46.913580  \n",
       "5            52.631579  \n",
       "6            41.614907  \n",
       "7            55.913978  \n",
       "8            38.666667  \n",
       "9            43.333333  \n",
       "10           26.086957  \n",
       "11           62.500000  \n",
       "12           42.857143  \n",
       "13           35.714286  "
      ]
     },
     "execution_count": 28,
     "metadata": {},
     "output_type": "execute_result"
    }
   ],
   "source": [
    "teams_df['Win Ratio of Teams'] = win_ratio(teams_df['Winning Matches'],teams_df['Total Matches'])\n",
    "# teams_df.drop(['win ratio'],axis=1,inplace=True)\n",
    "\n",
    "\n",
    "teams_df\n",
    "\n",
    "# CSk accounted highst win ratio with 61.2% in minimum 8 Seasons"
   ]
  },
  {
   "cell_type": "code",
   "execution_count": 29,
   "metadata": {},
   "outputs": [
    {
     "data": {
      "text/plain": [
       "pandas.core.frame.DataFrame"
      ]
     },
     "execution_count": 29,
     "metadata": {},
     "output_type": "execute_result"
    }
   ],
   "source": [
    "type(teams_df)"
   ]
  },
  {
   "cell_type": "code",
   "execution_count": 30,
   "metadata": {},
   "outputs": [
    {
     "data": {
      "text/plain": [
       "(array([ 0,  1,  2,  3,  4,  5,  6,  7,  8,  9, 10, 11, 12, 13]),\n",
       " <a list of 14 Text major ticklabel objects>)"
      ]
     },
     "execution_count": 30,
     "metadata": {},
     "output_type": "execute_result"
    },
    {
     "data": {
      "image/png": "[encoded data removed]",
      "text/plain": [
       "<Figure size 864x360 with 1 Axes>"
      ]
     },
     "metadata": {
      "needs_background": "light"
     },
     "output_type": "display_data"
    }
   ],
   "source": [
    "plt.figure(figsize=(12,5))\n",
    "sns.barplot(x='Teams',y='Win Ratio of Teams',palette='viridis',data=teams_df)\n",
    "plt.xticks(rotation='vertical')"
   ]
  },
  {
   "cell_type": "code",
   "execution_count": 31,
   "metadata": {},
   "outputs": [
    {
     "data": {
      "text/html": [
       "<style  type=\"text/css\" >\n",
       "    #T_dc4fa41c_d16e_11ea_9f58_507b9dfcf050row0_col1 {\n",
       "            background-color:  #67000d;\n",
       "            color:  #f1f1f1;\n",
       "        }    #T_dc4fa41c_d16e_11ea_9f58_507b9dfcf050row0_col2 {\n",
       "            background-color:  #67000d;\n",
       "            color:  #f1f1f1;\n",
       "        }    #T_dc4fa41c_d16e_11ea_9f58_507b9dfcf050row0_col3 {\n",
       "            background-color:  #aa1016;\n",
       "            color:  #f1f1f1;\n",
       "        }    #T_dc4fa41c_d16e_11ea_9f58_507b9dfcf050row1_col1 {\n",
       "            background-color:  #920a13;\n",
       "            color:  #f1f1f1;\n",
       "        }    #T_dc4fa41c_d16e_11ea_9f58_507b9dfcf050row1_col2 {\n",
       "            background-color:  #ad1117;\n",
       "            color:  #f1f1f1;\n",
       "        }    #T_dc4fa41c_d16e_11ea_9f58_507b9dfcf050row1_col3 {\n",
       "            background-color:  #77040f;\n",
       "            color:  #f1f1f1;\n",
       "        }    #T_dc4fa41c_d16e_11ea_9f58_507b9dfcf050row2_col1 {\n",
       "            background-color:  #a60f15;\n",
       "            color:  #f1f1f1;\n",
       "        }    #T_dc4fa41c_d16e_11ea_9f58_507b9dfcf050row2_col2 {\n",
       "            background-color:  #7c0510;\n",
       "            color:  #f1f1f1;\n",
       "        }    #T_dc4fa41c_d16e_11ea_9f58_507b9dfcf050row2_col3 {\n",
       "            background-color:  #d21f20;\n",
       "            color:  #f1f1f1;\n",
       "        }    #T_dc4fa41c_d16e_11ea_9f58_507b9dfcf050row3_col1 {\n",
       "            background-color:  #bd151a;\n",
       "            color:  #f1f1f1;\n",
       "        }    #T_dc4fa41c_d16e_11ea_9f58_507b9dfcf050row3_col2 {\n",
       "            background-color:  #77040f;\n",
       "            color:  #f1f1f1;\n",
       "        }    #T_dc4fa41c_d16e_11ea_9f58_507b9dfcf050row3_col3 {\n",
       "            background-color:  #f24734;\n",
       "            color:  #000000;\n",
       "        }    #T_dc4fa41c_d16e_11ea_9f58_507b9dfcf050row4_col1 {\n",
       "            background-color:  #c7171c;\n",
       "            color:  #f1f1f1;\n",
       "        }    #T_dc4fa41c_d16e_11ea_9f58_507b9dfcf050row4_col2 {\n",
       "            background-color:  #820711;\n",
       "            color:  #f1f1f1;\n",
       "        }    #T_dc4fa41c_d16e_11ea_9f58_507b9dfcf050row4_col3 {\n",
       "            background-color:  #f44f39;\n",
       "            color:  #000000;\n",
       "        }    #T_dc4fa41c_d16e_11ea_9f58_507b9dfcf050row5_col1 {\n",
       "            background-color:  #da2723;\n",
       "            color:  #f1f1f1;\n",
       "        }    #T_dc4fa41c_d16e_11ea_9f58_507b9dfcf050row5_col2 {\n",
       "            background-color:  #c8171c;\n",
       "            color:  #f1f1f1;\n",
       "        }    #T_dc4fa41c_d16e_11ea_9f58_507b9dfcf050row5_col3 {\n",
       "            background-color:  #d11e1f;\n",
       "            color:  #f1f1f1;\n",
       "        }    #T_dc4fa41c_d16e_11ea_9f58_507b9dfcf050row6_col1 {\n",
       "            background-color:  #e32f27;\n",
       "            color:  #f1f1f1;\n",
       "        }    #T_dc4fa41c_d16e_11ea_9f58_507b9dfcf050row6_col2 {\n",
       "            background-color:  #860811;\n",
       "            color:  #f1f1f1;\n",
       "        }    #T_dc4fa41c_d16e_11ea_9f58_507b9dfcf050row6_col3 {\n",
       "            background-color:  #fc8161;\n",
       "            color:  #000000;\n",
       "        }    #T_dc4fa41c_d16e_11ea_9f58_507b9dfcf050row7_col1 {\n",
       "            background-color:  #fa6849;\n",
       "            color:  #000000;\n",
       "        }    #T_dc4fa41c_d16e_11ea_9f58_507b9dfcf050row7_col2 {\n",
       "            background-color:  #fb694a;\n",
       "            color:  #000000;\n",
       "        }    #T_dc4fa41c_d16e_11ea_9f58_507b9dfcf050row7_col3 {\n",
       "            background-color:  #b61319;\n",
       "            color:  #f1f1f1;\n",
       "        }    #T_dc4fa41c_d16e_11ea_9f58_507b9dfcf050row8_col1 {\n",
       "            background-color:  #fcb89e;\n",
       "            color:  #000000;\n",
       "        }    #T_dc4fa41c_d16e_11ea_9f58_507b9dfcf050row8_col2 {\n",
       "            background-color:  #fc8e6e;\n",
       "            color:  #000000;\n",
       "        }    #T_dc4fa41c_d16e_11ea_9f58_507b9dfcf050row8_col3 {\n",
       "            background-color:  #fc9c7d;\n",
       "            color:  #000000;\n",
       "        }    #T_dc4fa41c_d16e_11ea_9f58_507b9dfcf050row9_col1 {\n",
       "            background-color:  #fee7db;\n",
       "            color:  #000000;\n",
       "        }    #T_dc4fa41c_d16e_11ea_9f58_507b9dfcf050row9_col2 {\n",
       "            background-color:  #fee4d8;\n",
       "            color:  #000000;\n",
       "        }    #T_dc4fa41c_d16e_11ea_9f58_507b9dfcf050row9_col3 {\n",
       "            background-color:  #fb7252;\n",
       "            color:  #000000;\n",
       "        }    #T_dc4fa41c_d16e_11ea_9f58_507b9dfcf050row10_col1 {\n",
       "            background-color:  #fee8de;\n",
       "            color:  #000000;\n",
       "        }    #T_dc4fa41c_d16e_11ea_9f58_507b9dfcf050row10_col2 {\n",
       "            background-color:  #fdc9b3;\n",
       "            color:  #000000;\n",
       "        }    #T_dc4fa41c_d16e_11ea_9f58_507b9dfcf050row10_col3 {\n",
       "            background-color:  #fff5f0;\n",
       "            color:  #000000;\n",
       "        }    #T_dc4fa41c_d16e_11ea_9f58_507b9dfcf050row11_col1 {\n",
       "            background-color:  #ffece4;\n",
       "            color:  #000000;\n",
       "        }    #T_dc4fa41c_d16e_11ea_9f58_507b9dfcf050row11_col2 {\n",
       "            background-color:  #fff3ed;\n",
       "            color:  #000000;\n",
       "        }    #T_dc4fa41c_d16e_11ea_9f58_507b9dfcf050row11_col3 {\n",
       "            background-color:  #67000d;\n",
       "            color:  #f1f1f1;\n",
       "        }    #T_dc4fa41c_d16e_11ea_9f58_507b9dfcf050row12_col1 {\n",
       "            background-color:  #fff4ee;\n",
       "            color:  #000000;\n",
       "        }    #T_dc4fa41c_d16e_11ea_9f58_507b9dfcf050row12_col2 {\n",
       "            background-color:  #fff5f0;\n",
       "            color:  #000000;\n",
       "        }    #T_dc4fa41c_d16e_11ea_9f58_507b9dfcf050row12_col3 {\n",
       "            background-color:  #fb7757;\n",
       "            color:  #000000;\n",
       "        }    #T_dc4fa41c_d16e_11ea_9f58_507b9dfcf050row13_col1 {\n",
       "            background-color:  #fff5f0;\n",
       "            color:  #000000;\n",
       "        }    #T_dc4fa41c_d16e_11ea_9f58_507b9dfcf050row13_col2 {\n",
       "            background-color:  #fff5f0;\n",
       "            color:  #000000;\n",
       "        }    #T_dc4fa41c_d16e_11ea_9f58_507b9dfcf050row13_col3 {\n",
       "            background-color:  #fcb79c;\n",
       "            color:  #000000;\n",
       "        }</style><table id=\"T_dc4fa41c_d16e_11ea_9f58_507b9dfcf050\" ><thead>    <tr>        <th class=\"blank level0\" ></th>        <th class=\"col_heading level0 col0\" >Teams</th>        <th class=\"col_heading level0 col1\" >Winning Matches</th>        <th class=\"col_heading level0 col2\" >Total Matches</th>        <th class=\"col_heading level0 col3\" >Win Ratio of Teams</th>    </tr></thead><tbody>\n",
       "                <tr>\n",
       "                        <th id=\"T_dc4fa41c_d16e_11ea_9f58_507b9dfcf050level0_row0\" class=\"row_heading level0 row0\" >0</th>\n",
       "                        <td id=\"T_dc4fa41c_d16e_11ea_9f58_507b9dfcf050row0_col0\" class=\"data row0 col0\" >Mumbai Indians</td>\n",
       "                        <td id=\"T_dc4fa41c_d16e_11ea_9f58_507b9dfcf050row0_col1\" class=\"data row0 col1\" >98</td>\n",
       "                        <td id=\"T_dc4fa41c_d16e_11ea_9f58_507b9dfcf050row0_col2\" class=\"data row0 col2\" >171</td>\n",
       "                        <td id=\"T_dc4fa41c_d16e_11ea_9f58_507b9dfcf050row0_col3\" class=\"data row0 col3\" >57.309942</td>\n",
       "            </tr>\n",
       "            <tr>\n",
       "                        <th id=\"T_dc4fa41c_d16e_11ea_9f58_507b9dfcf050level0_row1\" class=\"row_heading level0 row1\" >1</th>\n",
       "                        <td id=\"T_dc4fa41c_d16e_11ea_9f58_507b9dfcf050row1_col0\" class=\"data row1 col0\" >Chennai Super Kings</td>\n",
       "                        <td id=\"T_dc4fa41c_d16e_11ea_9f58_507b9dfcf050row1_col1\" class=\"data row1 col1\" >90</td>\n",
       "                        <td id=\"T_dc4fa41c_d16e_11ea_9f58_507b9dfcf050row1_col2\" class=\"data row1 col2\" >147</td>\n",
       "                        <td id=\"T_dc4fa41c_d16e_11ea_9f58_507b9dfcf050row1_col3\" class=\"data row1 col3\" >61.224490</td>\n",
       "            </tr>\n",
       "            <tr>\n",
       "                        <th id=\"T_dc4fa41c_d16e_11ea_9f58_507b9dfcf050level0_row2\" class=\"row_heading level0 row2\" >2</th>\n",
       "                        <td id=\"T_dc4fa41c_d16e_11ea_9f58_507b9dfcf050row2_col0\" class=\"data row2 col0\" >Kolkata Knight Riders</td>\n",
       "                        <td id=\"T_dc4fa41c_d16e_11ea_9f58_507b9dfcf050row2_col1\" class=\"data row2 col1\" >86</td>\n",
       "                        <td id=\"T_dc4fa41c_d16e_11ea_9f58_507b9dfcf050row2_col2\" class=\"data row2 col2\" >164</td>\n",
       "                        <td id=\"T_dc4fa41c_d16e_11ea_9f58_507b9dfcf050row2_col3\" class=\"data row2 col3\" >52.439024</td>\n",
       "            </tr>\n",
       "            <tr>\n",
       "                        <th id=\"T_dc4fa41c_d16e_11ea_9f58_507b9dfcf050level0_row3\" class=\"row_heading level0 row3\" >3</th>\n",
       "                        <td id=\"T_dc4fa41c_d16e_11ea_9f58_507b9dfcf050row3_col0\" class=\"data row3 col0\" >Royal Challengers Bangalore</td>\n",
       "                        <td id=\"T_dc4fa41c_d16e_11ea_9f58_507b9dfcf050row3_col1\" class=\"data row3 col1\" >79</td>\n",
       "                        <td id=\"T_dc4fa41c_d16e_11ea_9f58_507b9dfcf050row3_col2\" class=\"data row3 col2\" >166</td>\n",
       "                        <td id=\"T_dc4fa41c_d16e_11ea_9f58_507b9dfcf050row3_col3\" class=\"data row3 col3\" >47.590361</td>\n",
       "            </tr>\n",
       "            <tr>\n",
       "                        <th id=\"T_dc4fa41c_d16e_11ea_9f58_507b9dfcf050level0_row4\" class=\"row_heading level0 row4\" >4</th>\n",
       "                        <td id=\"T_dc4fa41c_d16e_11ea_9f58_507b9dfcf050row4_col0\" class=\"data row4 col0\" >Kings XI Punjab</td>\n",
       "                        <td id=\"T_dc4fa41c_d16e_11ea_9f58_507b9dfcf050row4_col1\" class=\"data row4 col1\" >76</td>\n",
       "                        <td id=\"T_dc4fa41c_d16e_11ea_9f58_507b9dfcf050row4_col2\" class=\"data row4 col2\" >162</td>\n",
       "                        <td id=\"T_dc4fa41c_d16e_11ea_9f58_507b9dfcf050row4_col3\" class=\"data row4 col3\" >46.913580</td>\n",
       "            </tr>\n",
       "            <tr>\n",
       "                        <th id=\"T_dc4fa41c_d16e_11ea_9f58_507b9dfcf050level0_row5\" class=\"row_heading level0 row5\" >5</th>\n",
       "                        <td id=\"T_dc4fa41c_d16e_11ea_9f58_507b9dfcf050row5_col0\" class=\"data row5 col0\" >Rajasthan Royals</td>\n",
       "                        <td id=\"T_dc4fa41c_d16e_11ea_9f58_507b9dfcf050row5_col1\" class=\"data row5 col1\" >70</td>\n",
       "                        <td id=\"T_dc4fa41c_d16e_11ea_9f58_507b9dfcf050row5_col2\" class=\"data row5 col2\" >133</td>\n",
       "                        <td id=\"T_dc4fa41c_d16e_11ea_9f58_507b9dfcf050row5_col3\" class=\"data row5 col3\" >52.631579</td>\n",
       "            </tr>\n",
       "            <tr>\n",
       "                        <th id=\"T_dc4fa41c_d16e_11ea_9f58_507b9dfcf050level0_row6\" class=\"row_heading level0 row6\" >6</th>\n",
       "                        <td id=\"T_dc4fa41c_d16e_11ea_9f58_507b9dfcf050row6_col0\" class=\"data row6 col0\" >Delhi Daredevils</td>\n",
       "                        <td id=\"T_dc4fa41c_d16e_11ea_9f58_507b9dfcf050row6_col1\" class=\"data row6 col1\" >67</td>\n",
       "                        <td id=\"T_dc4fa41c_d16e_11ea_9f58_507b9dfcf050row6_col2\" class=\"data row6 col2\" >161</td>\n",
       "                        <td id=\"T_dc4fa41c_d16e_11ea_9f58_507b9dfcf050row6_col3\" class=\"data row6 col3\" >41.614907</td>\n",
       "            </tr>\n",
       "            <tr>\n",
       "                        <th id=\"T_dc4fa41c_d16e_11ea_9f58_507b9dfcf050level0_row7\" class=\"row_heading level0 row7\" >7</th>\n",
       "                        <td id=\"T_dc4fa41c_d16e_11ea_9f58_507b9dfcf050row7_col0\" class=\"data row7 col0\" >Sunrisers Hyderabad</td>\n",
       "                        <td id=\"T_dc4fa41c_d16e_11ea_9f58_507b9dfcf050row7_col1\" class=\"data row7 col1\" >52</td>\n",
       "                        <td id=\"T_dc4fa41c_d16e_11ea_9f58_507b9dfcf050row7_col2\" class=\"data row7 col2\" >93</td>\n",
       "                        <td id=\"T_dc4fa41c_d16e_11ea_9f58_507b9dfcf050row7_col3\" class=\"data row7 col3\" >55.913978</td>\n",
       "            </tr>\n",
       "            <tr>\n",
       "                        <th id=\"T_dc4fa41c_d16e_11ea_9f58_507b9dfcf050level0_row8\" class=\"row_heading level0 row8\" >8</th>\n",
       "                        <td id=\"T_dc4fa41c_d16e_11ea_9f58_507b9dfcf050row8_col0\" class=\"data row8 col0\" >Deccan Chargers</td>\n",
       "                        <td id=\"T_dc4fa41c_d16e_11ea_9f58_507b9dfcf050row8_col1\" class=\"data row8 col1\" >29</td>\n",
       "                        <td id=\"T_dc4fa41c_d16e_11ea_9f58_507b9dfcf050row8_col2\" class=\"data row8 col2\" >75</td>\n",
       "                        <td id=\"T_dc4fa41c_d16e_11ea_9f58_507b9dfcf050row8_col3\" class=\"data row8 col3\" >38.666667</td>\n",
       "            </tr>\n",
       "            <tr>\n",
       "                        <th id=\"T_dc4fa41c_d16e_11ea_9f58_507b9dfcf050level0_row9\" class=\"row_heading level0 row9\" >9</th>\n",
       "                        <td id=\"T_dc4fa41c_d16e_11ea_9f58_507b9dfcf050row9_col0\" class=\"data row9 col0\" >Gujarat Lions</td>\n",
       "                        <td id=\"T_dc4fa41c_d16e_11ea_9f58_507b9dfcf050row9_col1\" class=\"data row9 col1\" >13</td>\n",
       "                        <td id=\"T_dc4fa41c_d16e_11ea_9f58_507b9dfcf050row9_col2\" class=\"data row9 col2\" >30</td>\n",
       "                        <td id=\"T_dc4fa41c_d16e_11ea_9f58_507b9dfcf050row9_col3\" class=\"data row9 col3\" >43.333333</td>\n",
       "            </tr>\n",
       "            <tr>\n",
       "                        <th id=\"T_dc4fa41c_d16e_11ea_9f58_507b9dfcf050level0_row10\" class=\"row_heading level0 row10\" >10</th>\n",
       "                        <td id=\"T_dc4fa41c_d16e_11ea_9f58_507b9dfcf050row10_col0\" class=\"data row10 col0\" >Pune Warriors</td>\n",
       "                        <td id=\"T_dc4fa41c_d16e_11ea_9f58_507b9dfcf050row10_col1\" class=\"data row10 col1\" >12</td>\n",
       "                        <td id=\"T_dc4fa41c_d16e_11ea_9f58_507b9dfcf050row10_col2\" class=\"data row10 col2\" >46</td>\n",
       "                        <td id=\"T_dc4fa41c_d16e_11ea_9f58_507b9dfcf050row10_col3\" class=\"data row10 col3\" >26.086957</td>\n",
       "            </tr>\n",
       "            <tr>\n",
       "                        <th id=\"T_dc4fa41c_d16e_11ea_9f58_507b9dfcf050level0_row11\" class=\"row_heading level0 row11\" >11</th>\n",
       "                        <td id=\"T_dc4fa41c_d16e_11ea_9f58_507b9dfcf050row11_col0\" class=\"data row11 col0\" >Rising Pune Supergiant</td>\n",
       "                        <td id=\"T_dc4fa41c_d16e_11ea_9f58_507b9dfcf050row11_col1\" class=\"data row11 col1\" >10</td>\n",
       "                        <td id=\"T_dc4fa41c_d16e_11ea_9f58_507b9dfcf050row11_col2\" class=\"data row11 col2\" >16</td>\n",
       "                        <td id=\"T_dc4fa41c_d16e_11ea_9f58_507b9dfcf050row11_col3\" class=\"data row11 col3\" >62.500000</td>\n",
       "            </tr>\n",
       "            <tr>\n",
       "                        <th id=\"T_dc4fa41c_d16e_11ea_9f58_507b9dfcf050level0_row12\" class=\"row_heading level0 row12\" >12</th>\n",
       "                        <td id=\"T_dc4fa41c_d16e_11ea_9f58_507b9dfcf050row12_col0\" class=\"data row12 col0\" >Kochi Tuskers Kerala</td>\n",
       "                        <td id=\"T_dc4fa41c_d16e_11ea_9f58_507b9dfcf050row12_col1\" class=\"data row12 col1\" >6</td>\n",
       "                        <td id=\"T_dc4fa41c_d16e_11ea_9f58_507b9dfcf050row12_col2\" class=\"data row12 col2\" >14</td>\n",
       "                        <td id=\"T_dc4fa41c_d16e_11ea_9f58_507b9dfcf050row12_col3\" class=\"data row12 col3\" >42.857143</td>\n",
       "            </tr>\n",
       "            <tr>\n",
       "                        <th id=\"T_dc4fa41c_d16e_11ea_9f58_507b9dfcf050level0_row13\" class=\"row_heading level0 row13\" >13</th>\n",
       "                        <td id=\"T_dc4fa41c_d16e_11ea_9f58_507b9dfcf050row13_col0\" class=\"data row13 col0\" >Rising Pune Supergiants</td>\n",
       "                        <td id=\"T_dc4fa41c_d16e_11ea_9f58_507b9dfcf050row13_col1\" class=\"data row13 col1\" >5</td>\n",
       "                        <td id=\"T_dc4fa41c_d16e_11ea_9f58_507b9dfcf050row13_col2\" class=\"data row13 col2\" >14</td>\n",
       "                        <td id=\"T_dc4fa41c_d16e_11ea_9f58_507b9dfcf050row13_col3\" class=\"data row13 col3\" >35.714286</td>\n",
       "            </tr>\n",
       "    </tbody></table>"
      ],
      "text/plain": [
       "<pandas.io.formats.style.Styler at 0x1c9fdf58438>"
      ]
     },
     "execution_count": 31,
     "metadata": {},
     "output_type": "execute_result"
    }
   ],
   "source": [
    "teams_df.style.background_gradient(cmap='Reds')"
   ]
  },
  {
   "cell_type": "code",
   "execution_count": null,
   "metadata": {},
   "outputs": [],
   "source": []
  },
  {
   "cell_type": "code",
   "execution_count": 32,
   "metadata": {},
   "outputs": [
    {
     "data": {
      "text/html": [
       "<div>\n",
       "<style scoped>\n",
       "    .dataframe tbody tr th:only-of-type {\n",
       "        vertical-align: middle;\n",
       "    }\n",
       "\n",
       "    .dataframe tbody tr th {\n",
       "        vertical-align: top;\n",
       "    }\n",
       "\n",
       "    .dataframe thead th {\n",
       "        text-align: right;\n",
       "    }\n",
       "</style>\n",
       "<table border=\"1\" class=\"dataframe\">\n",
       "  <thead>\n",
       "    <tr style=\"text-align: right;\">\n",
       "      <th></th>\n",
       "      <th>id</th>\n",
       "      <th>season</th>\n",
       "      <th>city</th>\n",
       "      <th>date</th>\n",
       "      <th>team1</th>\n",
       "      <th>team2</th>\n",
       "      <th>toss_winner</th>\n",
       "      <th>toss_decision</th>\n",
       "      <th>result</th>\n",
       "      <th>dl_applied</th>\n",
       "      <th>winner</th>\n",
       "      <th>win_by_runs</th>\n",
       "      <th>win_by_wickets</th>\n",
       "      <th>player_of_match</th>\n",
       "      <th>venue</th>\n",
       "      <th>umpire1</th>\n",
       "      <th>umpire2</th>\n",
       "      <th>umpire3</th>\n",
       "    </tr>\n",
       "  </thead>\n",
       "  <tbody>\n",
       "    <tr>\n",
       "      <th>0</th>\n",
       "      <td>1</td>\n",
       "      <td>2017</td>\n",
       "      <td>Hyderabad</td>\n",
       "      <td>05-04-2017</td>\n",
       "      <td>Sunrisers Hyderabad</td>\n",
       "      <td>Royal Challengers Bangalore</td>\n",
       "      <td>Royal Challengers Bangalore</td>\n",
       "      <td>field</td>\n",
       "      <td>normal</td>\n",
       "      <td>0</td>\n",
       "      <td>Sunrisers Hyderabad</td>\n",
       "      <td>35</td>\n",
       "      <td>0</td>\n",
       "      <td>Yuvraj Singh</td>\n",
       "      <td>Rajiv Gandhi International Stadium, Uppal</td>\n",
       "      <td>AY Dandekar</td>\n",
       "      <td>NJ Llong</td>\n",
       "      <td>NaN</td>\n",
       "    </tr>\n",
       "    <tr>\n",
       "      <th>1</th>\n",
       "      <td>2</td>\n",
       "      <td>2017</td>\n",
       "      <td>Pune</td>\n",
       "      <td>06-04-2017</td>\n",
       "      <td>Mumbai Indians</td>\n",
       "      <td>Rising Pune Supergiant</td>\n",
       "      <td>Rising Pune Supergiant</td>\n",
       "      <td>field</td>\n",
       "      <td>normal</td>\n",
       "      <td>0</td>\n",
       "      <td>Rising Pune Supergiant</td>\n",
       "      <td>0</td>\n",
       "      <td>7</td>\n",
       "      <td>SPD Smith</td>\n",
       "      <td>Maharashtra Cricket Association Stadium</td>\n",
       "      <td>A Nand Kishore</td>\n",
       "      <td>S Ravi</td>\n",
       "      <td>NaN</td>\n",
       "    </tr>\n",
       "  </tbody>\n",
       "</table>\n",
       "</div>"
      ],
      "text/plain": [
       "   id  season       city        date                team1  \\\n",
       "0   1    2017  Hyderabad  05-04-2017  Sunrisers Hyderabad   \n",
       "1   2    2017       Pune  06-04-2017       Mumbai Indians   \n",
       "\n",
       "                         team2                  toss_winner toss_decision  \\\n",
       "0  Royal Challengers Bangalore  Royal Challengers Bangalore         field   \n",
       "1       Rising Pune Supergiant       Rising Pune Supergiant         field   \n",
       "\n",
       "   result  dl_applied                  winner  win_by_runs  win_by_wickets  \\\n",
       "0  normal           0     Sunrisers Hyderabad           35               0   \n",
       "1  normal           0  Rising Pune Supergiant            0               7   \n",
       "\n",
       "  player_of_match                                      venue         umpire1  \\\n",
       "0    Yuvraj Singh  Rajiv Gandhi International Stadium, Uppal     AY Dandekar   \n",
       "1       SPD Smith    Maharashtra Cricket Association Stadium  A Nand Kishore   \n",
       "\n",
       "    umpire2 umpire3  \n",
       "0  NJ Llong     NaN  \n",
       "1    S Ravi     NaN  "
      ]
     },
     "execution_count": 32,
     "metadata": {},
     "output_type": "execute_result"
    }
   ],
   "source": [
    "matches.head(2)"
   ]
  },
  {
   "cell_type": "code",
   "execution_count": 33,
   "metadata": {},
   "outputs": [
    {
     "name": "stdout",
     "output_type": "stream",
     "text": [
      "Total cities : 32\n"
     ]
    }
   ],
   "source": [
    "city = matches['city'].nunique()\n",
    "print(f'Total cities : {city}')"
   ]
  },
  {
   "cell_type": "markdown",
   "metadata": {},
   "source": [
    "### Name of Cities "
   ]
  },
  {
   "cell_type": "code",
   "execution_count": 34,
   "metadata": {},
   "outputs": [
    {
     "data": {
      "text/plain": [
       "array(['Hyderabad', 'Pune', 'Rajkot', 'Indore', 'Bangalore', 'Mumbai',\n",
       "       'Kolkata', 'Delhi', 'Chandigarh', 'Kanpur', 'Jaipur', 'Chennai',\n",
       "       'Cape Town', 'Port Elizabeth', 'Durban', 'Centurion',\n",
       "       'East London', 'Johannesburg', 'Kimberley', 'Bloemfontein',\n",
       "       'Ahmedabad', 'Cuttack', 'Nagpur', 'Dharamsala', 'Kochi',\n",
       "       'Visakhapatnam', 'Raipur', 'Ranchi', 'Abu Dhabi', 'Sharjah', nan,\n",
       "       'Mohali', 'Bengaluru'], dtype=object)"
      ]
     },
     "execution_count": 34,
     "metadata": {},
     "output_type": "execute_result"
    }
   ],
   "source": [
    "matches['city'].unique()"
   ]
  },
  {
   "cell_type": "code",
   "execution_count": 35,
   "metadata": {},
   "outputs": [],
   "source": [
    "location = matches['city']+', ' + matches['venue']\n"
   ]
  },
  {
   "cell_type": "code",
   "execution_count": 36,
   "metadata": {},
   "outputs": [],
   "source": [
    "location = pd.DataFrame(data=location)\n",
    "location.rename(columns={0:'Location'},inplace=True)"
   ]
  },
  {
   "cell_type": "code",
   "execution_count": 37,
   "metadata": {},
   "outputs": [
    {
     "data": {
      "text/html": [
       "<div>\n",
       "<style scoped>\n",
       "    .dataframe tbody tr th:only-of-type {\n",
       "        vertical-align: middle;\n",
       "    }\n",
       "\n",
       "    .dataframe tbody tr th {\n",
       "        vertical-align: top;\n",
       "    }\n",
       "\n",
       "    .dataframe thead th {\n",
       "        text-align: right;\n",
       "    }\n",
       "</style>\n",
       "<table border=\"1\" class=\"dataframe\">\n",
       "  <thead>\n",
       "    <tr style=\"text-align: right;\">\n",
       "      <th></th>\n",
       "      <th>Location</th>\n",
       "    </tr>\n",
       "  </thead>\n",
       "  <tbody>\n",
       "    <tr>\n",
       "      <th>0</th>\n",
       "      <td>Hyderabad, Rajiv Gandhi International Stadium,...</td>\n",
       "    </tr>\n",
       "    <tr>\n",
       "      <th>1</th>\n",
       "      <td>Pune, Maharashtra Cricket Association Stadium</td>\n",
       "    </tr>\n",
       "    <tr>\n",
       "      <th>2</th>\n",
       "      <td>Rajkot, Saurashtra Cricket Association Stadium</td>\n",
       "    </tr>\n",
       "    <tr>\n",
       "      <th>3</th>\n",
       "      <td>Indore, Holkar Cricket Stadium</td>\n",
       "    </tr>\n",
       "    <tr>\n",
       "      <th>4</th>\n",
       "      <td>Bangalore, M Chinnaswamy Stadium</td>\n",
       "    </tr>\n",
       "  </tbody>\n",
       "</table>\n",
       "</div>"
      ],
      "text/plain": [
       "                                            Location\n",
       "0  Hyderabad, Rajiv Gandhi International Stadium,...\n",
       "1      Pune, Maharashtra Cricket Association Stadium\n",
       "2     Rajkot, Saurashtra Cricket Association Stadium\n",
       "3                     Indore, Holkar Cricket Stadium\n",
       "4                   Bangalore, M Chinnaswamy Stadium"
      ]
     },
     "execution_count": 37,
     "metadata": {},
     "output_type": "execute_result"
    }
   ],
   "source": [
    "location.head()"
   ]
  },
  {
   "cell_type": "code",
   "execution_count": null,
   "metadata": {},
   "outputs": [],
   "source": []
  },
  {
   "cell_type": "markdown",
   "metadata": {},
   "source": [
    "## Umpire List"
   ]
  },
  {
   "cell_type": "code",
   "execution_count": 38,
   "metadata": {},
   "outputs": [
    {
     "data": {
      "text/html": [
       "<div>\n",
       "<style scoped>\n",
       "    .dataframe tbody tr th:only-of-type {\n",
       "        vertical-align: middle;\n",
       "    }\n",
       "\n",
       "    .dataframe tbody tr th {\n",
       "        vertical-align: top;\n",
       "    }\n",
       "\n",
       "    .dataframe thead th {\n",
       "        text-align: right;\n",
       "    }\n",
       "</style>\n",
       "<table border=\"1\" class=\"dataframe\">\n",
       "  <thead>\n",
       "    <tr style=\"text-align: right;\">\n",
       "      <th></th>\n",
       "      <th>id</th>\n",
       "      <th>variable</th>\n",
       "      <th>value</th>\n",
       "    </tr>\n",
       "  </thead>\n",
       "  <tbody>\n",
       "    <tr>\n",
       "      <th>0</th>\n",
       "      <td>1</td>\n",
       "      <td>umpire1</td>\n",
       "      <td>AY Dandekar</td>\n",
       "    </tr>\n",
       "    <tr>\n",
       "      <th>1</th>\n",
       "      <td>2</td>\n",
       "      <td>umpire1</td>\n",
       "      <td>A Nand Kishore</td>\n",
       "    </tr>\n",
       "    <tr>\n",
       "      <th>2</th>\n",
       "      <td>3</td>\n",
       "      <td>umpire1</td>\n",
       "      <td>Nitin Menon</td>\n",
       "    </tr>\n",
       "    <tr>\n",
       "      <th>3</th>\n",
       "      <td>4</td>\n",
       "      <td>umpire1</td>\n",
       "      <td>AK Chaudhary</td>\n",
       "    </tr>\n",
       "    <tr>\n",
       "      <th>4</th>\n",
       "      <td>5</td>\n",
       "      <td>umpire1</td>\n",
       "      <td>NaN</td>\n",
       "    </tr>\n",
       "    <tr>\n",
       "      <th>...</th>\n",
       "      <td>...</td>\n",
       "      <td>...</td>\n",
       "      <td>...</td>\n",
       "    </tr>\n",
       "    <tr>\n",
       "      <th>2083</th>\n",
       "      <td>7949</td>\n",
       "      <td>umpire3</td>\n",
       "      <td>Marais Erasmus</td>\n",
       "    </tr>\n",
       "    <tr>\n",
       "      <th>2084</th>\n",
       "      <td>7950</td>\n",
       "      <td>umpire3</td>\n",
       "      <td>S Ravi</td>\n",
       "    </tr>\n",
       "    <tr>\n",
       "      <th>2085</th>\n",
       "      <td>7951</td>\n",
       "      <td>umpire3</td>\n",
       "      <td>Kumar Dharmasena</td>\n",
       "    </tr>\n",
       "    <tr>\n",
       "      <th>2086</th>\n",
       "      <td>7952</td>\n",
       "      <td>umpire3</td>\n",
       "      <td>Anil Chaudhary</td>\n",
       "    </tr>\n",
       "    <tr>\n",
       "      <th>2087</th>\n",
       "      <td>7953</td>\n",
       "      <td>umpire3</td>\n",
       "      <td>Nitin Menon</td>\n",
       "    </tr>\n",
       "  </tbody>\n",
       "</table>\n",
       "<p>2088 rows × 3 columns</p>\n",
       "</div>"
      ],
      "text/plain": [
       "        id variable             value\n",
       "0        1  umpire1       AY Dandekar\n",
       "1        2  umpire1    A Nand Kishore\n",
       "2        3  umpire1       Nitin Menon\n",
       "3        4  umpire1      AK Chaudhary\n",
       "4        5  umpire1               NaN\n",
       "...    ...      ...               ...\n",
       "2083  7949  umpire3    Marais Erasmus\n",
       "2084  7950  umpire3            S Ravi\n",
       "2085  7951  umpire3  Kumar Dharmasena\n",
       "2086  7952  umpire3    Anil Chaudhary\n",
       "2087  7953  umpire3       Nitin Menon\n",
       "\n",
       "[2088 rows x 3 columns]"
      ]
     },
     "execution_count": 38,
     "metadata": {},
     "output_type": "execute_result"
    }
   ],
   "source": [
    "temp_df = pd.melt(matches, id_vars=['id'], value_vars=['umpire1', 'umpire2','umpire3'])\n",
    "temp_df"
   ]
  },
  {
   "cell_type": "code",
   "execution_count": 39,
   "metadata": {},
   "outputs": [
    {
     "data": {
      "text/plain": [
       "array(['AY Dandekar', 'A Nand Kishore', 'Nitin Menon', 'AK Chaudhary',\n",
       "       nan, 'A Deshmukh', 'KN Ananthapadmanabhan', 'YC Barde', 'S Ravi',\n",
       "       'CB Gaffaney', 'M Erasmus', 'NJ Llong', 'CK Nandan', 'Asad Rauf',\n",
       "       'MR Benson', 'Aleem Dar', 'SJ Davis', 'BF Bowden', 'IL Howell',\n",
       "       'DJ Harper', 'RE Koertzen', 'BR Doctrove', 'AV Jayaprakash',\n",
       "       'BG Jerling', 'HDPK Dharmasena', 'S Asnani', 'GAV Baxter',\n",
       "       'SS Hazare', 'K Hariharan', 'SL Shastri', 'SK Tarapore',\n",
       "       'SJA Taufel', 'S Das', 'AM Saheba', 'PR Reiffel', 'JD Cloete',\n",
       "       'VA Kulkarni', 'BNJ Oxenford', 'C Shamshuddin', 'RK Illingworth',\n",
       "       'RM Deshpande', 'K Srinath', 'SD Fry', 'PG Pathak', 'K Bharatan',\n",
       "       'Chris Gaffaney', 'Rod Tucker', 'Nigel Llong', 'Anil Chaudhary',\n",
       "       'K Ananthapadmanabhan', 'O Nandan', 'A Nanda Kishore',\n",
       "       'Vineet Kulkarni', 'Bruce Oxenford', 'Marais Erasmus',\n",
       "       'Kumar Dharmasena', 'VK Sharma', 'GA Pratapkumar', 'RB Tiffin',\n",
       "       'I Shivram', 'SD Ranade', 'TH Wijewardene', 'AL Hill', 'RJ Tucker',\n",
       "       'Subroto Das', 'K Srinivasan', 'A.D Deshmukh',\n",
       "       'Virender Kumar Sharma', 'Yeshwant Barde', 'Anil Dandekar'],\n",
       "      dtype=object)"
      ]
     },
     "execution_count": 39,
     "metadata": {},
     "output_type": "execute_result"
    }
   ],
   "source": [
    "temp_df['value'].unique()"
   ]
  },
  {
   "cell_type": "code",
   "execution_count": 40,
   "metadata": {},
   "outputs": [
    {
     "name": "stdout",
     "output_type": "stream",
     "text": [
      "Total Umpires in IPL : 69\n"
     ]
    }
   ],
   "source": [
    "ump = temp_df['value'].nunique()\n",
    "print(f'Total Umpires in IPL : {ump}')"
   ]
  },
  {
   "cell_type": "code",
   "execution_count": 41,
   "metadata": {},
   "outputs": [],
   "source": [
    "up = temp_df['value'].value_counts().head(10)\n",
    "up = up.to_frame()\n",
    "up.reset_index(inplace=True)"
   ]
  },
  {
   "cell_type": "code",
   "execution_count": 42,
   "metadata": {},
   "outputs": [
    {
     "data": {
      "text/html": [
       "<div>\n",
       "<style scoped>\n",
       "    .dataframe tbody tr th:only-of-type {\n",
       "        vertical-align: middle;\n",
       "    }\n",
       "\n",
       "    .dataframe tbody tr th {\n",
       "        vertical-align: top;\n",
       "    }\n",
       "\n",
       "    .dataframe thead th {\n",
       "        text-align: right;\n",
       "    }\n",
       "</style>\n",
       "<table border=\"1\" class=\"dataframe\">\n",
       "  <thead>\n",
       "    <tr style=\"text-align: right;\">\n",
       "      <th></th>\n",
       "      <th>Umpires</th>\n",
       "      <th>Match</th>\n",
       "    </tr>\n",
       "  </thead>\n",
       "  <tbody>\n",
       "    <tr>\n",
       "      <th>0</th>\n",
       "      <td>S Ravi</td>\n",
       "      <td>101</td>\n",
       "    </tr>\n",
       "    <tr>\n",
       "      <th>1</th>\n",
       "      <td>HDPK Dharmasena</td>\n",
       "      <td>87</td>\n",
       "    </tr>\n",
       "    <tr>\n",
       "      <th>2</th>\n",
       "      <td>C Shamshuddin</td>\n",
       "      <td>71</td>\n",
       "    </tr>\n",
       "    <tr>\n",
       "      <th>3</th>\n",
       "      <td>AK Chaudhary</td>\n",
       "      <td>58</td>\n",
       "    </tr>\n",
       "    <tr>\n",
       "      <th>4</th>\n",
       "      <td>SJA Taufel</td>\n",
       "      <td>55</td>\n",
       "    </tr>\n",
       "    <tr>\n",
       "      <th>5</th>\n",
       "      <td>M Erasmus</td>\n",
       "      <td>54</td>\n",
       "    </tr>\n",
       "    <tr>\n",
       "      <th>6</th>\n",
       "      <td>Asad Rauf</td>\n",
       "      <td>51</td>\n",
       "    </tr>\n",
       "    <tr>\n",
       "      <th>7</th>\n",
       "      <td>BR Doctrove</td>\n",
       "      <td>42</td>\n",
       "    </tr>\n",
       "    <tr>\n",
       "      <th>8</th>\n",
       "      <td>CK Nandan</td>\n",
       "      <td>41</td>\n",
       "    </tr>\n",
       "    <tr>\n",
       "      <th>9</th>\n",
       "      <td>RE Koertzen</td>\n",
       "      <td>41</td>\n",
       "    </tr>\n",
       "  </tbody>\n",
       "</table>\n",
       "</div>"
      ],
      "text/plain": [
       "           Umpires  Match\n",
       "0           S Ravi    101\n",
       "1  HDPK Dharmasena     87\n",
       "2    C Shamshuddin     71\n",
       "3     AK Chaudhary     58\n",
       "4       SJA Taufel     55\n",
       "5        M Erasmus     54\n",
       "6        Asad Rauf     51\n",
       "7      BR Doctrove     42\n",
       "8        CK Nandan     41\n",
       "9      RE Koertzen     41"
      ]
     },
     "execution_count": 42,
     "metadata": {},
     "output_type": "execute_result"
    }
   ],
   "source": [
    "type(up)\n",
    "up.columns = ['Umpires','Match']\n",
    "up\n",
    "# S Ravi Umpired in 101 matches"
   ]
  },
  {
   "cell_type": "markdown",
   "metadata": {},
   "source": [
    "## Top 10 Umpires"
   ]
  },
  {
   "cell_type": "code",
   "execution_count": 43,
   "metadata": {},
   "outputs": [
    {
     "data": {
      "text/plain": [
       "(array([0, 1, 2, 3, 4, 5, 6, 7, 8, 9]),\n",
       " <a list of 10 Text major ticklabel objects>)"
      ]
     },
     "execution_count": 43,
     "metadata": {},
     "output_type": "execute_result"
    },
    {
     "data": {
      "image/png": "[encoded data removed]",
      "text/plain": [
       "<Figure size 864x360 with 1 Axes>"
      ]
     },
     "metadata": {
      "needs_background": "light"
     },
     "output_type": "display_data"
    }
   ],
   "source": [
    "plt.figure(figsize=(12,5))\n",
    "sns.barplot(x='Umpires',y='Match',data=up)\n",
    "plt.xticks(rotation='vertical')"
   ]
  },
  {
   "cell_type": "markdown",
   "metadata": {},
   "source": [
    "## Toss Decision"
   ]
  },
  {
   "cell_type": "code",
   "execution_count": 44,
   "metadata": {},
   "outputs": [],
   "source": [
    "field = matches['toss_decision'].value_counts()['field']\n",
    "bat = matches['toss_decision'].value_counts()['bat']"
   ]
  },
  {
   "cell_type": "code",
   "execution_count": 45,
   "metadata": {},
   "outputs": [
    {
     "name": "stdout",
     "output_type": "stream",
     "text": [
      "Decisions of fields by winning toss : 413\n",
      "Decisions of bat by winning toss : 283\n"
     ]
    }
   ],
   "source": [
    "print(f'Decisions of fields by winning toss : {field}')\n",
    "print(f'Decisions of bat by winning toss : {bat}')"
   ]
  },
  {
   "cell_type": "code",
   "execution_count": 46,
   "metadata": {},
   "outputs": [
    {
     "data": {
      "text/plain": [
       "<matplotlib.axes._subplots.AxesSubplot at 0x1c9fe008a58>"
      ]
     },
     "execution_count": 46,
     "metadata": {},
     "output_type": "execute_result"
    },
    {
     "data": {
      "image/png": "[encoded data removed]",
      "text/plain": [
       "<Figure size 432x288 with 1 Axes>"
      ]
     },
     "metadata": {
      "needs_background": "light"
     },
     "output_type": "display_data"
    }
   ],
   "source": [
    "sns.countplot(x='toss_decision',data=matches)"
   ]
  },
  {
   "cell_type": "code",
   "execution_count": null,
   "metadata": {},
   "outputs": [],
   "source": []
  },
  {
   "cell_type": "code",
   "execution_count": 47,
   "metadata": {},
   "outputs": [
    {
     "data": {
      "text/plain": [
       "Text(0.5, 1.0, 'Toss Decision Percentage')"
      ]
     },
     "execution_count": 47,
     "metadata": {},
     "output_type": "execute_result"
    },
    {
     "data": {
      "image/png": "[encoded data removed]",
      "text/plain": [
       "<Figure size 864x432 with 1 Axes>"
      ]
     },
     "metadata": {},
     "output_type": "display_data"
    }
   ],
   "source": [
    "Pie_chart = matches['toss_decision'].value_counts().copy()\n",
    "sizes = (np.array((Pie_chart/Pie_chart.sum())*100))\n",
    "labels = np.array(Pie_chart.index)\n",
    "color = ['lightblue','lightpink']\n",
    "plt.figure(figsize=(12,6))\n",
    "plt.pie(sizes,labels=labels,colors=color,startangle=80,autopct='%1.1f%%', shadow=True,explode=(0.05,0))\n",
    "plt.title('Toss Decision Percentage',{'fontsize':20})\n",
    "\n",
    "# Most teams prefer to select filed first"
   ]
  },
  {
   "cell_type": "code",
   "execution_count": null,
   "metadata": {},
   "outputs": [],
   "source": []
  },
  {
   "cell_type": "code",
   "execution_count": null,
   "metadata": {},
   "outputs": [],
   "source": []
  },
  {
   "cell_type": "code",
   "execution_count": 48,
   "metadata": {},
   "outputs": [
    {
     "data": {
      "text/html": [
       "<div>\n",
       "<style scoped>\n",
       "    .dataframe tbody tr th:only-of-type {\n",
       "        vertical-align: middle;\n",
       "    }\n",
       "\n",
       "    .dataframe tbody tr th {\n",
       "        vertical-align: top;\n",
       "    }\n",
       "\n",
       "    .dataframe thead th {\n",
       "        text-align: right;\n",
       "    }\n",
       "</style>\n",
       "<table border=\"1\" class=\"dataframe\">\n",
       "  <thead>\n",
       "    <tr style=\"text-align: right;\">\n",
       "      <th></th>\n",
       "      <th>id</th>\n",
       "      <th>season</th>\n",
       "      <th>city</th>\n",
       "      <th>date</th>\n",
       "      <th>team1</th>\n",
       "      <th>team2</th>\n",
       "      <th>toss_winner</th>\n",
       "      <th>toss_decision</th>\n",
       "      <th>result</th>\n",
       "      <th>dl_applied</th>\n",
       "      <th>winner</th>\n",
       "      <th>win_by_runs</th>\n",
       "      <th>win_by_wickets</th>\n",
       "      <th>player_of_match</th>\n",
       "      <th>venue</th>\n",
       "      <th>umpire1</th>\n",
       "      <th>umpire2</th>\n",
       "      <th>umpire3</th>\n",
       "    </tr>\n",
       "  </thead>\n",
       "  <tbody>\n",
       "    <tr>\n",
       "      <th>0</th>\n",
       "      <td>1</td>\n",
       "      <td>2017</td>\n",
       "      <td>Hyderabad</td>\n",
       "      <td>05-04-2017</td>\n",
       "      <td>Sunrisers Hyderabad</td>\n",
       "      <td>Royal Challengers Bangalore</td>\n",
       "      <td>Royal Challengers Bangalore</td>\n",
       "      <td>field</td>\n",
       "      <td>normal</td>\n",
       "      <td>0</td>\n",
       "      <td>Sunrisers Hyderabad</td>\n",
       "      <td>35</td>\n",
       "      <td>0</td>\n",
       "      <td>Yuvraj Singh</td>\n",
       "      <td>Rajiv Gandhi International Stadium, Uppal</td>\n",
       "      <td>AY Dandekar</td>\n",
       "      <td>NJ Llong</td>\n",
       "      <td>NaN</td>\n",
       "    </tr>\n",
       "    <tr>\n",
       "      <th>1</th>\n",
       "      <td>2</td>\n",
       "      <td>2017</td>\n",
       "      <td>Pune</td>\n",
       "      <td>06-04-2017</td>\n",
       "      <td>Mumbai Indians</td>\n",
       "      <td>Rising Pune Supergiant</td>\n",
       "      <td>Rising Pune Supergiant</td>\n",
       "      <td>field</td>\n",
       "      <td>normal</td>\n",
       "      <td>0</td>\n",
       "      <td>Rising Pune Supergiant</td>\n",
       "      <td>0</td>\n",
       "      <td>7</td>\n",
       "      <td>SPD Smith</td>\n",
       "      <td>Maharashtra Cricket Association Stadium</td>\n",
       "      <td>A Nand Kishore</td>\n",
       "      <td>S Ravi</td>\n",
       "      <td>NaN</td>\n",
       "    </tr>\n",
       "  </tbody>\n",
       "</table>\n",
       "</div>"
      ],
      "text/plain": [
       "   id  season       city        date                team1  \\\n",
       "0   1    2017  Hyderabad  05-04-2017  Sunrisers Hyderabad   \n",
       "1   2    2017       Pune  06-04-2017       Mumbai Indians   \n",
       "\n",
       "                         team2                  toss_winner toss_decision  \\\n",
       "0  Royal Challengers Bangalore  Royal Challengers Bangalore         field   \n",
       "1       Rising Pune Supergiant       Rising Pune Supergiant         field   \n",
       "\n",
       "   result  dl_applied                  winner  win_by_runs  win_by_wickets  \\\n",
       "0  normal           0     Sunrisers Hyderabad           35               0   \n",
       "1  normal           0  Rising Pune Supergiant            0               7   \n",
       "\n",
       "  player_of_match                                      venue         umpire1  \\\n",
       "0    Yuvraj Singh  Rajiv Gandhi International Stadium, Uppal     AY Dandekar   \n",
       "1       SPD Smith    Maharashtra Cricket Association Stadium  A Nand Kishore   \n",
       "\n",
       "    umpire2 umpire3  \n",
       "0  NJ Llong     NaN  \n",
       "1    S Ravi     NaN  "
      ]
     },
     "execution_count": 48,
     "metadata": {},
     "output_type": "execute_result"
    }
   ],
   "source": [
    "matches.head(2)"
   ]
  },
  {
   "cell_type": "markdown",
   "metadata": {},
   "source": [
    "## Visulization - Player of Match"
   ]
  },
  {
   "cell_type": "code",
   "execution_count": 49,
   "metadata": {},
   "outputs": [
    {
     "data": {
      "text/plain": [
       "pandas.core.series.Series"
      ]
     },
     "execution_count": 49,
     "metadata": {},
     "output_type": "execute_result"
    }
   ],
   "source": [
    "# top-10 player of match\n",
    "mom = matches['player_of_match'].value_counts().head(10)\n",
    "type(mom)"
   ]
  },
  {
   "cell_type": "code",
   "execution_count": 50,
   "metadata": {},
   "outputs": [
    {
     "data": {
      "text/plain": [
       "Index(['CH Gayle', 'AB de Villiers', 'RG Sharma', 'YK Pathan', 'DA Warner',\n",
       "       'MS Dhoni', 'SK Raina', 'SR Watson', 'G Gambhir', 'AM Rahane'],\n",
       "      dtype='object')"
      ]
     },
     "execution_count": 50,
     "metadata": {},
     "output_type": "execute_result"
    }
   ],
   "source": [
    "mom.index"
   ]
  },
  {
   "cell_type": "code",
   "execution_count": 51,
   "metadata": {},
   "outputs": [],
   "source": [
    "mom = mom.to_frame()"
   ]
  },
  {
   "cell_type": "code",
   "execution_count": 52,
   "metadata": {},
   "outputs": [],
   "source": [
    "mom.reset_index(inplace=True)"
   ]
  },
  {
   "cell_type": "code",
   "execution_count": 53,
   "metadata": {},
   "outputs": [
    {
     "data": {
      "text/html": [
       "<div>\n",
       "<style scoped>\n",
       "    .dataframe tbody tr th:only-of-type {\n",
       "        vertical-align: middle;\n",
       "    }\n",
       "\n",
       "    .dataframe tbody tr th {\n",
       "        vertical-align: top;\n",
       "    }\n",
       "\n",
       "    .dataframe thead th {\n",
       "        text-align: right;\n",
       "    }\n",
       "</style>\n",
       "<table border=\"1\" class=\"dataframe\">\n",
       "  <thead>\n",
       "    <tr style=\"text-align: right;\">\n",
       "      <th></th>\n",
       "      <th>Player</th>\n",
       "      <th>player_of_match</th>\n",
       "    </tr>\n",
       "  </thead>\n",
       "  <tbody>\n",
       "    <tr>\n",
       "      <th>0</th>\n",
       "      <td>CH Gayle</td>\n",
       "      <td>20</td>\n",
       "    </tr>\n",
       "    <tr>\n",
       "      <th>1</th>\n",
       "      <td>AB de Villiers</td>\n",
       "      <td>18</td>\n",
       "    </tr>\n",
       "    <tr>\n",
       "      <th>2</th>\n",
       "      <td>RG Sharma</td>\n",
       "      <td>16</td>\n",
       "    </tr>\n",
       "    <tr>\n",
       "      <th>3</th>\n",
       "      <td>YK Pathan</td>\n",
       "      <td>16</td>\n",
       "    </tr>\n",
       "    <tr>\n",
       "      <th>4</th>\n",
       "      <td>DA Warner</td>\n",
       "      <td>15</td>\n",
       "    </tr>\n",
       "    <tr>\n",
       "      <th>5</th>\n",
       "      <td>MS Dhoni</td>\n",
       "      <td>14</td>\n",
       "    </tr>\n",
       "    <tr>\n",
       "      <th>6</th>\n",
       "      <td>SK Raina</td>\n",
       "      <td>14</td>\n",
       "    </tr>\n",
       "    <tr>\n",
       "      <th>7</th>\n",
       "      <td>SR Watson</td>\n",
       "      <td>13</td>\n",
       "    </tr>\n",
       "    <tr>\n",
       "      <th>8</th>\n",
       "      <td>G Gambhir</td>\n",
       "      <td>13</td>\n",
       "    </tr>\n",
       "    <tr>\n",
       "      <th>9</th>\n",
       "      <td>AM Rahane</td>\n",
       "      <td>12</td>\n",
       "    </tr>\n",
       "  </tbody>\n",
       "</table>\n",
       "</div>"
      ],
      "text/plain": [
       "           Player  player_of_match\n",
       "0        CH Gayle               20\n",
       "1  AB de Villiers               18\n",
       "2       RG Sharma               16\n",
       "3       YK Pathan               16\n",
       "4       DA Warner               15\n",
       "5        MS Dhoni               14\n",
       "6        SK Raina               14\n",
       "7       SR Watson               13\n",
       "8       G Gambhir               13\n",
       "9       AM Rahane               12"
      ]
     },
     "execution_count": 53,
     "metadata": {},
     "output_type": "execute_result"
    }
   ],
   "source": [
    "mom = mom.rename(columns={'index':'Player'})\n",
    "mom"
   ]
  },
  {
   "cell_type": "markdown",
   "metadata": {},
   "source": [
    "## Top-10 Players of the match"
   ]
  },
  {
   "cell_type": "markdown",
   "metadata": {},
   "source": [
    "<img src=\"images/captain.jpg\" width=\"650\" height=\"400\">"
   ]
  },
  {
   "cell_type": "code",
   "execution_count": 54,
   "metadata": {},
   "outputs": [
    {
     "data": {
      "text/plain": [
       "(array([0, 1, 2, 3, 4, 5, 6, 7, 8, 9]),\n",
       " <a list of 10 Text major ticklabel objects>)"
      ]
     },
     "execution_count": 54,
     "metadata": {},
     "output_type": "execute_result"
    },
    {
     "data": {
      "image/png": "[encoded data removed]",
      "text/plain": [
       "<Figure size 864x360 with 1 Axes>"
      ]
     },
     "metadata": {
      "needs_background": "light"
     },
     "output_type": "display_data"
    }
   ],
   "source": [
    "plt.figure(figsize=(12,5))\n",
    "sns.barplot(x='Player',y='player_of_match',data=mom)\n",
    "plt.xticks(rotation='vertical')\n",
    "\n",
    "# CH Gayle won maximum MOM with 20 times"
   ]
  },
  {
   "cell_type": "markdown",
   "metadata": {},
   "source": [
    "## DataFrame of all MOM"
   ]
  },
  {
   "cell_type": "code",
   "execution_count": 55,
   "metadata": {},
   "outputs": [
    {
     "data": {
      "text/html": [
       "<div>\n",
       "<style scoped>\n",
       "    .dataframe tbody tr th:only-of-type {\n",
       "        vertical-align: middle;\n",
       "    }\n",
       "\n",
       "    .dataframe tbody tr th {\n",
       "        vertical-align: top;\n",
       "    }\n",
       "\n",
       "    .dataframe thead th {\n",
       "        text-align: right;\n",
       "    }\n",
       "</style>\n",
       "<table border=\"1\" class=\"dataframe\">\n",
       "  <thead>\n",
       "    <tr style=\"text-align: right;\">\n",
       "      <th></th>\n",
       "      <th>winner</th>\n",
       "      <th>team1</th>\n",
       "      <th>team2</th>\n",
       "      <th>toss_winner</th>\n",
       "      <th>venue</th>\n",
       "    </tr>\n",
       "    <tr>\n",
       "      <th>player_of_match</th>\n",
       "      <th></th>\n",
       "      <th></th>\n",
       "      <th></th>\n",
       "      <th></th>\n",
       "      <th></th>\n",
       "    </tr>\n",
       "  </thead>\n",
       "  <tbody>\n",
       "    <tr>\n",
       "      <th>A Chandila</th>\n",
       "      <td>Rajasthan Royals</td>\n",
       "      <td>Rajasthan Royals</td>\n",
       "      <td>Pune Warriors</td>\n",
       "      <td>Rajasthan Royals</td>\n",
       "      <td>Sawai Mansingh Stadium</td>\n",
       "    </tr>\n",
       "    <tr>\n",
       "      <th>A Kumble</th>\n",
       "      <td>Royal Challengers BangaloreDeccan ChargersRoya...</td>\n",
       "      <td>Royal Challengers BangaloreDeccan ChargersDecc...</td>\n",
       "      <td>Chennai Super KingsRoyal Challengers Bangalore...</td>\n",
       "      <td>Royal Challengers BangaloreRoyal Challengers B...</td>\n",
       "      <td>MA Chidambaram Stadium, ChepaukNew Wanderers S...</td>\n",
       "    </tr>\n",
       "    <tr>\n",
       "      <th>A Mishra</th>\n",
       "      <td>Delhi DaredevilsDelhi DaredevilsDeccan Charger...</td>\n",
       "      <td>Delhi DaredevilsKolkata Knight RidersDeccan Ch...</td>\n",
       "      <td>Deccan ChargersDelhi DaredevilsMumbai IndiansD...</td>\n",
       "      <td>Deccan ChargersDelhi DaredevilsDeccan Chargers...</td>\n",
       "      <td>Feroz Shah KotlaNew Wanderers StadiumWankhede ...</td>\n",
       "    </tr>\n",
       "    <tr>\n",
       "      <th>A Nehra</th>\n",
       "      <td>Mumbai IndiansDelhi DaredevilsChennai Super Ki...</td>\n",
       "      <td>Rajasthan RoyalsMumbai IndiansChennai Super Ki...</td>\n",
       "      <td>Mumbai IndiansDelhi DaredevilsDelhi Daredevils...</td>\n",
       "      <td>Mumbai IndiansMumbai IndiansDelhi DaredevilsMu...</td>\n",
       "      <td>Dr DY Patil Sports AcademyBuffalo ParkMA Chida...</td>\n",
       "    </tr>\n",
       "    <tr>\n",
       "      <th>A Singh</th>\n",
       "      <td>Rajasthan Royals</td>\n",
       "      <td>Royal Challengers Bangalore</td>\n",
       "      <td>Rajasthan Royals</td>\n",
       "      <td>Rajasthan Royals</td>\n",
       "      <td>SuperSport Park</td>\n",
       "    </tr>\n",
       "    <tr>\n",
       "      <th>...</th>\n",
       "      <td>...</td>\n",
       "      <td>...</td>\n",
       "      <td>...</td>\n",
       "      <td>...</td>\n",
       "      <td>...</td>\n",
       "    </tr>\n",
       "    <tr>\n",
       "      <th>Washington Sundar</th>\n",
       "      <td>Rising Pune Supergiant</td>\n",
       "      <td>Rising Pune Supergiant</td>\n",
       "      <td>Mumbai Indians</td>\n",
       "      <td>Mumbai Indians</td>\n",
       "      <td>Wankhede Stadium</td>\n",
       "    </tr>\n",
       "    <tr>\n",
       "      <th>YK Pathan</th>\n",
       "      <td>Rajasthan RoyalsRajasthan RoyalsRajasthan Roya...</td>\n",
       "      <td>Deccan ChargersDeccan ChargersKolkata Knight R...</td>\n",
       "      <td>Rajasthan RoyalsRajasthan RoyalsRajasthan Roya...</td>\n",
       "      <td>Rajasthan RoyalsRajasthan RoyalsRajasthan Roya...</td>\n",
       "      <td>Rajiv Gandhi International Stadium, UppalSawai...</td>\n",
       "    </tr>\n",
       "    <tr>\n",
       "      <th>YS Chahal</th>\n",
       "      <td>Royal Challengers Bangalore</td>\n",
       "      <td>Delhi Daredevils</td>\n",
       "      <td>Royal Challengers Bangalore</td>\n",
       "      <td>Royal Challengers Bangalore</td>\n",
       "      <td>Sharjah Cricket Stadium</td>\n",
       "    </tr>\n",
       "    <tr>\n",
       "      <th>Yuvraj Singh</th>\n",
       "      <td>Sunrisers HyderabadRoyal Challengers Bangalore...</td>\n",
       "      <td>Sunrisers HyderabadRoyal Challengers Bangalore...</td>\n",
       "      <td>Royal Challengers BangaloreKings XI PunjabDecc...</td>\n",
       "      <td>Royal Challengers BangaloreRoyal Challengers B...</td>\n",
       "      <td>Rajiv Gandhi International Stadium, UppalKings...</td>\n",
       "    </tr>\n",
       "    <tr>\n",
       "      <th>Z Khan</th>\n",
       "      <td>Delhi Daredevils</td>\n",
       "      <td>Chennai Super Kings</td>\n",
       "      <td>Delhi Daredevils</td>\n",
       "      <td>Chennai Super Kings</td>\n",
       "      <td>Shaheed Veer Narayan Singh International Stadium</td>\n",
       "    </tr>\n",
       "  </tbody>\n",
       "</table>\n",
       "<p>214 rows × 5 columns</p>\n",
       "</div>"
      ],
      "text/plain": [
       "                                                              winner  \\\n",
       "player_of_match                                                        \n",
       "A Chandila                                          Rajasthan Royals   \n",
       "A Kumble           Royal Challengers BangaloreDeccan ChargersRoya...   \n",
       "A Mishra           Delhi DaredevilsDelhi DaredevilsDeccan Charger...   \n",
       "A Nehra            Mumbai IndiansDelhi DaredevilsChennai Super Ki...   \n",
       "A Singh                                             Rajasthan Royals   \n",
       "...                                                              ...   \n",
       "Washington Sundar                             Rising Pune Supergiant   \n",
       "YK Pathan          Rajasthan RoyalsRajasthan RoyalsRajasthan Roya...   \n",
       "YS Chahal                                Royal Challengers Bangalore   \n",
       "Yuvraj Singh       Sunrisers HyderabadRoyal Challengers Bangalore...   \n",
       "Z Khan                                              Delhi Daredevils   \n",
       "\n",
       "                                                               team1  \\\n",
       "player_of_match                                                        \n",
       "A Chandila                                          Rajasthan Royals   \n",
       "A Kumble           Royal Challengers BangaloreDeccan ChargersDecc...   \n",
       "A Mishra           Delhi DaredevilsKolkata Knight RidersDeccan Ch...   \n",
       "A Nehra            Rajasthan RoyalsMumbai IndiansChennai Super Ki...   \n",
       "A Singh                                  Royal Challengers Bangalore   \n",
       "...                                                              ...   \n",
       "Washington Sundar                             Rising Pune Supergiant   \n",
       "YK Pathan          Deccan ChargersDeccan ChargersKolkata Knight R...   \n",
       "YS Chahal                                           Delhi Daredevils   \n",
       "Yuvraj Singh       Sunrisers HyderabadRoyal Challengers Bangalore...   \n",
       "Z Khan                                           Chennai Super Kings   \n",
       "\n",
       "                                                               team2  \\\n",
       "player_of_match                                                        \n",
       "A Chandila                                             Pune Warriors   \n",
       "A Kumble           Chennai Super KingsRoyal Challengers Bangalore...   \n",
       "A Mishra           Deccan ChargersDelhi DaredevilsMumbai IndiansD...   \n",
       "A Nehra            Mumbai IndiansDelhi DaredevilsDelhi Daredevils...   \n",
       "A Singh                                             Rajasthan Royals   \n",
       "...                                                              ...   \n",
       "Washington Sundar                                     Mumbai Indians   \n",
       "YK Pathan          Rajasthan RoyalsRajasthan RoyalsRajasthan Roya...   \n",
       "YS Chahal                                Royal Challengers Bangalore   \n",
       "Yuvraj Singh       Royal Challengers BangaloreKings XI PunjabDecc...   \n",
       "Z Khan                                              Delhi Daredevils   \n",
       "\n",
       "                                                         toss_winner  \\\n",
       "player_of_match                                                        \n",
       "A Chandila                                          Rajasthan Royals   \n",
       "A Kumble           Royal Challengers BangaloreRoyal Challengers B...   \n",
       "A Mishra           Deccan ChargersDelhi DaredevilsDeccan Chargers...   \n",
       "A Nehra            Mumbai IndiansMumbai IndiansDelhi DaredevilsMu...   \n",
       "A Singh                                             Rajasthan Royals   \n",
       "...                                                              ...   \n",
       "Washington Sundar                                     Mumbai Indians   \n",
       "YK Pathan          Rajasthan RoyalsRajasthan RoyalsRajasthan Roya...   \n",
       "YS Chahal                                Royal Challengers Bangalore   \n",
       "Yuvraj Singh       Royal Challengers BangaloreRoyal Challengers B...   \n",
       "Z Khan                                           Chennai Super Kings   \n",
       "\n",
       "                                                               venue  \n",
       "player_of_match                                                       \n",
       "A Chandila                                    Sawai Mansingh Stadium  \n",
       "A Kumble           MA Chidambaram Stadium, ChepaukNew Wanderers S...  \n",
       "A Mishra           Feroz Shah KotlaNew Wanderers StadiumWankhede ...  \n",
       "A Nehra            Dr DY Patil Sports AcademyBuffalo ParkMA Chida...  \n",
       "A Singh                                              SuperSport Park  \n",
       "...                                                              ...  \n",
       "Washington Sundar                                   Wankhede Stadium  \n",
       "YK Pathan          Rajiv Gandhi International Stadium, UppalSawai...  \n",
       "YS Chahal                                    Sharjah Cricket Stadium  \n",
       "Yuvraj Singh       Rajiv Gandhi International Stadium, UppalKings...  \n",
       "Z Khan              Shaheed Veer Narayan Singh International Stadium  \n",
       "\n",
       "[214 rows x 5 columns]"
      ]
     },
     "execution_count": 55,
     "metadata": {},
     "output_type": "execute_result"
    }
   ],
   "source": [
    "matches.groupby(by='player_of_match')[['winner','team1','team2','toss_winner','venue']].sum()   #This data shows MOM by teams and venue"
   ]
  },
  {
   "cell_type": "code",
   "execution_count": null,
   "metadata": {},
   "outputs": [],
   "source": []
  },
  {
   "cell_type": "markdown",
   "metadata": {},
   "source": [
    "## Result of matches"
   ]
  },
  {
   "cell_type": "code",
   "execution_count": 56,
   "metadata": {},
   "outputs": [
    {
     "data": {
      "text/plain": [
       "array(['normal', 'tie', 'no result'], dtype=object)"
      ]
     },
     "execution_count": 56,
     "metadata": {},
     "output_type": "execute_result"
    }
   ],
   "source": [
    "matches['result'].unique()"
   ]
  },
  {
   "cell_type": "code",
   "execution_count": 57,
   "metadata": {},
   "outputs": [
    {
     "data": {
      "text/plain": [
       "normal       686\n",
       "tie            7\n",
       "no result      3\n",
       "Name: result, dtype: int64"
      ]
     },
     "execution_count": 57,
     "metadata": {},
     "output_type": "execute_result"
    }
   ],
   "source": [
    "matches['result'].value_counts()"
   ]
  },
  {
   "cell_type": "markdown",
   "metadata": {},
   "source": [
    "## Matches in which duck worth luis rule applied"
   ]
  },
  {
   "cell_type": "markdown",
   "metadata": {},
   "source": [
    "*** 1 - Applied, \n",
    "   0 - Not Applied***"
   ]
  },
  {
   "cell_type": "code",
   "execution_count": 58,
   "metadata": {},
   "outputs": [
    {
     "data": {
      "text/plain": [
       "0    677\n",
       "1     19\n",
       "Name: dl_applied, dtype: int64"
      ]
     },
     "execution_count": 58,
     "metadata": {},
     "output_type": "execute_result"
    }
   ],
   "source": [
    "matches['dl_applied'].value_counts()\n",
    "\n",
    "# There were 19 matches in which DL rule applied"
   ]
  },
  {
   "cell_type": "code",
   "execution_count": null,
   "metadata": {},
   "outputs": [],
   "source": []
  },
  {
   "cell_type": "code",
   "execution_count": 59,
   "metadata": {},
   "outputs": [],
   "source": [
    "winby_run = matches.loc[matches['win_by_runs']>0].count()['winner']\n"
   ]
  },
  {
   "cell_type": "code",
   "execution_count": 60,
   "metadata": {},
   "outputs": [
    {
     "name": "stdout",
     "output_type": "stream",
     "text": [
      "Total Matches win by runs : 315\n"
     ]
    }
   ],
   "source": [
    "print(f'Total Matches win by runs : {winby_run}')"
   ]
  },
  {
   "cell_type": "code",
   "execution_count": null,
   "metadata": {},
   "outputs": [],
   "source": []
  },
  {
   "cell_type": "code",
   "execution_count": 61,
   "metadata": {},
   "outputs": [],
   "source": [
    "winby_wkt = matches.loc[matches['win_by_wickets']>0].count()['winner']"
   ]
  },
  {
   "cell_type": "code",
   "execution_count": 62,
   "metadata": {},
   "outputs": [
    {
     "name": "stdout",
     "output_type": "stream",
     "text": [
      "Total Matches win by Wickets : 371\n"
     ]
    }
   ],
   "source": [
    "print(f'Total Matches win by Wickets : {winby_wkt}')"
   ]
  },
  {
   "cell_type": "code",
   "execution_count": null,
   "metadata": {},
   "outputs": [],
   "source": []
  },
  {
   "cell_type": "code",
   "execution_count": 63,
   "metadata": {},
   "outputs": [
    {
     "data": {
      "text/plain": [
       "146"
      ]
     },
     "execution_count": 63,
     "metadata": {},
     "output_type": "execute_result"
    }
   ],
   "source": [
    "matches['win_by_runs'].max()  "
   ]
  },
  {
   "cell_type": "code",
   "execution_count": 64,
   "metadata": {},
   "outputs": [
    {
     "data": {
      "text/html": [
       "<div>\n",
       "<style scoped>\n",
       "    .dataframe tbody tr th:only-of-type {\n",
       "        vertical-align: middle;\n",
       "    }\n",
       "\n",
       "    .dataframe tbody tr th {\n",
       "        vertical-align: top;\n",
       "    }\n",
       "\n",
       "    .dataframe thead th {\n",
       "        text-align: right;\n",
       "    }\n",
       "</style>\n",
       "<table border=\"1\" class=\"dataframe\">\n",
       "  <thead>\n",
       "    <tr style=\"text-align: right;\">\n",
       "      <th></th>\n",
       "      <th>id</th>\n",
       "      <th>season</th>\n",
       "      <th>city</th>\n",
       "      <th>date</th>\n",
       "      <th>team1</th>\n",
       "      <th>team2</th>\n",
       "      <th>toss_winner</th>\n",
       "      <th>toss_decision</th>\n",
       "      <th>result</th>\n",
       "      <th>dl_applied</th>\n",
       "      <th>winner</th>\n",
       "      <th>win_by_runs</th>\n",
       "      <th>win_by_wickets</th>\n",
       "      <th>player_of_match</th>\n",
       "      <th>venue</th>\n",
       "      <th>umpire1</th>\n",
       "      <th>umpire2</th>\n",
       "      <th>umpire3</th>\n",
       "    </tr>\n",
       "  </thead>\n",
       "  <tbody>\n",
       "    <tr>\n",
       "      <th>43</th>\n",
       "      <td>44</td>\n",
       "      <td>2017</td>\n",
       "      <td>Delhi</td>\n",
       "      <td>06-05-2017</td>\n",
       "      <td>Mumbai Indians</td>\n",
       "      <td>Delhi Daredevils</td>\n",
       "      <td>Delhi Daredevils</td>\n",
       "      <td>field</td>\n",
       "      <td>normal</td>\n",
       "      <td>0</td>\n",
       "      <td>Mumbai Indians</td>\n",
       "      <td>146</td>\n",
       "      <td>0</td>\n",
       "      <td>LMP Simmons</td>\n",
       "      <td>Feroz Shah Kotla</td>\n",
       "      <td>Nitin Menon</td>\n",
       "      <td>CK Nandan</td>\n",
       "      <td>NaN</td>\n",
       "    </tr>\n",
       "  </tbody>\n",
       "</table>\n",
       "</div>"
      ],
      "text/plain": [
       "    id  season   city        date           team1             team2  \\\n",
       "43  44    2017  Delhi  06-05-2017  Mumbai Indians  Delhi Daredevils   \n",
       "\n",
       "         toss_winner toss_decision  result  dl_applied          winner  \\\n",
       "43  Delhi Daredevils         field  normal           0  Mumbai Indians   \n",
       "\n",
       "    win_by_runs  win_by_wickets player_of_match             venue  \\\n",
       "43          146               0     LMP Simmons  Feroz Shah Kotla   \n",
       "\n",
       "        umpire1    umpire2 umpire3  \n",
       "43  Nitin Menon  CK Nandan     NaN  "
      ]
     },
     "execution_count": 64,
     "metadata": {},
     "output_type": "execute_result"
    }
   ],
   "source": [
    "matches.loc[matches['win_by_runs'] == 146] #matche won by maximum runs"
   ]
  },
  {
   "cell_type": "code",
   "execution_count": 65,
   "metadata": {},
   "outputs": [
    {
     "data": {
      "text/html": [
       "<div>\n",
       "<style scoped>\n",
       "    .dataframe tbody tr th:only-of-type {\n",
       "        vertical-align: middle;\n",
       "    }\n",
       "\n",
       "    .dataframe tbody tr th {\n",
       "        vertical-align: top;\n",
       "    }\n",
       "\n",
       "    .dataframe thead th {\n",
       "        text-align: right;\n",
       "    }\n",
       "</style>\n",
       "<table border=\"1\" class=\"dataframe\">\n",
       "  <thead>\n",
       "    <tr style=\"text-align: right;\">\n",
       "      <th></th>\n",
       "      <th>id</th>\n",
       "      <th>season</th>\n",
       "      <th>city</th>\n",
       "      <th>date</th>\n",
       "      <th>team1</th>\n",
       "      <th>team2</th>\n",
       "      <th>toss_winner</th>\n",
       "      <th>toss_decision</th>\n",
       "      <th>result</th>\n",
       "      <th>dl_applied</th>\n",
       "      <th>winner</th>\n",
       "      <th>win_by_runs</th>\n",
       "      <th>win_by_wickets</th>\n",
       "      <th>player_of_match</th>\n",
       "      <th>venue</th>\n",
       "      <th>umpire1</th>\n",
       "      <th>umpire2</th>\n",
       "      <th>umpire3</th>\n",
       "    </tr>\n",
       "  </thead>\n",
       "  <tbody>\n",
       "    <tr>\n",
       "      <th>58</th>\n",
       "      <td>59</td>\n",
       "      <td>2017</td>\n",
       "      <td>Hyderabad</td>\n",
       "      <td>21-05-2017</td>\n",
       "      <td>Mumbai Indians</td>\n",
       "      <td>Rising Pune Supergiant</td>\n",
       "      <td>Mumbai Indians</td>\n",
       "      <td>bat</td>\n",
       "      <td>normal</td>\n",
       "      <td>0</td>\n",
       "      <td>Mumbai Indians</td>\n",
       "      <td>1</td>\n",
       "      <td>0</td>\n",
       "      <td>KH Pandya</td>\n",
       "      <td>Rajiv Gandhi International Stadium, Uppal</td>\n",
       "      <td>NJ Llong</td>\n",
       "      <td>S Ravi</td>\n",
       "      <td>NaN</td>\n",
       "    </tr>\n",
       "    <tr>\n",
       "      <th>105</th>\n",
       "      <td>106</td>\n",
       "      <td>2008</td>\n",
       "      <td>Mumbai</td>\n",
       "      <td>21-05-2008</td>\n",
       "      <td>Kings XI Punjab</td>\n",
       "      <td>Mumbai Indians</td>\n",
       "      <td>Mumbai Indians</td>\n",
       "      <td>field</td>\n",
       "      <td>normal</td>\n",
       "      <td>0</td>\n",
       "      <td>Kings XI Punjab</td>\n",
       "      <td>1</td>\n",
       "      <td>0</td>\n",
       "      <td>SE Marsh</td>\n",
       "      <td>Wankhede Stadium</td>\n",
       "      <td>BF Bowden</td>\n",
       "      <td>GA Pratapkumar</td>\n",
       "      <td>NaN</td>\n",
       "    </tr>\n",
       "    <tr>\n",
       "      <th>163</th>\n",
       "      <td>164</td>\n",
       "      <td>2009</td>\n",
       "      <td>Johannesburg</td>\n",
       "      <td>17-05-2009</td>\n",
       "      <td>Kings XI Punjab</td>\n",
       "      <td>Deccan Chargers</td>\n",
       "      <td>Deccan Chargers</td>\n",
       "      <td>field</td>\n",
       "      <td>normal</td>\n",
       "      <td>0</td>\n",
       "      <td>Kings XI Punjab</td>\n",
       "      <td>1</td>\n",
       "      <td>0</td>\n",
       "      <td>Yuvraj Singh</td>\n",
       "      <td>New Wanderers Stadium</td>\n",
       "      <td>S Ravi</td>\n",
       "      <td>RB Tiffin</td>\n",
       "      <td>NaN</td>\n",
       "    </tr>\n",
       "    <tr>\n",
       "      <th>344</th>\n",
       "      <td>345</td>\n",
       "      <td>2012</td>\n",
       "      <td>Delhi</td>\n",
       "      <td>29-04-2012</td>\n",
       "      <td>Delhi Daredevils</td>\n",
       "      <td>Rajasthan Royals</td>\n",
       "      <td>Delhi Daredevils</td>\n",
       "      <td>bat</td>\n",
       "      <td>normal</td>\n",
       "      <td>0</td>\n",
       "      <td>Delhi Daredevils</td>\n",
       "      <td>1</td>\n",
       "      <td>0</td>\n",
       "      <td>V Sehwag</td>\n",
       "      <td>Feroz Shah Kotla</td>\n",
       "      <td>S Ravi</td>\n",
       "      <td>RJ Tucker</td>\n",
       "      <td>NaN</td>\n",
       "    </tr>\n",
       "    <tr>\n",
       "      <th>350</th>\n",
       "      <td>351</td>\n",
       "      <td>2012</td>\n",
       "      <td>Pune</td>\n",
       "      <td>03-05-2012</td>\n",
       "      <td>Mumbai Indians</td>\n",
       "      <td>Pune Warriors</td>\n",
       "      <td>Mumbai Indians</td>\n",
       "      <td>bat</td>\n",
       "      <td>normal</td>\n",
       "      <td>0</td>\n",
       "      <td>Mumbai Indians</td>\n",
       "      <td>1</td>\n",
       "      <td>0</td>\n",
       "      <td>SL Malinga</td>\n",
       "      <td>Subrata Roy Sahara Stadium</td>\n",
       "      <td>Asad Rauf</td>\n",
       "      <td>S Asnani</td>\n",
       "      <td>NaN</td>\n",
       "    </tr>\n",
       "    <tr>\n",
       "      <th>518</th>\n",
       "      <td>519</td>\n",
       "      <td>2015</td>\n",
       "      <td>Chennai</td>\n",
       "      <td>09-04-2015</td>\n",
       "      <td>Chennai Super Kings</td>\n",
       "      <td>Delhi Daredevils</td>\n",
       "      <td>Delhi Daredevils</td>\n",
       "      <td>field</td>\n",
       "      <td>normal</td>\n",
       "      <td>0</td>\n",
       "      <td>Chennai Super Kings</td>\n",
       "      <td>1</td>\n",
       "      <td>0</td>\n",
       "      <td>A Nehra</td>\n",
       "      <td>MA Chidambaram Stadium, Chepauk</td>\n",
       "      <td>RK Illingworth</td>\n",
       "      <td>VA Kulkarni</td>\n",
       "      <td>NaN</td>\n",
       "    </tr>\n",
       "    <tr>\n",
       "      <th>598</th>\n",
       "      <td>599</td>\n",
       "      <td>2016</td>\n",
       "      <td>Delhi</td>\n",
       "      <td>27-04-2016</td>\n",
       "      <td>Gujarat Lions</td>\n",
       "      <td>Delhi Daredevils</td>\n",
       "      <td>Delhi Daredevils</td>\n",
       "      <td>field</td>\n",
       "      <td>normal</td>\n",
       "      <td>0</td>\n",
       "      <td>Gujarat Lions</td>\n",
       "      <td>1</td>\n",
       "      <td>0</td>\n",
       "      <td>CH Morris</td>\n",
       "      <td>Feroz Shah Kotla</td>\n",
       "      <td>M Erasmus</td>\n",
       "      <td>S Ravi</td>\n",
       "      <td>NaN</td>\n",
       "    </tr>\n",
       "    <tr>\n",
       "      <th>614</th>\n",
       "      <td>615</td>\n",
       "      <td>2016</td>\n",
       "      <td>Chandigarh</td>\n",
       "      <td>09-05-2016</td>\n",
       "      <td>Royal Challengers Bangalore</td>\n",
       "      <td>Kings XI Punjab</td>\n",
       "      <td>Kings XI Punjab</td>\n",
       "      <td>field</td>\n",
       "      <td>normal</td>\n",
       "      <td>0</td>\n",
       "      <td>Royal Challengers Bangalore</td>\n",
       "      <td>1</td>\n",
       "      <td>0</td>\n",
       "      <td>SR Watson</td>\n",
       "      <td>Punjab Cricket Association IS Bindra Stadium, ...</td>\n",
       "      <td>AK Chaudhary</td>\n",
       "      <td>HDPK Dharmasena</td>\n",
       "      <td>NaN</td>\n",
       "    </tr>\n",
       "  </tbody>\n",
       "</table>\n",
       "</div>"
      ],
      "text/plain": [
       "      id  season          city        date                        team1  \\\n",
       "58    59    2017     Hyderabad  21-05-2017               Mumbai Indians   \n",
       "105  106    2008        Mumbai  21-05-2008              Kings XI Punjab   \n",
       "163  164    2009  Johannesburg  17-05-2009              Kings XI Punjab   \n",
       "344  345    2012         Delhi  29-04-2012             Delhi Daredevils   \n",
       "350  351    2012          Pune  03-05-2012               Mumbai Indians   \n",
       "518  519    2015       Chennai  09-04-2015          Chennai Super Kings   \n",
       "598  599    2016         Delhi  27-04-2016                Gujarat Lions   \n",
       "614  615    2016    Chandigarh  09-05-2016  Royal Challengers Bangalore   \n",
       "\n",
       "                      team2       toss_winner toss_decision  result  \\\n",
       "58   Rising Pune Supergiant    Mumbai Indians           bat  normal   \n",
       "105          Mumbai Indians    Mumbai Indians         field  normal   \n",
       "163         Deccan Chargers   Deccan Chargers         field  normal   \n",
       "344        Rajasthan Royals  Delhi Daredevils           bat  normal   \n",
       "350           Pune Warriors    Mumbai Indians           bat  normal   \n",
       "518        Delhi Daredevils  Delhi Daredevils         field  normal   \n",
       "598        Delhi Daredevils  Delhi Daredevils         field  normal   \n",
       "614         Kings XI Punjab   Kings XI Punjab         field  normal   \n",
       "\n",
       "     dl_applied                       winner  win_by_runs  win_by_wickets  \\\n",
       "58            0               Mumbai Indians            1               0   \n",
       "105           0              Kings XI Punjab            1               0   \n",
       "163           0              Kings XI Punjab            1               0   \n",
       "344           0             Delhi Daredevils            1               0   \n",
       "350           0               Mumbai Indians            1               0   \n",
       "518           0          Chennai Super Kings            1               0   \n",
       "598           0                Gujarat Lions            1               0   \n",
       "614           0  Royal Challengers Bangalore            1               0   \n",
       "\n",
       "    player_of_match                                              venue  \\\n",
       "58        KH Pandya          Rajiv Gandhi International Stadium, Uppal   \n",
       "105        SE Marsh                                   Wankhede Stadium   \n",
       "163    Yuvraj Singh                              New Wanderers Stadium   \n",
       "344        V Sehwag                                   Feroz Shah Kotla   \n",
       "350      SL Malinga                         Subrata Roy Sahara Stadium   \n",
       "518         A Nehra                    MA Chidambaram Stadium, Chepauk   \n",
       "598       CH Morris                                   Feroz Shah Kotla   \n",
       "614       SR Watson  Punjab Cricket Association IS Bindra Stadium, ...   \n",
       "\n",
       "            umpire1          umpire2 umpire3  \n",
       "58         NJ Llong           S Ravi     NaN  \n",
       "105       BF Bowden   GA Pratapkumar     NaN  \n",
       "163          S Ravi        RB Tiffin     NaN  \n",
       "344          S Ravi        RJ Tucker     NaN  \n",
       "350       Asad Rauf         S Asnani     NaN  \n",
       "518  RK Illingworth      VA Kulkarni     NaN  \n",
       "598       M Erasmus           S Ravi     NaN  \n",
       "614    AK Chaudhary  HDPK Dharmasena     NaN  "
      ]
     },
     "execution_count": 65,
     "metadata": {},
     "output_type": "execute_result"
    }
   ],
   "source": [
    "matches.loc[matches['win_by_runs'] == 1]   #matches won by minimum runs"
   ]
  },
  {
   "cell_type": "code",
   "execution_count": null,
   "metadata": {},
   "outputs": [],
   "source": []
  },
  {
   "cell_type": "code",
   "execution_count": 66,
   "metadata": {},
   "outputs": [
    {
     "data": {
      "text/plain": [
       "10"
      ]
     },
     "execution_count": 66,
     "metadata": {},
     "output_type": "execute_result"
    }
   ],
   "source": [
    "matches['win_by_wickets'].max() "
   ]
  },
  {
   "cell_type": "code",
   "execution_count": 67,
   "metadata": {},
   "outputs": [
    {
     "data": {
      "text/html": [
       "<div>\n",
       "<style scoped>\n",
       "    .dataframe tbody tr th:only-of-type {\n",
       "        vertical-align: middle;\n",
       "    }\n",
       "\n",
       "    .dataframe tbody tr th {\n",
       "        vertical-align: top;\n",
       "    }\n",
       "\n",
       "    .dataframe thead th {\n",
       "        text-align: right;\n",
       "    }\n",
       "</style>\n",
       "<table border=\"1\" class=\"dataframe\">\n",
       "  <thead>\n",
       "    <tr style=\"text-align: right;\">\n",
       "      <th></th>\n",
       "      <th>winner</th>\n",
       "      <th>city</th>\n",
       "      <th>team1</th>\n",
       "      <th>team2</th>\n",
       "    </tr>\n",
       "  </thead>\n",
       "  <tbody>\n",
       "    <tr>\n",
       "      <th>2</th>\n",
       "      <td>Kolkata Knight Riders</td>\n",
       "      <td>Rajkot</td>\n",
       "      <td>Gujarat Lions</td>\n",
       "      <td>Kolkata Knight Riders</td>\n",
       "    </tr>\n",
       "    <tr>\n",
       "      <th>34</th>\n",
       "      <td>Kings XI Punjab</td>\n",
       "      <td>Chandigarh</td>\n",
       "      <td>Delhi Daredevils</td>\n",
       "      <td>Kings XI Punjab</td>\n",
       "    </tr>\n",
       "    <tr>\n",
       "      <th>71</th>\n",
       "      <td>Deccan Chargers</td>\n",
       "      <td>Mumbai</td>\n",
       "      <td>Mumbai Indians</td>\n",
       "      <td>Deccan Chargers</td>\n",
       "    </tr>\n",
       "    <tr>\n",
       "      <th>119</th>\n",
       "      <td>Delhi Daredevils</td>\n",
       "      <td>Cape Town</td>\n",
       "      <td>Kings XI Punjab</td>\n",
       "      <td>Delhi Daredevils</td>\n",
       "    </tr>\n",
       "    <tr>\n",
       "      <th>183</th>\n",
       "      <td>Royal Challengers Bangalore</td>\n",
       "      <td>Bangalore</td>\n",
       "      <td>Rajasthan Royals</td>\n",
       "      <td>Royal Challengers Bangalore</td>\n",
       "    </tr>\n",
       "    <tr>\n",
       "      <th>298</th>\n",
       "      <td>Rajasthan Royals</td>\n",
       "      <td>Mumbai</td>\n",
       "      <td>Mumbai Indians</td>\n",
       "      <td>Rajasthan Royals</td>\n",
       "    </tr>\n",
       "    <tr>\n",
       "      <th>376</th>\n",
       "      <td>Mumbai Indians</td>\n",
       "      <td>Jaipur</td>\n",
       "      <td>Rajasthan Royals</td>\n",
       "      <td>Mumbai Indians</td>\n",
       "    </tr>\n",
       "    <tr>\n",
       "      <th>390</th>\n",
       "      <td>Chennai Super Kings</td>\n",
       "      <td>Chandigarh</td>\n",
       "      <td>Kings XI Punjab</td>\n",
       "      <td>Chennai Super Kings</td>\n",
       "    </tr>\n",
       "    <tr>\n",
       "      <th>542</th>\n",
       "      <td>Royal Challengers Bangalore</td>\n",
       "      <td>Delhi</td>\n",
       "      <td>Delhi Daredevils</td>\n",
       "      <td>Royal Challengers Bangalore</td>\n",
       "    </tr>\n",
       "    <tr>\n",
       "      <th>590</th>\n",
       "      <td>Sunrisers Hyderabad</td>\n",
       "      <td>Rajkot</td>\n",
       "      <td>Gujarat Lions</td>\n",
       "      <td>Sunrisers Hyderabad</td>\n",
       "    </tr>\n",
       "    <tr>\n",
       "      <th>683</th>\n",
       "      <td>Royal Challengers Bangalore</td>\n",
       "      <td>Indore</td>\n",
       "      <td>Kings XI Punjab</td>\n",
       "      <td>Royal Challengers Bangalore</td>\n",
       "    </tr>\n",
       "  </tbody>\n",
       "</table>\n",
       "</div>"
      ],
      "text/plain": [
       "                          winner        city             team1  \\\n",
       "2          Kolkata Knight Riders      Rajkot     Gujarat Lions   \n",
       "34               Kings XI Punjab  Chandigarh  Delhi Daredevils   \n",
       "71               Deccan Chargers      Mumbai    Mumbai Indians   \n",
       "119             Delhi Daredevils   Cape Town   Kings XI Punjab   \n",
       "183  Royal Challengers Bangalore   Bangalore  Rajasthan Royals   \n",
       "298             Rajasthan Royals      Mumbai    Mumbai Indians   \n",
       "376               Mumbai Indians      Jaipur  Rajasthan Royals   \n",
       "390          Chennai Super Kings  Chandigarh   Kings XI Punjab   \n",
       "542  Royal Challengers Bangalore       Delhi  Delhi Daredevils   \n",
       "590          Sunrisers Hyderabad      Rajkot     Gujarat Lions   \n",
       "683  Royal Challengers Bangalore      Indore   Kings XI Punjab   \n",
       "\n",
       "                           team2  \n",
       "2          Kolkata Knight Riders  \n",
       "34               Kings XI Punjab  \n",
       "71               Deccan Chargers  \n",
       "119             Delhi Daredevils  \n",
       "183  Royal Challengers Bangalore  \n",
       "298             Rajasthan Royals  \n",
       "376               Mumbai Indians  \n",
       "390          Chennai Super Kings  \n",
       "542  Royal Challengers Bangalore  \n",
       "590          Sunrisers Hyderabad  \n",
       "683  Royal Challengers Bangalore  "
      ]
     },
     "execution_count": 67,
     "metadata": {},
     "output_type": "execute_result"
    }
   ],
   "source": [
    "matches.loc[matches['win_by_wickets']==10][['winner','city','team1','team2']]  #matches won by maximum Wickets"
   ]
  },
  {
   "cell_type": "code",
   "execution_count": null,
   "metadata": {},
   "outputs": [],
   "source": []
  },
  {
   "cell_type": "code",
   "execution_count": 68,
   "metadata": {},
   "outputs": [
    {
     "data": {
      "text/html": [
       "<div>\n",
       "<style scoped>\n",
       "    .dataframe tbody tr th:only-of-type {\n",
       "        vertical-align: middle;\n",
       "    }\n",
       "\n",
       "    .dataframe tbody tr th {\n",
       "        vertical-align: top;\n",
       "    }\n",
       "\n",
       "    .dataframe thead th {\n",
       "        text-align: right;\n",
       "    }\n",
       "</style>\n",
       "<table border=\"1\" class=\"dataframe\">\n",
       "  <thead>\n",
       "    <tr style=\"text-align: right;\">\n",
       "      <th></th>\n",
       "      <th>winner</th>\n",
       "      <th>city</th>\n",
       "      <th>team1</th>\n",
       "      <th>team2</th>\n",
       "    </tr>\n",
       "  </thead>\n",
       "  <tbody>\n",
       "    <tr>\n",
       "      <th>559</th>\n",
       "      <td>Kolkata Knight Riders</td>\n",
       "      <td>Kolkata</td>\n",
       "      <td>Kings XI Punjab</td>\n",
       "      <td>Kolkata Knight Riders</td>\n",
       "    </tr>\n",
       "    <tr>\n",
       "      <th>636</th>\n",
       "      <td>Chennai Super Kings</td>\n",
       "      <td>Mumbai</td>\n",
       "      <td>Mumbai Indians</td>\n",
       "      <td>Chennai Super Kings</td>\n",
       "    </tr>\n",
       "    <tr>\n",
       "      <th>642</th>\n",
       "      <td>Sunrisers Hyderabad</td>\n",
       "      <td>Hyderabad</td>\n",
       "      <td>Mumbai Indians</td>\n",
       "      <td>Sunrisers Hyderabad</td>\n",
       "    </tr>\n",
       "  </tbody>\n",
       "</table>\n",
       "</div>"
      ],
      "text/plain": [
       "                    winner       city            team1                  team2\n",
       "559  Kolkata Knight Riders    Kolkata  Kings XI Punjab  Kolkata Knight Riders\n",
       "636    Chennai Super Kings     Mumbai   Mumbai Indians    Chennai Super Kings\n",
       "642    Sunrisers Hyderabad  Hyderabad   Mumbai Indians    Sunrisers Hyderabad"
      ]
     },
     "execution_count": 68,
     "metadata": {},
     "output_type": "execute_result"
    }
   ],
   "source": [
    "matches.loc[matches['win_by_wickets']==1][['winner','city','team1','team2']]  #matches won by minimum Wickets"
   ]
  },
  {
   "cell_type": "markdown",
   "metadata": {},
   "source": [
    "## Toss Winners"
   ]
  },
  {
   "cell_type": "code",
   "execution_count": null,
   "metadata": {},
   "outputs": [],
   "source": []
  },
  {
   "cell_type": "code",
   "execution_count": 69,
   "metadata": {},
   "outputs": [],
   "source": [
    "toss_df = matches['toss_winner'].value_counts().to_frame()"
   ]
  },
  {
   "cell_type": "code",
   "execution_count": 70,
   "metadata": {},
   "outputs": [
    {
     "data": {
      "text/html": [
       "<div>\n",
       "<style scoped>\n",
       "    .dataframe tbody tr th:only-of-type {\n",
       "        vertical-align: middle;\n",
       "    }\n",
       "\n",
       "    .dataframe tbody tr th {\n",
       "        vertical-align: top;\n",
       "    }\n",
       "\n",
       "    .dataframe thead th {\n",
       "        text-align: right;\n",
       "    }\n",
       "</style>\n",
       "<table border=\"1\" class=\"dataframe\">\n",
       "  <thead>\n",
       "    <tr style=\"text-align: right;\">\n",
       "      <th></th>\n",
       "      <th>toss_winner</th>\n",
       "    </tr>\n",
       "  </thead>\n",
       "  <tbody>\n",
       "    <tr>\n",
       "      <th>Mumbai Indians</th>\n",
       "      <td>90</td>\n",
       "    </tr>\n",
       "    <tr>\n",
       "      <th>Kolkata Knight Riders</th>\n",
       "      <td>87</td>\n",
       "    </tr>\n",
       "    <tr>\n",
       "      <th>Delhi Daredevils</th>\n",
       "      <td>80</td>\n",
       "    </tr>\n",
       "    <tr>\n",
       "      <th>Royal Challengers Bangalore</th>\n",
       "      <td>77</td>\n",
       "    </tr>\n",
       "    <tr>\n",
       "      <th>Chennai Super Kings</th>\n",
       "      <td>77</td>\n",
       "    </tr>\n",
       "    <tr>\n",
       "      <th>Kings XI Punjab</th>\n",
       "      <td>75</td>\n",
       "    </tr>\n",
       "    <tr>\n",
       "      <th>Rajasthan Royals</th>\n",
       "      <td>69</td>\n",
       "    </tr>\n",
       "    <tr>\n",
       "      <th>Deccan Chargers</th>\n",
       "      <td>43</td>\n",
       "    </tr>\n",
       "    <tr>\n",
       "      <th>Sunrisers Hyderabad</th>\n",
       "      <td>42</td>\n",
       "    </tr>\n",
       "    <tr>\n",
       "      <th>Pune Warriors</th>\n",
       "      <td>20</td>\n",
       "    </tr>\n",
       "    <tr>\n",
       "      <th>Gujarat Lions</th>\n",
       "      <td>15</td>\n",
       "    </tr>\n",
       "    <tr>\n",
       "      <th>Kochi Tuskers Kerala</th>\n",
       "      <td>8</td>\n",
       "    </tr>\n",
       "    <tr>\n",
       "      <th>Rising Pune Supergiants</th>\n",
       "      <td>7</td>\n",
       "    </tr>\n",
       "    <tr>\n",
       "      <th>Rising Pune Supergiant</th>\n",
       "      <td>6</td>\n",
       "    </tr>\n",
       "  </tbody>\n",
       "</table>\n",
       "</div>"
      ],
      "text/plain": [
       "                             toss_winner\n",
       "Mumbai Indians                        90\n",
       "Kolkata Knight Riders                 87\n",
       "Delhi Daredevils                      80\n",
       "Royal Challengers Bangalore           77\n",
       "Chennai Super Kings                   77\n",
       "Kings XI Punjab                       75\n",
       "Rajasthan Royals                      69\n",
       "Deccan Chargers                       43\n",
       "Sunrisers Hyderabad                   42\n",
       "Pune Warriors                         20\n",
       "Gujarat Lions                         15\n",
       "Kochi Tuskers Kerala                   8\n",
       "Rising Pune Supergiants                7\n",
       "Rising Pune Supergiant                 6"
      ]
     },
     "execution_count": 70,
     "metadata": {},
     "output_type": "execute_result"
    }
   ],
   "source": [
    "toss_df"
   ]
  },
  {
   "cell_type": "code",
   "execution_count": 71,
   "metadata": {},
   "outputs": [],
   "source": [
    "toss_df.reset_index(inplace=True)"
   ]
  },
  {
   "cell_type": "code",
   "execution_count": 72,
   "metadata": {},
   "outputs": [],
   "source": [
    "toss_df.rename(columns={'index':'Teams'},inplace=True)"
   ]
  },
  {
   "cell_type": "code",
   "execution_count": 73,
   "metadata": {},
   "outputs": [
    {
     "data": {
      "text/plain": [
       "(array([ 0,  1,  2,  3,  4,  5,  6,  7,  8,  9, 10, 11, 12, 13]),\n",
       " <a list of 14 Text major ticklabel objects>)"
      ]
     },
     "execution_count": 73,
     "metadata": {},
     "output_type": "execute_result"
    },
    {
     "data": {
      "image/png": "[encoded data removed]",
      "text/plain": [
       "<Figure size 1080x432 with 1 Axes>"
      ]
     },
     "metadata": {
      "needs_background": "light"
     },
     "output_type": "display_data"
    }
   ],
   "source": [
    "plt.figure(figsize=(15,6))\n",
    "sns.barplot(x='Teams',y='toss_winner',data=toss_df,palette='magma')\n",
    "plt.xticks(rotation='vertical')\n",
    "# MI won highest number of tosses  with 90"
   ]
  },
  {
   "cell_type": "code",
   "execution_count": null,
   "metadata": {},
   "outputs": [],
   "source": []
  },
  {
   "cell_type": "code",
   "execution_count": 74,
   "metadata": {},
   "outputs": [
    {
     "name": "stdout",
     "output_type": "stream",
     "text": [
      "Mumbai Indians win by Batting First : 51\n"
     ]
    }
   ],
   "source": [
    "MI_win_byBat = matches.loc[(matches['winner']=='Mumbai Indians') & (matches['win_by_runs']>0)].count()['win_by_runs']\n",
    "print(f'Mumbai Indians win by Batting First : {MI_win_byBat}')"
   ]
  },
  {
   "cell_type": "code",
   "execution_count": null,
   "metadata": {},
   "outputs": [],
   "source": []
  },
  {
   "cell_type": "code",
   "execution_count": 75,
   "metadata": {},
   "outputs": [
    {
     "name": "stdout",
     "output_type": "stream",
     "text": [
      "Mumbai Indians win by Bowling First : 46\n"
     ]
    }
   ],
   "source": [
    "MI_win_byWkt = matches.loc[(matches['winner']=='Mumbai Indians') & (matches['win_by_wickets']>0)].count()['win_by_wickets']\n",
    "print(f'Mumbai Indians win by Bowling First : {MI_win_byWkt}')"
   ]
  },
  {
   "cell_type": "code",
   "execution_count": null,
   "metadata": {},
   "outputs": [],
   "source": []
  },
  {
   "cell_type": "code",
   "execution_count": 76,
   "metadata": {},
   "outputs": [
    {
     "name": "stdout",
     "output_type": "stream",
     "text": [
      "Chennai Supar Kings win by Batting First : 49\n"
     ]
    }
   ],
   "source": [
    "CSK_win_byBat = matches.loc[(matches['winner']=='Chennai Super Kings') & (matches['win_by_runs']>0)].count()['win_by_runs']\n",
    "print(f'Chennai Supar Kings win by Batting First : {CSK_win_byBat}')"
   ]
  },
  {
   "cell_type": "code",
   "execution_count": null,
   "metadata": {},
   "outputs": [],
   "source": []
  },
  {
   "cell_type": "code",
   "execution_count": 77,
   "metadata": {},
   "outputs": [
    {
     "name": "stdout",
     "output_type": "stream",
     "text": [
      "Chennai Supar kings win by Bowling First : 41\n"
     ]
    }
   ],
   "source": [
    "CSK_win_byWkt = matches.loc[(matches['winner']=='Chennai Super Kings') \n",
    "                            & (matches['win_by_wickets']>0)].count()['win_by_wickets']\n",
    "print(f'Chennai Supar kings win by Bowling First : {CSK_win_byWkt}')"
   ]
  },
  {
   "cell_type": "code",
   "execution_count": null,
   "metadata": {},
   "outputs": [],
   "source": []
  },
  {
   "cell_type": "code",
   "execution_count": 78,
   "metadata": {},
   "outputs": [
    {
     "data": {
      "text/html": [
       "<div>\n",
       "<style scoped>\n",
       "    .dataframe tbody tr th:only-of-type {\n",
       "        vertical-align: middle;\n",
       "    }\n",
       "\n",
       "    .dataframe tbody tr th {\n",
       "        vertical-align: top;\n",
       "    }\n",
       "\n",
       "    .dataframe thead th {\n",
       "        text-align: right;\n",
       "    }\n",
       "</style>\n",
       "<table border=\"1\" class=\"dataframe\">\n",
       "  <thead>\n",
       "    <tr style=\"text-align: right;\">\n",
       "      <th></th>\n",
       "      <th>id</th>\n",
       "      <th>season</th>\n",
       "      <th>city</th>\n",
       "      <th>date</th>\n",
       "      <th>team1</th>\n",
       "      <th>team2</th>\n",
       "      <th>toss_winner</th>\n",
       "      <th>toss_decision</th>\n",
       "      <th>result</th>\n",
       "      <th>dl_applied</th>\n",
       "      <th>winner</th>\n",
       "      <th>win_by_runs</th>\n",
       "      <th>win_by_wickets</th>\n",
       "      <th>player_of_match</th>\n",
       "      <th>venue</th>\n",
       "      <th>umpire1</th>\n",
       "      <th>umpire2</th>\n",
       "      <th>umpire3</th>\n",
       "    </tr>\n",
       "  </thead>\n",
       "  <tbody>\n",
       "    <tr>\n",
       "      <th>0</th>\n",
       "      <td>1</td>\n",
       "      <td>2017</td>\n",
       "      <td>Hyderabad</td>\n",
       "      <td>05-04-2017</td>\n",
       "      <td>Sunrisers Hyderabad</td>\n",
       "      <td>Royal Challengers Bangalore</td>\n",
       "      <td>Royal Challengers Bangalore</td>\n",
       "      <td>field</td>\n",
       "      <td>normal</td>\n",
       "      <td>0</td>\n",
       "      <td>Sunrisers Hyderabad</td>\n",
       "      <td>35</td>\n",
       "      <td>0</td>\n",
       "      <td>Yuvraj Singh</td>\n",
       "      <td>Rajiv Gandhi International Stadium, Uppal</td>\n",
       "      <td>AY Dandekar</td>\n",
       "      <td>NJ Llong</td>\n",
       "      <td>NaN</td>\n",
       "    </tr>\n",
       "    <tr>\n",
       "      <th>1</th>\n",
       "      <td>2</td>\n",
       "      <td>2017</td>\n",
       "      <td>Pune</td>\n",
       "      <td>06-04-2017</td>\n",
       "      <td>Mumbai Indians</td>\n",
       "      <td>Rising Pune Supergiant</td>\n",
       "      <td>Rising Pune Supergiant</td>\n",
       "      <td>field</td>\n",
       "      <td>normal</td>\n",
       "      <td>0</td>\n",
       "      <td>Rising Pune Supergiant</td>\n",
       "      <td>0</td>\n",
       "      <td>7</td>\n",
       "      <td>SPD Smith</td>\n",
       "      <td>Maharashtra Cricket Association Stadium</td>\n",
       "      <td>A Nand Kishore</td>\n",
       "      <td>S Ravi</td>\n",
       "      <td>NaN</td>\n",
       "    </tr>\n",
       "  </tbody>\n",
       "</table>\n",
       "</div>"
      ],
      "text/plain": [
       "   id  season       city        date                team1  \\\n",
       "0   1    2017  Hyderabad  05-04-2017  Sunrisers Hyderabad   \n",
       "1   2    2017       Pune  06-04-2017       Mumbai Indians   \n",
       "\n",
       "                         team2                  toss_winner toss_decision  \\\n",
       "0  Royal Challengers Bangalore  Royal Challengers Bangalore         field   \n",
       "1       Rising Pune Supergiant       Rising Pune Supergiant         field   \n",
       "\n",
       "   result  dl_applied                  winner  win_by_runs  win_by_wickets  \\\n",
       "0  normal           0     Sunrisers Hyderabad           35               0   \n",
       "1  normal           0  Rising Pune Supergiant            0               7   \n",
       "\n",
       "  player_of_match                                      venue         umpire1  \\\n",
       "0    Yuvraj Singh  Rajiv Gandhi International Stadium, Uppal     AY Dandekar   \n",
       "1       SPD Smith    Maharashtra Cricket Association Stadium  A Nand Kishore   \n",
       "\n",
       "    umpire2 umpire3  \n",
       "0  NJ Llong     NaN  \n",
       "1    S Ravi     NaN  "
      ]
     },
     "execution_count": 78,
     "metadata": {},
     "output_type": "execute_result"
    }
   ],
   "source": [
    "matches.head(2)"
   ]
  },
  {
   "cell_type": "markdown",
   "metadata": {},
   "source": [
    "## Matches - Result was tie or no conclusion"
   ]
  },
  {
   "cell_type": "code",
   "execution_count": 79,
   "metadata": {},
   "outputs": [
    {
     "data": {
      "text/html": [
       "<div>\n",
       "<style scoped>\n",
       "    .dataframe tbody tr th:only-of-type {\n",
       "        vertical-align: middle;\n",
       "    }\n",
       "\n",
       "    .dataframe tbody tr th {\n",
       "        vertical-align: top;\n",
       "    }\n",
       "\n",
       "    .dataframe thead th {\n",
       "        text-align: right;\n",
       "    }\n",
       "</style>\n",
       "<table border=\"1\" class=\"dataframe\">\n",
       "  <thead>\n",
       "    <tr style=\"text-align: right;\">\n",
       "      <th></th>\n",
       "      <th>season</th>\n",
       "      <th>team1</th>\n",
       "      <th>team2</th>\n",
       "      <th>result</th>\n",
       "    </tr>\n",
       "  </thead>\n",
       "  <tbody>\n",
       "    <tr>\n",
       "      <th>33</th>\n",
       "      <td>2017</td>\n",
       "      <td>Gujarat Lions</td>\n",
       "      <td>Mumbai Indians</td>\n",
       "      <td>tie</td>\n",
       "    </tr>\n",
       "    <tr>\n",
       "      <th>125</th>\n",
       "      <td>2009</td>\n",
       "      <td>Rajasthan Royals</td>\n",
       "      <td>Kolkata Knight Riders</td>\n",
       "      <td>tie</td>\n",
       "    </tr>\n",
       "    <tr>\n",
       "      <th>189</th>\n",
       "      <td>2010</td>\n",
       "      <td>Kings XI Punjab</td>\n",
       "      <td>Chennai Super Kings</td>\n",
       "      <td>tie</td>\n",
       "    </tr>\n",
       "    <tr>\n",
       "      <th>300</th>\n",
       "      <td>2011</td>\n",
       "      <td>Delhi Daredevils</td>\n",
       "      <td>Pune Warriors</td>\n",
       "      <td>no result</td>\n",
       "    </tr>\n",
       "    <tr>\n",
       "      <th>387</th>\n",
       "      <td>2013</td>\n",
       "      <td>Royal Challengers Bangalore</td>\n",
       "      <td>Sunrisers Hyderabad</td>\n",
       "      <td>tie</td>\n",
       "    </tr>\n",
       "    <tr>\n",
       "      <th>400</th>\n",
       "      <td>2013</td>\n",
       "      <td>Delhi Daredevils</td>\n",
       "      <td>Royal Challengers Bangalore</td>\n",
       "      <td>tie</td>\n",
       "    </tr>\n",
       "    <tr>\n",
       "      <th>475</th>\n",
       "      <td>2014</td>\n",
       "      <td>Rajasthan Royals</td>\n",
       "      <td>Kolkata Knight Riders</td>\n",
       "      <td>tie</td>\n",
       "    </tr>\n",
       "    <tr>\n",
       "      <th>535</th>\n",
       "      <td>2015</td>\n",
       "      <td>Rajasthan Royals</td>\n",
       "      <td>Kings XI Punjab</td>\n",
       "      <td>tie</td>\n",
       "    </tr>\n",
       "    <tr>\n",
       "      <th>545</th>\n",
       "      <td>2015</td>\n",
       "      <td>Royal Challengers Bangalore</td>\n",
       "      <td>Rajasthan Royals</td>\n",
       "      <td>no result</td>\n",
       "    </tr>\n",
       "    <tr>\n",
       "      <th>570</th>\n",
       "      <td>2015</td>\n",
       "      <td>Delhi Daredevils</td>\n",
       "      <td>Royal Challengers Bangalore</td>\n",
       "      <td>no result</td>\n",
       "    </tr>\n",
       "  </tbody>\n",
       "</table>\n",
       "</div>"
      ],
      "text/plain": [
       "     season                        team1                        team2  \\\n",
       "33     2017                Gujarat Lions               Mumbai Indians   \n",
       "125    2009             Rajasthan Royals        Kolkata Knight Riders   \n",
       "189    2010              Kings XI Punjab          Chennai Super Kings   \n",
       "300    2011             Delhi Daredevils                Pune Warriors   \n",
       "387    2013  Royal Challengers Bangalore          Sunrisers Hyderabad   \n",
       "400    2013             Delhi Daredevils  Royal Challengers Bangalore   \n",
       "475    2014             Rajasthan Royals        Kolkata Knight Riders   \n",
       "535    2015             Rajasthan Royals              Kings XI Punjab   \n",
       "545    2015  Royal Challengers Bangalore             Rajasthan Royals   \n",
       "570    2015             Delhi Daredevils  Royal Challengers Bangalore   \n",
       "\n",
       "        result  \n",
       "33         tie  \n",
       "125        tie  \n",
       "189        tie  \n",
       "300  no result  \n",
       "387        tie  \n",
       "400        tie  \n",
       "475        tie  \n",
       "535        tie  \n",
       "545  no result  \n",
       "570  no result  "
      ]
     },
     "execution_count": 79,
     "metadata": {},
     "output_type": "execute_result"
    }
   ],
   "source": [
    "matches.loc[(matches['result']=='tie') | (matches['result']=='no result')][['season','team1','team2','result']]"
   ]
  },
  {
   "cell_type": "code",
   "execution_count": 80,
   "metadata": {},
   "outputs": [
    {
     "name": "stdout",
     "output_type": "stream",
     "text": [
      "Result of Matches : \n",
      "normal       686\n",
      "tie            7\n",
      "no result      3\n",
      "Name: result, dtype: int64\n"
     ]
    }
   ],
   "source": [
    "print(f'Result of Matches : \\n{matches[\"result\"].value_counts()}')"
   ]
  },
  {
   "cell_type": "markdown",
   "metadata": {},
   "source": [
    "## Does toss plays an important role in matches?"
   ]
  },
  {
   "cell_type": "code",
   "execution_count": 81,
   "metadata": {},
   "outputs": [
    {
     "data": {
      "text/plain": [
       "False    339\n",
       "True     357\n",
       "dtype: int64"
      ]
     },
     "execution_count": 81,
     "metadata": {},
     "output_type": "execute_result"
    }
   ],
   "source": [
    "ss = matches['toss_winner'] == matches['winner']\n",
    "ss.groupby(ss).size()\n",
    "\n",
    "# Toss plays an important role in winning\n",
    "# There are 357 matches in which teams won toss as well won match"
   ]
  },
  {
   "cell_type": "markdown",
   "metadata": {},
   "source": [
    "### List of teams where teams won  both match and toss"
   ]
  },
  {
   "cell_type": "code",
   "execution_count": 82,
   "metadata": {},
   "outputs": [
    {
     "data": {
      "text/html": [
       "<div>\n",
       "<style scoped>\n",
       "    .dataframe tbody tr th:only-of-type {\n",
       "        vertical-align: middle;\n",
       "    }\n",
       "\n",
       "    .dataframe tbody tr th {\n",
       "        vertical-align: top;\n",
       "    }\n",
       "\n",
       "    .dataframe thead th {\n",
       "        text-align: right;\n",
       "    }\n",
       "</style>\n",
       "<table border=\"1\" class=\"dataframe\">\n",
       "  <thead>\n",
       "    <tr style=\"text-align: right;\">\n",
       "      <th></th>\n",
       "      <th>toss_winner</th>\n",
       "      <th>winner</th>\n",
       "    </tr>\n",
       "  </thead>\n",
       "  <tbody>\n",
       "    <tr>\n",
       "      <th>4</th>\n",
       "      <td>Royal Challengers Bangalore</td>\n",
       "      <td>Royal Challengers Bangalore</td>\n",
       "    </tr>\n",
       "    <tr>\n",
       "      <th>14</th>\n",
       "      <td>Delhi Daredevils</td>\n",
       "      <td>Delhi Daredevils</td>\n",
       "    </tr>\n",
       "    <tr>\n",
       "      <th>20</th>\n",
       "      <td>Sunrisers Hyderabad</td>\n",
       "      <td>Sunrisers Hyderabad</td>\n",
       "    </tr>\n",
       "    <tr>\n",
       "      <th>50</th>\n",
       "      <td>Delhi Daredevils</td>\n",
       "      <td>Delhi Daredevils</td>\n",
       "    </tr>\n",
       "    <tr>\n",
       "      <th>54</th>\n",
       "      <td>Royal Challengers Bangalore</td>\n",
       "      <td>Royal Challengers Bangalore</td>\n",
       "    </tr>\n",
       "    <tr>\n",
       "      <th>...</th>\n",
       "      <td>...</td>\n",
       "      <td>...</td>\n",
       "    </tr>\n",
       "    <tr>\n",
       "      <th>651</th>\n",
       "      <td>Kings XI Punjab</td>\n",
       "      <td>Kings XI Punjab</td>\n",
       "    </tr>\n",
       "    <tr>\n",
       "      <th>663</th>\n",
       "      <td>Sunrisers Hyderabad</td>\n",
       "      <td>Sunrisers Hyderabad</td>\n",
       "    </tr>\n",
       "    <tr>\n",
       "      <th>675</th>\n",
       "      <td>Rajasthan Royals</td>\n",
       "      <td>Rajasthan Royals</td>\n",
       "    </tr>\n",
       "    <tr>\n",
       "      <th>688</th>\n",
       "      <td>Rajasthan Royals</td>\n",
       "      <td>Rajasthan Royals</td>\n",
       "    </tr>\n",
       "    <tr>\n",
       "      <th>690</th>\n",
       "      <td>Delhi Daredevils</td>\n",
       "      <td>Delhi Daredevils</td>\n",
       "    </tr>\n",
       "  </tbody>\n",
       "</table>\n",
       "<p>129 rows × 2 columns</p>\n",
       "</div>"
      ],
      "text/plain": [
       "                     toss_winner                       winner\n",
       "4    Royal Challengers Bangalore  Royal Challengers Bangalore\n",
       "14              Delhi Daredevils             Delhi Daredevils\n",
       "20           Sunrisers Hyderabad          Sunrisers Hyderabad\n",
       "50              Delhi Daredevils             Delhi Daredevils\n",
       "54   Royal Challengers Bangalore  Royal Challengers Bangalore\n",
       "..                           ...                          ...\n",
       "651              Kings XI Punjab              Kings XI Punjab\n",
       "663          Sunrisers Hyderabad          Sunrisers Hyderabad\n",
       "675             Rajasthan Royals             Rajasthan Royals\n",
       "688             Rajasthan Royals             Rajasthan Royals\n",
       "690             Delhi Daredevils             Delhi Daredevils\n",
       "\n",
       "[129 rows x 2 columns]"
      ]
     },
     "execution_count": 82,
     "metadata": {},
     "output_type": "execute_result"
    }
   ],
   "source": [
    "matches[(matches['toss_decision']=='bat') & (matches['toss_winner']==matches['winner'])][['toss_winner','winner']]\n",
    "# This dataframe shows the matches where team won match as well as toss"
   ]
  },
  {
   "cell_type": "code",
   "execution_count": null,
   "metadata": {},
   "outputs": [],
   "source": []
  },
  {
   "cell_type": "markdown",
   "metadata": {},
   "source": [
    "## Matches won per seasons"
   ]
  },
  {
   "cell_type": "code",
   "execution_count": 83,
   "metadata": {},
   "outputs": [],
   "source": [
    "match_win_season = matches.groupby(by='season')['winner'].value_counts()"
   ]
  },
  {
   "cell_type": "code",
   "execution_count": 84,
   "metadata": {},
   "outputs": [],
   "source": [
    "type(match_win_season)\n",
    "pd.set_option('display.max_rows', 10)"
   ]
  },
  {
   "cell_type": "code",
   "execution_count": 85,
   "metadata": {},
   "outputs": [
    {
     "data": {
      "text/plain": [
       "season  winner                     \n",
       "2008    Rajasthan Royals               13\n",
       "        Kings XI Punjab                10\n",
       "        Chennai Super Kings             9\n",
       "        Delhi Daredevils                7\n",
       "        Mumbai Indians                  7\n",
       "                                       ..\n",
       "2018    Rajasthan Royals                7\n",
       "        Kings XI Punjab                 6\n",
       "        Mumbai Indians                  6\n",
       "        Royal Challengers Bangalore     6\n",
       "        Delhi Daredevils                5\n",
       "Name: winner, Length: 92, dtype: int64"
      ]
     },
     "execution_count": 85,
     "metadata": {},
     "output_type": "execute_result"
    }
   ],
   "source": [
    "match_win_season"
   ]
  },
  {
   "cell_type": "code",
   "execution_count": null,
   "metadata": {},
   "outputs": [],
   "source": []
  },
  {
   "cell_type": "markdown",
   "metadata": {},
   "source": [
    "## Highest played matches by team in each season"
   ]
  },
  {
   "cell_type": "code",
   "execution_count": 86,
   "metadata": {},
   "outputs": [
    {
     "data": {
      "text/plain": [
       "season  winner               \n",
       "2008    Rajasthan Royals         13\n",
       "2013    Mumbai Indians           13\n",
       "2017    Mumbai Indians           12\n",
       "2012    Kolkata Knight Riders    12\n",
       "2013    Chennai Super Kings      12\n",
       "2014    Kings XI Punjab          12\n",
       "2010    Mumbai Indians           11\n",
       "2011    Chennai Super Kings      11\n",
       "2012    Delhi Daredevils         11\n",
       "2014    Kolkata Knight Riders    11\n",
       "Name: winner, dtype: int64"
      ]
     },
     "execution_count": 86,
     "metadata": {},
     "output_type": "execute_result"
    }
   ],
   "source": [
    "match_win_season.sort_values(ascending=False).head(10)"
   ]
  },
  {
   "cell_type": "code",
   "execution_count": null,
   "metadata": {},
   "outputs": [],
   "source": []
  },
  {
   "cell_type": "code",
   "execution_count": null,
   "metadata": {},
   "outputs": [],
   "source": []
  },
  {
   "cell_type": "markdown",
   "metadata": {},
   "source": [
    "## IPL Trophy"
   ]
  },
  {
   "cell_type": "code",
   "execution_count": 87,
   "metadata": {},
   "outputs": [],
   "source": [
    "# Here 'duplicates' is used to manage duplicate data in our dataset.....By doing this we can know the winner of each year's IPL finals..Because we \"keep\" Last data"
   ]
  },
  {
   "cell_type": "code",
   "execution_count": 88,
   "metadata": {},
   "outputs": [],
   "source": [
    "Trophy = matches.drop_duplicates(subset=['season'],keep='last')[['season','winner','venue']].sort_values(by='season').reset_index(drop=True)"
   ]
  },
  {
   "cell_type": "code",
   "execution_count": 89,
   "metadata": {},
   "outputs": [
    {
     "name": "stdout",
     "output_type": "stream",
     "text": [
      "IPl Season Winner Each Year:\n"
     ]
    },
    {
     "data": {
      "text/plain": [
       "Chennai Super Kings      3\n",
       "Mumbai Indians           3\n",
       "Kolkata Knight Riders    2\n",
       "Sunrisers Hyderabad      1\n",
       "Rajasthan Royals         1\n",
       "Deccan Chargers          1\n",
       "Name: winner, dtype: int64"
      ]
     },
     "execution_count": 89,
     "metadata": {},
     "output_type": "execute_result"
    }
   ],
   "source": [
    "print('IPl Season Winner Each Year:')\n",
    "Trophy['winner'].value_counts()  # MI And CSK are the way too ahead then many teams...most trophies are in their hand..Only 6/14 teams were able to win trophies till now..."
   ]
  },
  {
   "cell_type": "code",
   "execution_count": null,
   "metadata": {},
   "outputs": [],
   "source": []
  },
  {
   "cell_type": "code",
   "execution_count": null,
   "metadata": {},
   "outputs": [],
   "source": []
  },
  {
   "cell_type": "markdown",
   "metadata": {},
   "source": [
    "## MI and CSK won 3 IPL thophy from 2008-2018"
   ]
  },
  {
   "cell_type": "code",
   "execution_count": null,
   "metadata": {},
   "outputs": [],
   "source": []
  },
  {
   "cell_type": "code",
   "execution_count": null,
   "metadata": {},
   "outputs": [],
   "source": []
  },
  {
   "cell_type": "code",
   "execution_count": 90,
   "metadata": {},
   "outputs": [
    {
     "data": {
      "text/plain": [
       "(array([0, 1, 2, 3, 4, 5]), <a list of 6 Text major ticklabel objects>)"
      ]
     },
     "execution_count": 90,
     "metadata": {},
     "output_type": "execute_result"
    },
    {
     "data": {
      "image/png": "[encoded data removed]",
      "text/plain": [
       "<Figure size 864x360 with 1 Axes>"
      ]
     },
     "metadata": {
      "needs_background": "light"
     },
     "output_type": "display_data"
    }
   ],
   "source": [
    "plt.figure(figsize=(12,5))\n",
    "sns.countplot(x='winner',data=Trophy)\n",
    "plt.xticks(rotation='vertical')"
   ]
  },
  {
   "cell_type": "code",
   "execution_count": null,
   "metadata": {},
   "outputs": [],
   "source": []
  }
 ],
 "metadata": {
  "kernelspec": {
   "display_name": "Python 3",
   "language": "python",
   "name": "python3"
  },
  "language_info": {
   "codemirror_mode": {
    "name": "ipython",
    "version": 3
   },
   "file_extension": ".py",
   "mimetype": "text/x-python",
   "name": "python",
   "nbconvert_exporter": "python",
   "pygments_lexer": "ipython3",
   "version": "3.7.3"
  }
 },
 "nbformat": 4,
 "nbformat_minor": 4
}
